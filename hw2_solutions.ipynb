{
 "cells": [
  {
   "cell_type": "markdown",
   "metadata": {},
   "source": [
    "# HW2: How did these men win the elections?"
   ]
  },
  {
   "cell_type": "markdown",
   "metadata": {},
   "source": [
    "<img width=600 height=300 src=\"http://i.huffpost.com/gen/613496/images/o-BOEHNER-MCCONNELL-facebook.jpg\"/>\n",
    "\n",
    "\n",
    "In HW1, we scraped music data from Wikipedia and Billboard, and did some exploratory data analysis on this data. We saw how to construct features that might lead to reasonable predictions. Let's put those modeling skills to practice.\n",
    "\n",
    "This assignment is about working with election data for prediction. To this end, our main focus will be to implement and evaluate a number of sophisticated forecasting techniques.\n",
    "\n",
    "This was the [XKCD comic](http://xkcd.com/1131/) after the 2012 Presidential election:\n",
    "\n",
    "<img width=600 height=300 src=\"http://imgs.xkcd.com/comics/math.png\"/>\n",
    "\n",
    "\n",
    "The comic refers to the fact that Nate Silver's statistical model (which is based on combining information from pre-election polls with fundamentals information about the voting public such as income and partisanship) correctly predicted the outcome of the 2012 presidential race in all 50 states.\n",
    "\n",
    "We are going to focus on the 2014 Senate election. Polling data isn't a perfect predictor for the future, and some polls are more accurate than others. This means that election forecasters must consider prediction uncertainty when building models. We shall first use polling data as _samples_ of the _population_ value of a contestants vote for a senate seat. Secondly, historical elections of the house will also be used as examples of building _fundamentals models_. We shall use explanatory regressions on house data to see what impact incumbency has on election results. Finally we shall construct a simple _fundamentals_ model as a way of _regularizing_ results from our samples of elections for some senate seats, and see if they improve predictions. You will then write a short piece, while pretending to be a journalist (unless you are one), about the process of constructing your senate model and the results that were obtained from it.\n",
    "\n",
    "The aims of this assignment are:\n",
    "\n",
    "- To practice data manipulation with Pandas\n",
    "- To develop intuition about sampling and bias when making predictions\n",
    "- To understand how to use regression for explanation\n",
    "- To better understand how election forecasts are constructed, especially the inputting of other information (e.g. demographic)\n",
    "- learning how to combine various models\n",
    "- learning how to write about your analysis.\n",
    "\n",
    "The data for our analysis will come from demographic and polling data. \n",
    "\n",
    "We will **simulate building our model on NOV 2nd 2014** -- approximately two days before the election, so that we can check our predictions against actual results.\n",
    "\n"
   ]
  },
  {
   "cell_type": "markdown",
   "metadata": {},
   "source": [
    "##This homework is due Thursday, October 8th, at 11:59PM EST.\n",
    "\n",
    "We'll grade the last commit you make before the homework deadline, which is 11:59PM, Thursday, October 8th. We will be looking for the files `hw2.ipynb` AND `article.md`."
   ]
  },
  {
   "cell_type": "markdown",
   "metadata": {},
   "source": [
    "#Table of Contents\n",
    "* [HW2: How did these men win the elections?](#HW2:-How-did-these-men-win-the-elections?)\n",
    "\t* [The US electoral system](#The-US-electoral-system)\n",
    "\t* [Q1 Predicting Elections from Samples](#Q1-Predicting-Elections-from-Samples)\n",
    "\t\t* [Obtaining and cleaning the data](#Obtaining-and-cleaning-the-data)\n",
    "\t\t\t* [1.1 Use python's requests module to download all the data associated with this topic.](#1.1-Use-python's-requests-module-to-download-all-the-data-associated-with-this-topic.)\n",
    "\t\t\t* [Let us create a dataframe `multipoll` from the data](#Let-us-create-a-dataframe-multipoll-from-the-data)\n",
    "\t\t\t* [1.2 Write code to find the days from \"today\" to  each poll, and to calculate the Rep/Dem spread.](#1.2-Write-code-to-find-the-days-from-\"today\"-to--each-poll,-and-to-calculate-the-Rep/Dem-spread.)\n",
    "\t\t* [Simple Aggregation](#Simple-Aggregation)\n",
    "\t\t\t* [1.3 Study the spread by state](#1.3-Study-the-spread-by-state)\n",
    "\t\t\t* [1.4 Write a function that uses this predictive model to simulate the outcome of the election given a Dataframe of probabilities.](#1.4-Write-a-function-that-uses-this-predictive-model-to-simulate-the-outcome-of-the-election-given-a-Dataframe-of-probabilities.)\n",
    "\t\t\t* [1.5 Checking your predictions against the actual results](#1.5-Checking-your-predictions-against-the-actual-results)\n",
    "\t\t* [Weighted Aggregation](#Weighted-Aggregation)\n",
    "\t\t\t* [1.6 Now create a weighted race average.](#1.6-Now-create-a-weighted-race-average.)\n",
    "\t\t\t* [1.7 Plot the results as before for the weighted simulations](#1.7-Plot-the-results-as-before-for-the-weighted-simulations)\n",
    "\t\t* [Looking deeper into the results](#Looking-deeper-into-the-results)\n",
    "\t\t\t* [1.8 Plot the predicted spreads from `joined` for each state](#1.8-Plot-the-predicted-spreads-from-joined-for-each-state)\n",
    "\t* [2. Predicting an election from a previous one: using linear regression to get vote fractions and study the effects of incumbency](#2.-Predicting-an-election-from-a-previous-one:-using-linear-regression-to-get-vote-fractions-and-study-the-effects-of-incumbency)\n",
    "\t\t* [The State Fundamentals Model](#The-State-Fundamentals-Model)\n",
    "\t\t\t* [Data Preparation and Cleaning](#Data-Preparation-and-Cleaning)\n",
    "\t\t\t* [Seeing linearity](#Seeing-linearity)\n",
    "\t\t* [Linear Regression](#Linear-Regression)\n",
    "\t\t\t* [Prediction vs Explanation](#Prediction-vs-Explanation)\n",
    "\t\t* [Interpretable Regressions](#Interpretable-Regressions)\n",
    "\t\t\t* [2.1 Explain the coefficient of Incumbency](#2.1-Explain-the-coefficient-of-Incumbency)\n",
    "\t\t\t* [2.2 Write a function `ols_regression`  to do such a linear regression for every pair of years](#2.2-Write-a-function-ols_regression--to-do-such-a-linear-regression-for-every-pair-of-years)\n",
    "\t\t\t* [2.2 Carry out the linear regression `DP ~ DP1 + I + P` for all the year pairs](#2.2-Carry-out-the-linear-regression-DP-~-DP1-+-I-+-P-for-all-the-year-pairs)\n",
    "\t\t\t\t* [Inference using Bootstrap](#Inference-using-Bootstrap)\n",
    "\t\t\t* [2.3 Bootstrap a distribution for the coefficient of I for 1990-1988](#2.3-Bootstrap-a-distribution-for-the-coefficient-of-I-for-1990-1988)\n",
    "\t\t\t\t* [Inference using p-values](#Inference-using-p-values)\n",
    "\t\t\t* [2.4 What can we say from thevalues of the incumbency coefficients over time?](#2.4-What-can-we-say-from-thevalues-of-the-incumbency-coefficients-over-time?)\n",
    "\t\t* [Is the regression complete? Or do we need more features?](#Is-the-regression-complete?-Or-do-we-need-more-features?)\n",
    "\t\t\t* [2.5 Carry out the linear regression with an interaction between the previous elections democratic fraction and this elections incumbency, for all the year pairs](#2.5-Carry-out-the-linear-regression-with-an-interaction-between-the-previous-elections-democratic-fraction-and-this-elections-incumbency,-for-all-the-year-pairs)\n",
    "\t\t* [Further work for later: Causal Models](#Further-work-for-later:-Causal-Models)\n",
    "\t* [Q3. Improving our senate predictions via \"state fundamentals\"](#Q3.-Improving-our-senate-predictions-via-\"state-fundamentals\")\n",
    "\t\t* [Estimating election bias using the house](#Estimating-election-bias-using-the-house)\n",
    "\t\t* [Incumbency and Partisan-ness](#Incumbency-and-Partisan-ness)\n",
    "\t\t\t* [3.1 create new columns in the incumbency data frame `ridf` called  `spread` and `cspread`](#3.1-create-new-columns-in-the-incumbency-data-frame-ridf-called--spread-and-cspread)\n",
    "\t\t\t* [Obtain `spread` and `cspread` from the PVI](#Obtain-spread-and-cspread-from-the-PVI)\n",
    "\t\t* [Incorporating \"state fundamentals\" as a new poll](#Incorporating-\"state-fundamentals\"-as-a-new-poll)\n",
    "\t\t\t* [3.2 Combine PVI spreads and incumbency spreads into a model](#3.2-Combine-PVI-spreads-and-incumbency-spreads-into-a-model)\n",
    "\t\t\t* [We write code which uses the template and the above mapper function to return a dataframe `additional_polls`](#We-write-code-which-uses-the-template-and-the-above-mapper-function-to-return-a-dataframe-additional_polls)\n",
    "\t\t* [Re-visualize](#Re-visualize)\n",
    "\t\t\t* [3.3 Calculate a weighted average, simulate from it, and plot as before where our result lies.](#3.3-Calculate-a-weighted-average,-simulate-from-it,-and-plot-as-before-where-our-result-lies.)\n",
    "\t\t\t* [3.4 Now Compare the individual results, just like before](#3.4-Now-Compare-the-individual-results,-just-like-before)\n",
    "\t* [Q4. Write a newspaper article about the senate election](#Q4.-Write-a-newspaper-article-about-the-senate-election)\n"
   ]
  },
  {
   "cell_type": "markdown",
   "metadata": {},
   "source": [
    "## The US electoral system"
   ]
  },
  {
   "cell_type": "markdown",
   "metadata": {},
   "source": [
    "U.S. Senate seats come up for election every 6 years, barring the retirement, death, or appointment to other office of a senator. Not all seats come up every election: the senate seats open are typically split between presidential-election years and mid term elections (2 years after the presidential election and 2 years before the next one). In contrast, elections to the House happen every two years, giving us a wealth of data to understand demographic and other trends. In our analysis of the house, we will not compare data from the \"10\" years and \"12\" years, such as 1990 and 1992, as redistricting happens at this time."
   ]
  },
  {
   "cell_type": "code",
   "execution_count": 1,
   "metadata": {
    "collapsed": true
   },
   "outputs": [],
   "source": [
    "%matplotlib inline\n",
    "import numpy as np\n",
    "import scipy as sp\n",
    "import matplotlib as mpl\n",
    "import matplotlib.cm as cm\n",
    "import matplotlib.pyplot as plt\n",
    "import pandas as pd\n",
    "pd.set_option('display.width', 500)\n",
    "pd.set_option('display.max_columns', 100)\n",
    "pd.set_option('display.notebook_repr_html', True)\n",
    "import seaborn as sns\n",
    "sns.set_style(\"whitegrid\")\n",
    "sns.set_context(\"poster\")"
   ]
  },
  {
   "cell_type": "markdown",
   "metadata": {},
   "source": [
    "## Q1 Predicting Elections from Samples"
   ]
  },
  {
   "cell_type": "markdown",
   "metadata": {},
   "source": [
    "In this question we'll use _samples_ of an election in a state to _predict_ the behavior of the electoral population in the state. The election we will consider, specifically, are the senate elections from 2014."
   ]
  },
  {
   "cell_type": "markdown",
   "metadata": {},
   "source": [
    "### Obtaining and cleaning the data"
   ]
  },
  {
   "cell_type": "markdown",
   "metadata": {},
   "source": [
    "We will use the [**Huffpost Pollster API**](http://elections.huffingtonpost.com/pollster/api) to obtain polls about the 2014 US senate elections. Specifically we will be interested in the _topic_ `2014-senate`. You can read more about _topics_ at the above link. There were 36 seats up for grabs. \n",
    "\n",
    "It may help to install a JSON viewer extension to your browser (e.g. for Chrome you can use [JSONView](https://www.google.com/url?sa=t&rct=j&q=&esrc=s&source=web&cd=1&cad=rja&uact=8&ved=0CB0QFjAAahUKEwiGndze6o_IAhXDq4AKHUEIAks&url=https%3A%2F%2Fchrome.google.com%2Fwebstore%2Fdetail%2Fjsonview%2Fchklaanhfefbnpoihckbnefhakgolnmc%3Fhl%3Den&usg=AFQjCNH3ET5JyRh_aKGH_G5Ws5MXENK5bA&sig2=tj_E5YuUZ79ZuNamvz5PHA)) in order to make sense of the JSON file we'll be downloading."
   ]
  },
  {
   "cell_type": "markdown",
   "metadata": {},
   "source": [
    "#### 1.1 Use python's requests module to download all the data associated with this topic. "
   ]
  },
  {
   "cell_type": "markdown",
   "metadata": {},
   "source": [
    "The data will be in multiple pages, each of which has about 10 JSON dictionaries. (Hint: When we did this, we found there to be 86 pages and a total of 845 JSON dictionaries.) **Leave a second of time between each downloaded page**. Create an array `lpolls` where you store all of 845 dictionaries."
   ]
  },
  {
   "cell_type": "code",
   "execution_count": 2,
   "metadata": {
    "collapsed": true
   },
   "outputs": [],
   "source": [
    "import requests\n",
    "import time\n",
    "import json"
   ]
  },
  {
   "cell_type": "code",
   "execution_count": 3,
   "metadata": {
    "collapsed": false,
    "scrolled": true
   },
   "outputs": [],
   "source": [
    "# your code here\n",
    "lpolls=[]\n",
    "lpolls2={}\n",
    "for i in range(86):\n",
    "    req=requests.get(\"http://elections.huffingtonpost.com/pollster/api/polls/?topic=2014-senate&page=\"+str(i+1))\n",
    "    lpolls2[i]=req.json()\n",
    "    lpolls=lpolls+lpolls2[i]\n",
    "    time.sleep(1)"
   ]
  },
  {
   "cell_type": "markdown",
   "metadata": {},
   "source": [
    "We'll store the `lpolls` array in JSON form in a file called `senatepolls.json`. **This will come in useful if your notebook session dies: you don't want to re-gather all the data every time you run this.**"
   ]
  },
  {
   "cell_type": "code",
   "execution_count": 4,
   "metadata": {
    "collapsed": false
   },
   "outputs": [],
   "source": [
    "fd=open(\"tempdata/senatepolls.json\",\"w\")\n",
    "json.dump(lpolls, fd)\n",
    "fd.close()"
   ]
  },
  {
   "cell_type": "code",
   "execution_count": 5,
   "metadata": {
    "collapsed": false
   },
   "outputs": [],
   "source": [
    "# If you need to reload you can use this code\n",
    "# import json\n",
    "# with open(\"tempdata/senatepolls.json\") as json_file:\n",
    "#     lpolls = json.load(json_file)\n",
    "#you might have to add code to get the correct types.."
   ]
  },
  {
   "cell_type": "markdown",
   "metadata": {},
   "source": [
    "#### Let us create a dataframe `multipoll` from the data"
   ]
  },
  {
   "cell_type": "markdown",
   "metadata": {},
   "source": [
    "The JSON data from the API has the following keys:\n",
    "\n",
    "* `start_date`\n",
    "* `end_date` \n",
    "* `pollster`\n",
    "* `partisan` \n",
    "* `affiliation`\n",
    "\n",
    "In order to organize this, we do several things. First, we combine `partisan` and `affiliation` to create a new `partisan` value. \n",
    "\n",
    "Next, there are multiple survey `questions` in each dictionary, **each of which is a separate poll**. We'll grab only the questions that have the `topic` value **`2014-senate`**. For each such question we capture the `name` and `chart`; these identify the specific senate election, and the `state` in which the election will be held. \n",
    "\n",
    "We then look at the **subpopulations surveyed** such as `registered voters` and `likely voters`. We'll consider each subpopulation as a **separate poll**. We grab the `name` of the subpopulation as the variable `subpopulation`. We also pick up the number of `observations`, and the margin of error `moe` (from `margin_of_error`). \n",
    "\n",
    "From the responses we pick up under **`r`** the number of republican votes, under **`d`** the number of democratic votes, and under `incumbent` whether the democratic or republican candidate is an incumbent."
   ]
  },
  {
   "cell_type": "code",
   "execution_count": 6,
   "metadata": {
    "collapsed": false
   },
   "outputs": [],
   "source": [
    "polldicts=[]\n",
    "for p in lpolls:\n",
    "    d={}\n",
    "    d['start_date']=p['start_date']\n",
    "    d['end_date']=p['end_date']\n",
    "    d['pollster']=p['pollster']\n",
    "    d['partisan']=p['partisan']+\"/\"+p['affiliation']\n",
    "    for q in p['questions']:\n",
    "        if q['topic']==\"2014-senate\":\n",
    "            d2=d.copy()\n",
    "            d2['name']=q['name']\n",
    "            d2['chart']=q['chart']\n",
    "            d2['state']=q['state']\n",
    "            for s in q['subpopulations']:\n",
    "                d3=d2.copy()\n",
    "                d3['subpopulation']=s['name']\n",
    "                d3['observations']=s['observations']\n",
    "                d3['moe']=s['margin_of_error']\n",
    "                d3['incumbent']=\"I\"\n",
    "                d3['r']=0.0\n",
    "                d3['d']=0.0\n",
    "                for r in s['responses']:\n",
    "                    if r['party']=='Rep':\n",
    "                        d3['r']=r['value']\n",
    "                        if r['incumbent']==True:\n",
    "                            d3['incumbent']='r'\n",
    "                    if r['party']=='Dem':\n",
    "                        d3['d']=r['value']\n",
    "                        if r['incumbent']==True:\n",
    "                            d3['incumbent']='d'\n",
    "                polldicts.append(d3)                "
   ]
  },
  {
   "cell_type": "markdown",
   "metadata": {},
   "source": [
    "This is what we end up with."
   ]
  },
  {
   "cell_type": "code",
   "execution_count": 7,
   "metadata": {
    "collapsed": false
   },
   "outputs": [
    {
     "data": {
      "text/html": [
       "<div>\n",
       "<table border=\"1\" class=\"dataframe\">\n",
       "  <thead>\n",
       "    <tr style=\"text-align: right;\">\n",
       "      <th></th>\n",
       "      <th>chart</th>\n",
       "      <th>d</th>\n",
       "      <th>end_date</th>\n",
       "      <th>incumbent</th>\n",
       "      <th>moe</th>\n",
       "      <th>name</th>\n",
       "      <th>observations</th>\n",
       "      <th>partisan</th>\n",
       "      <th>pollster</th>\n",
       "      <th>r</th>\n",
       "      <th>start_date</th>\n",
       "      <th>state</th>\n",
       "      <th>subpopulation</th>\n",
       "    </tr>\n",
       "  </thead>\n",
       "  <tbody>\n",
       "    <tr>\n",
       "      <th>0</th>\n",
       "      <td>2014-louisiana-senate-cassidy-vs-landrieu</td>\n",
       "      <td>40</td>\n",
       "      <td>2014-12-04</td>\n",
       "      <td>d</td>\n",
       "      <td>3.0</td>\n",
       "      <td>2014 Louisiana Senate: Cassidy vs. Landrieu</td>\n",
       "      <td>1000</td>\n",
       "      <td>Nonpartisan/None</td>\n",
       "      <td>Rasmussen</td>\n",
       "      <td>56</td>\n",
       "      <td>2014-12-02</td>\n",
       "      <td>LA</td>\n",
       "      <td>Likely Voters</td>\n",
       "    </tr>\n",
       "    <tr>\n",
       "      <th>1</th>\n",
       "      <td>2014-louisiana-senate-cassidy-vs-landrieu</td>\n",
       "      <td>33</td>\n",
       "      <td>2014-11-25</td>\n",
       "      <td>d</td>\n",
       "      <td>4.4</td>\n",
       "      <td>2014 Louisiana Senate: Cassidy vs. Landrieu</td>\n",
       "      <td>500</td>\n",
       "      <td>Sponsor/Rep</td>\n",
       "      <td>Wilson Perkins Allen Opinion Research (R-Indep...</td>\n",
       "      <td>57</td>\n",
       "      <td>2014-11-24</td>\n",
       "      <td>LA</td>\n",
       "      <td>Likely Voters</td>\n",
       "    </tr>\n",
       "  </tbody>\n",
       "</table>\n",
       "</div>"
      ],
      "text/plain": [
       "                                       chart   d    end_date incumbent  moe                                         name  observations          partisan                                           pollster   r  start_date state  subpopulation\n",
       "0  2014-louisiana-senate-cassidy-vs-landrieu  40  2014-12-04         d  3.0  2014 Louisiana Senate: Cassidy vs. Landrieu          1000  Nonpartisan/None                                          Rasmussen  56  2014-12-02    LA  Likely Voters\n",
       "1  2014-louisiana-senate-cassidy-vs-landrieu  33  2014-11-25         d  4.4  2014 Louisiana Senate: Cassidy vs. Landrieu           500       Sponsor/Rep  Wilson Perkins Allen Opinion Research (R-Indep...  57  2014-11-24    LA  Likely Voters"
      ]
     },
     "execution_count": 7,
     "metadata": {},
     "output_type": "execute_result"
    }
   ],
   "source": [
    "multipoll=pd.DataFrame(polldicts)\n",
    "multipoll.head(2)"
   ]
  },
  {
   "cell_type": "markdown",
   "metadata": {},
   "source": [
    "We chose to **remove some races** because they involve polling for candidates who ultimately dropped out.\n",
    "\n",
    "There were some peculiarities in this senate election. You can see the results [here](http://elections.huffingtonpost.com/2014/results). Firstly, note that in Kansas, the democratic candidate Taylor withdrew in favor of an independent, Greg Orman, who was likely to caucus with the democrats. We shall treat him as a Democrat. \n",
    "\n",
    "Secondly note that Louisiana has a \"open primary.\" If no candidate gets more than 50 percent of the votes, the top two candidates will move on to a runoff on Dec. 6. Indeed this did not happen and a runoff on Dec 6th had the democratic candidate Mary Landrieu lose even though she won the primary by a tight margin. We shall pretend here that she won. There was also a second republican candidate who thus split the vote for the republicans -- we ignore this. \n",
    "\n",
    "In Alabama the Republican senator won unopposed. We shall remove this race from our consideration, bringing the total number of elections to 35. In all seats we ignore third party vote percentages even if they were significant, except in the case of Greg Orman.\n",
    "\n",
    "**Important sidebar**: there will be irregularities in most large datasets you'll encounter. In this case we made subjective decisions on how to handle these cases. Disclosing this is an important part of an analysis. "
   ]
  },
  {
   "cell_type": "code",
   "execution_count": 8,
   "metadata": {
    "collapsed": true
   },
   "outputs": [],
   "source": [
    "remove=[u'2014-alaska-senate-miller-vs-begich',\n",
    " u'2014-alaska-senate-treadwell-vs-begich',\n",
    " u'2014-georgia-senate-broun-vs-nunn',\n",
    " u'2014-georgia-senate-gingrey-vs-nunn',\n",
    " u'2014-georgia-senate-handel-vs-nunn',\n",
    " u'2014-georgia-senate-kingston-vs-nunn',\n",
    " u'2014-georgia-senate-runoff',\n",
    "u'2014-iowa-senate-clovis-vs-braley',\n",
    " u'2014-iowa-senate-jacobs-vs-braley',\n",
    " u'2014-iowa-senate-whitaker-vs-braley',\n",
    "u'2014-kansas-senate-roberts-vs-orman-vs-taylor',\n",
    " u'2014-kansas-senate-wolf-vs-taylor',\n",
    "u'2014-kentucky-senate-bevin-vs-grimes',\n",
    " u'2014-kentucky-senate-mcconnell-vs-judd',\n",
    "u'2014-mississippi-senate-cochran-vs-childers',\n",
    " u'2014-new-hampshire-senate-bass-vs-shaheen',\n",
    " u'2014-north-carolina-senate-brannon-vs-hagan',\n",
    " u'2014-oregon-senate-conger-vs-merkley']"
   ]
  },
  {
   "cell_type": "code",
   "execution_count": 9,
   "metadata": {
    "collapsed": false
   },
   "outputs": [],
   "source": [
    "mask = [i not in remove for i in multipoll.chart]"
   ]
  },
  {
   "cell_type": "code",
   "execution_count": 10,
   "metadata": {
    "collapsed": false
   },
   "outputs": [],
   "source": [
    "multipoll=multipoll[mask]"
   ]
  },
  {
   "cell_type": "markdown",
   "metadata": {},
   "source": [
    "#### 1.2 Write code to find the days from \"today\" to  each poll, and to calculate the Rep/Dem spread."
   ]
  },
  {
   "cell_type": "markdown",
   "metadata": {},
   "source": [
    "Recall, that in this exercise \"today\" is **November 2nd, 2014**.\n",
    "\n",
    "Assume that the poll date is exactly in-between the start-date and end-date. We provide some code for pandas parsing of dates below."
   ]
  },
  {
   "cell_type": "code",
   "execution_count": 11,
   "metadata": {
    "collapsed": false
   },
   "outputs": [
    {
     "name": "stdout",
     "output_type": "stream",
     "text": [
      "2014-11-02 00:00:00\n"
     ]
    }
   ],
   "source": [
    "import datetime\n",
    "today = datetime.datetime(2014, 11, 2)\n",
    "print today\n",
    "multipoll.start_date = multipoll.start_date.apply(pd.datetools.parse)\n",
    "multipoll.end_date = multipoll.end_date.apply(pd.datetools.parse)"
   ]
  },
  {
   "cell_type": "markdown",
   "metadata": {},
   "source": [
    "Add a column `poll_date` to `multipoll` that gets the poll date (in between the start and end date of the poll). Also add a column `age_days` which calculates the number of days back from now to the poll. Filter `multipoll` to include only the polls before today. Finally calculate a column `spread` in `multipoll` which is the difference between the republican percentage and the democratic percentage. So if the Republicans are leading in a poll by 5 percentage points, the `spread` should be 5.\n",
    "\n",
    "Reading the cs109 elections homework, from 2 years back (see http://nbviewer.ipython.org/github/cs109/content/blob/master/HW2_solutions.ipynb ) will help you immensely with this part of the homework."
   ]
  },
  {
   "cell_type": "code",
   "execution_count": 12,
   "metadata": {
    "collapsed": false
   },
   "outputs": [],
   "source": [
    "#your code here\n",
    "multipoll['poll_date'] = multipoll.start_date + (multipoll.end_date - multipoll.start_date).values / 2      \n",
    "\n",
    "#compute the poll age relative to Nov 1, in days\n",
    "multipoll['age_days'] = (today - multipoll['poll_date']).values / np.timedelta64(1, 'D')\n",
    "multipoll = multipoll[multipoll.age_days > 0]\n",
    "multipoll['spread']=multipoll.r - multipoll.d"
   ]
  },
  {
   "cell_type": "markdown",
   "metadata": {},
   "source": [
    "Lets see what `multipoll` now looks like. It should have 16 columns if you did this right."
   ]
  },
  {
   "cell_type": "code",
   "execution_count": 13,
   "metadata": {
    "collapsed": false
   },
   "outputs": [
    {
     "data": {
      "text/plain": [
       "16"
      ]
     },
     "execution_count": 13,
     "metadata": {},
     "output_type": "execute_result"
    }
   ],
   "source": [
    "len(multipoll.columns)"
   ]
  },
  {
   "cell_type": "code",
   "execution_count": 14,
   "metadata": {
    "collapsed": false
   },
   "outputs": [
    {
     "data": {
      "text/html": [
       "<div>\n",
       "<table border=\"1\" class=\"dataframe\">\n",
       "  <thead>\n",
       "    <tr style=\"text-align: right;\">\n",
       "      <th></th>\n",
       "      <th>chart</th>\n",
       "      <th>d</th>\n",
       "      <th>end_date</th>\n",
       "      <th>incumbent</th>\n",
       "      <th>moe</th>\n",
       "      <th>name</th>\n",
       "      <th>observations</th>\n",
       "      <th>partisan</th>\n",
       "      <th>pollster</th>\n",
       "      <th>r</th>\n",
       "      <th>start_date</th>\n",
       "      <th>state</th>\n",
       "      <th>subpopulation</th>\n",
       "      <th>poll_date</th>\n",
       "      <th>age_days</th>\n",
       "      <th>spread</th>\n",
       "    </tr>\n",
       "  </thead>\n",
       "  <tbody>\n",
       "    <tr>\n",
       "      <th>11</th>\n",
       "      <td>2014-georgia-senate-perdue-vs-nunn</td>\n",
       "      <td>45</td>\n",
       "      <td>2014-11-02</td>\n",
       "      <td>I</td>\n",
       "      <td>2.6</td>\n",
       "      <td>2014 Georgia Senate: Perdue vs. Nunn</td>\n",
       "      <td>1463</td>\n",
       "      <td>Nonpartisan/None</td>\n",
       "      <td>InsiderAdvantage/Fox 5 Atlanta/Morris News Ser...</td>\n",
       "      <td>48</td>\n",
       "      <td>2014-10-30</td>\n",
       "      <td>GA</td>\n",
       "      <td>Likely Voters</td>\n",
       "      <td>2014-10-31 12:00:00</td>\n",
       "      <td>1.5</td>\n",
       "      <td>3</td>\n",
       "    </tr>\n",
       "    <tr>\n",
       "      <th>13</th>\n",
       "      <td>2014-georgia-senate-perdue-vs-nunn</td>\n",
       "      <td>44</td>\n",
       "      <td>2014-11-02</td>\n",
       "      <td>I</td>\n",
       "      <td>4.1</td>\n",
       "      <td>2014 Georgia Senate: Perdue vs. Nunn</td>\n",
       "      <td>591</td>\n",
       "      <td>Nonpartisan/None</td>\n",
       "      <td>SurveyUSA/11Alive</td>\n",
       "      <td>47</td>\n",
       "      <td>2014-10-30</td>\n",
       "      <td>GA</td>\n",
       "      <td>Likely Voters</td>\n",
       "      <td>2014-10-31 12:00:00</td>\n",
       "      <td>1.5</td>\n",
       "      <td>3</td>\n",
       "    </tr>\n",
       "  </tbody>\n",
       "</table>\n",
       "</div>"
      ],
      "text/plain": [
       "                                 chart   d   end_date incumbent  moe                                  name  observations          partisan                                           pollster   r start_date state  subpopulation           poll_date  age_days  spread\n",
       "11  2014-georgia-senate-perdue-vs-nunn  45 2014-11-02         I  2.6  2014 Georgia Senate: Perdue vs. Nunn          1463  Nonpartisan/None  InsiderAdvantage/Fox 5 Atlanta/Morris News Ser...  48 2014-10-30    GA  Likely Voters 2014-10-31 12:00:00       1.5       3\n",
       "13  2014-georgia-senate-perdue-vs-nunn  44 2014-11-02         I  4.1  2014 Georgia Senate: Perdue vs. Nunn           591  Nonpartisan/None                                  SurveyUSA/11Alive  47 2014-10-30    GA  Likely Voters 2014-10-31 12:00:00       1.5       3"
      ]
     },
     "execution_count": 14,
     "metadata": {},
     "output_type": "execute_result"
    }
   ],
   "source": [
    "multipoll.head(2)"
   ]
  },
  {
   "cell_type": "markdown",
   "metadata": {},
   "source": [
    "Let's remove the polls for which the margin of error is not known, and get a rough idea of the average margin of error when compared to the spread."
   ]
  },
  {
   "cell_type": "code",
   "execution_count": 15,
   "metadata": {
    "collapsed": false
   },
   "outputs": [],
   "source": [
    "multipoll=multipoll[multipoll.moe.notnull()]\n"
   ]
  },
  {
   "cell_type": "code",
   "execution_count": 16,
   "metadata": {
    "collapsed": false
   },
   "outputs": [
    {
     "data": {
      "text/plain": [
       "(3.7998455598455627, 13.463951584805713)"
      ]
     },
     "execution_count": 16,
     "metadata": {},
     "output_type": "execute_result"
    }
   ],
   "source": [
    "multipoll.moe.mean(), np.sqrt(np.mean(multipoll.spread**2))"
   ]
  },
  {
   "cell_type": "markdown",
   "metadata": {},
   "source": [
    "Pollsters calculate the MOE for us based on many considerations, but note that you can yourself estimate MOE by using Binomial Sampling Error (http://onlinestatbook.com/2/sampling_distributions/samp_dist_p.html)"
   ]
  },
  {
   "cell_type": "markdown",
   "metadata": {},
   "source": [
    "There were two races in Oklahoma and South Carolina. We label the state for the second of these races as `OK2` and `SC2`."
   ]
  },
  {
   "cell_type": "code",
   "execution_count": 17,
   "metadata": {
    "collapsed": false
   },
   "outputs": [],
   "source": [
    "multipoll.loc[multipoll.chart=='2014-oklahoma-senate-lankford-vs-johnson','state']='OK2'"
   ]
  },
  {
   "cell_type": "code",
   "execution_count": 18,
   "metadata": {
    "collapsed": true
   },
   "outputs": [],
   "source": [
    "multipoll.loc[multipoll.chart=='2014-south-carolina-senate-scott-vs-dickerson','state']='SC2'"
   ]
  },
  {
   "cell_type": "code",
   "execution_count": 19,
   "metadata": {
    "collapsed": false
   },
   "outputs": [
    {
     "data": {
      "text/html": [
       "<div>\n",
       "<table border=\"1\" class=\"dataframe\">\n",
       "  <thead>\n",
       "    <tr style=\"text-align: right;\">\n",
       "      <th></th>\n",
       "      <th>chart</th>\n",
       "      <th>d</th>\n",
       "      <th>end_date</th>\n",
       "      <th>incumbent</th>\n",
       "      <th>moe</th>\n",
       "      <th>name</th>\n",
       "      <th>observations</th>\n",
       "      <th>partisan</th>\n",
       "      <th>pollster</th>\n",
       "      <th>r</th>\n",
       "      <th>start_date</th>\n",
       "      <th>state</th>\n",
       "      <th>subpopulation</th>\n",
       "      <th>poll_date</th>\n",
       "      <th>age_days</th>\n",
       "      <th>spread</th>\n",
       "    </tr>\n",
       "  </thead>\n",
       "  <tbody>\n",
       "    <tr>\n",
       "      <th>11</th>\n",
       "      <td>2014-georgia-senate-perdue-vs-nunn</td>\n",
       "      <td>45</td>\n",
       "      <td>2014-11-02</td>\n",
       "      <td>I</td>\n",
       "      <td>2.6</td>\n",
       "      <td>2014 Georgia Senate: Perdue vs. Nunn</td>\n",
       "      <td>1463</td>\n",
       "      <td>Nonpartisan/None</td>\n",
       "      <td>InsiderAdvantage/Fox 5 Atlanta/Morris News Ser...</td>\n",
       "      <td>48</td>\n",
       "      <td>2014-10-30</td>\n",
       "      <td>GA</td>\n",
       "      <td>Likely Voters</td>\n",
       "      <td>2014-10-31 12:00:00</td>\n",
       "      <td>1.5</td>\n",
       "      <td>3</td>\n",
       "    </tr>\n",
       "    <tr>\n",
       "      <th>13</th>\n",
       "      <td>2014-georgia-senate-perdue-vs-nunn</td>\n",
       "      <td>44</td>\n",
       "      <td>2014-11-02</td>\n",
       "      <td>I</td>\n",
       "      <td>4.1</td>\n",
       "      <td>2014 Georgia Senate: Perdue vs. Nunn</td>\n",
       "      <td>591</td>\n",
       "      <td>Nonpartisan/None</td>\n",
       "      <td>SurveyUSA/11Alive</td>\n",
       "      <td>47</td>\n",
       "      <td>2014-10-30</td>\n",
       "      <td>GA</td>\n",
       "      <td>Likely Voters</td>\n",
       "      <td>2014-10-31 12:00:00</td>\n",
       "      <td>1.5</td>\n",
       "      <td>3</td>\n",
       "    </tr>\n",
       "  </tbody>\n",
       "</table>\n",
       "</div>"
      ],
      "text/plain": [
       "                                 chart   d   end_date incumbent  moe                                  name  observations          partisan                                           pollster   r start_date state  subpopulation           poll_date  age_days  spread\n",
       "11  2014-georgia-senate-perdue-vs-nunn  45 2014-11-02         I  2.6  2014 Georgia Senate: Perdue vs. Nunn          1463  Nonpartisan/None  InsiderAdvantage/Fox 5 Atlanta/Morris News Ser...  48 2014-10-30    GA  Likely Voters 2014-10-31 12:00:00       1.5       3\n",
       "13  2014-georgia-senate-perdue-vs-nunn  44 2014-11-02         I  4.1  2014 Georgia Senate: Perdue vs. Nunn           591  Nonpartisan/None                                  SurveyUSA/11Alive  47 2014-10-30    GA  Likely Voters 2014-10-31 12:00:00       1.5       3"
      ]
     },
     "execution_count": 19,
     "metadata": {},
     "output_type": "execute_result"
    }
   ],
   "source": [
    "multipoll.head(2)"
   ]
  },
  {
   "cell_type": "markdown",
   "metadata": {},
   "source": [
    "Now that our data in  `multipoll` looks like it's in pretty good shape, we can move on to make predictions. You may want to save the dataframe to a csv file so you have it handy when needed...."
   ]
  },
  {
   "cell_type": "markdown",
   "metadata": {},
   "source": [
    "### Simple Aggregation"
   ]
  },
  {
   "cell_type": "markdown",
   "metadata": {},
   "source": [
    "The idea we'll use for making prediction is very simple: bringing homogeneous information about the election together. This is done by aggregating different polling results.\n",
    "\n",
    "This approach -- used as a first-pass by the professional poll analysts -- involves combining many polls about the election itself. One advantage of this approach is that it *ostensibly* addresses the problem of bias in individual polls. If we assume that the polls are all attempting to estimate the same quantity, we can increase the accuracy of this estimate by averaging many polls.  In reality though, pollsters also try to correct for known biases, and weight polls based on trustworthiness. We'll do the latter in the following section."
   ]
  },
  {
   "cell_type": "markdown",
   "metadata": {},
   "source": [
    "#### 1.3 Study the spread by state"
   ]
  },
  {
   "cell_type": "markdown",
   "metadata": {},
   "source": [
    "Using this data, compute a new data frame that contains the average of `spread` for each state. Also compute the standard deviation of the spread in each state as well as the number of polls. Use sample standard deviation as defined in pandas rather than `numpy` `np.std`. (The former uses N-1 in the denominator, the latter N).\n",
    "\n",
    "Define a function `race_average` which returns this data frame. The exact signature of the function is in the cell below.\n",
    "\n",
    "**Hint**: [`pd.GroupBy`](http://pandas.pydata.org/pandas-docs/stable/groupby.html) could come in handy.\n",
    "\n",
    "Note here that we can now refer to race by the `state` column in the data frame, since we encoded the second races in `SC` and `OK` as `SC2` and `OK2` respectively."
   ]
  },
  {
   "cell_type": "code",
   "execution_count": 20,
   "metadata": {
    "collapsed": false
   },
   "outputs": [],
   "source": [
    "\"\"\"\n",
    "Function\n",
    "--------\n",
    "race_average\n",
    "\n",
    "Inputs\n",
    "------\n",
    "multipoll : DataFrame\n",
    "   The multipoll data above\n",
    "   \n",
    "Returns\n",
    "-------\n",
    "  A dataframe, indexed by State, with the following columns:\n",
    "     N: Number of polls averaged together\n",
    "     poll_mean: The average value for spread for all polls in this state\n",
    "     poll_std: The standard deviation of spread\n",
    "     state: the state in question. This is the same state as the index of this dataframe.\n",
    "     \n",
    "Notes\n",
    "-----\n",
    "For states where poll_std isn't finite (because N is 1), estimate the\n",
    "poll_std value as .05 * poll_mean\n",
    "\"\"\"\n",
    "#your code here\n",
    "def race_average(multipoll):\n",
    "    race = multipoll.groupby('state')\n",
    "    n = race.size()\n",
    "    s = race.spread.mean()\n",
    "    st = race.spread.std()\n",
    "    st[st.isnull()] = .05 * s[st.isnull()]\n",
    "    state=[e[0] for e in race.state.unique()]\n",
    "    return pd.DataFrame(dict(N=n, poll_mean=s, poll_std=st, state=state))"
   ]
  },
  {
   "cell_type": "markdown",
   "metadata": {},
   "source": [
    "Lets call the function on the `multipoll` data frame."
   ]
  },
  {
   "cell_type": "code",
   "execution_count": 21,
   "metadata": {
    "collapsed": false
   },
   "outputs": [
    {
     "data": {
      "text/html": [
       "<div>\n",
       "<table border=\"1\" class=\"dataframe\">\n",
       "  <thead>\n",
       "    <tr style=\"text-align: right;\">\n",
       "      <th></th>\n",
       "      <th>N</th>\n",
       "      <th>poll_mean</th>\n",
       "      <th>poll_std</th>\n",
       "      <th>state</th>\n",
       "    </tr>\n",
       "    <tr>\n",
       "      <th>state</th>\n",
       "      <th></th>\n",
       "      <th></th>\n",
       "      <th></th>\n",
       "      <th></th>\n",
       "    </tr>\n",
       "  </thead>\n",
       "  <tbody>\n",
       "    <tr>\n",
       "      <th>AK</th>\n",
       "      <td>29</td>\n",
       "      <td>-0.068966</td>\n",
       "      <td>5.830529</td>\n",
       "      <td>AK</td>\n",
       "    </tr>\n",
       "    <tr>\n",
       "      <th>AR</th>\n",
       "      <td>56</td>\n",
       "      <td>1.553571</td>\n",
       "      <td>5.077292</td>\n",
       "      <td>AR</td>\n",
       "    </tr>\n",
       "    <tr>\n",
       "      <th>CO</th>\n",
       "      <td>49</td>\n",
       "      <td>0.693878</td>\n",
       "      <td>3.943370</td>\n",
       "      <td>CO</td>\n",
       "    </tr>\n",
       "    <tr>\n",
       "      <th>DE</th>\n",
       "      <td>4</td>\n",
       "      <td>-15.500000</td>\n",
       "      <td>2.081666</td>\n",
       "      <td>DE</td>\n",
       "    </tr>\n",
       "    <tr>\n",
       "      <th>GA</th>\n",
       "      <td>46</td>\n",
       "      <td>1.913043</td>\n",
       "      <td>4.135623</td>\n",
       "      <td>GA</td>\n",
       "    </tr>\n",
       "    <tr>\n",
       "      <th>HI</th>\n",
       "      <td>8</td>\n",
       "      <td>-40.375000</td>\n",
       "      <td>10.487237</td>\n",
       "      <td>HI</td>\n",
       "    </tr>\n",
       "    <tr>\n",
       "      <th>IA</th>\n",
       "      <td>47</td>\n",
       "      <td>-0.361702</td>\n",
       "      <td>4.474204</td>\n",
       "      <td>IA</td>\n",
       "    </tr>\n",
       "    <tr>\n",
       "      <th>ID</th>\n",
       "      <td>6</td>\n",
       "      <td>29.833333</td>\n",
       "      <td>7.082843</td>\n",
       "      <td>ID</td>\n",
       "    </tr>\n",
       "    <tr>\n",
       "      <th>IL</th>\n",
       "      <td>15</td>\n",
       "      <td>-12.400000</td>\n",
       "      <td>4.102264</td>\n",
       "      <td>IL</td>\n",
       "    </tr>\n",
       "    <tr>\n",
       "      <th>KS</th>\n",
       "      <td>4</td>\n",
       "      <td>6.750000</td>\n",
       "      <td>2.362908</td>\n",
       "      <td>KS</td>\n",
       "    </tr>\n",
       "    <tr>\n",
       "      <th>KY</th>\n",
       "      <td>55</td>\n",
       "      <td>3.018182</td>\n",
       "      <td>3.846552</td>\n",
       "      <td>KY</td>\n",
       "    </tr>\n",
       "    <tr>\n",
       "      <th>LA</th>\n",
       "      <td>29</td>\n",
       "      <td>1.448276</td>\n",
       "      <td>5.213898</td>\n",
       "      <td>LA</td>\n",
       "    </tr>\n",
       "    <tr>\n",
       "      <th>MA</th>\n",
       "      <td>13</td>\n",
       "      <td>-22.461538</td>\n",
       "      <td>4.175631</td>\n",
       "      <td>MA</td>\n",
       "    </tr>\n",
       "    <tr>\n",
       "      <th>ME</th>\n",
       "      <td>14</td>\n",
       "      <td>32.928571</td>\n",
       "      <td>9.817287</td>\n",
       "      <td>ME</td>\n",
       "    </tr>\n",
       "    <tr>\n",
       "      <th>MI</th>\n",
       "      <td>66</td>\n",
       "      <td>-5.515152</td>\n",
       "      <td>5.427118</td>\n",
       "      <td>MI</td>\n",
       "    </tr>\n",
       "    <tr>\n",
       "      <th>MN</th>\n",
       "      <td>20</td>\n",
       "      <td>-11.050000</td>\n",
       "      <td>3.471311</td>\n",
       "      <td>MN</td>\n",
       "    </tr>\n",
       "    <tr>\n",
       "      <th>MS</th>\n",
       "      <td>2</td>\n",
       "      <td>7.500000</td>\n",
       "      <td>6.363961</td>\n",
       "      <td>MS</td>\n",
       "    </tr>\n",
       "    <tr>\n",
       "      <th>MT</th>\n",
       "      <td>7</td>\n",
       "      <td>17.142857</td>\n",
       "      <td>2.968084</td>\n",
       "      <td>MT</td>\n",
       "    </tr>\n",
       "    <tr>\n",
       "      <th>NC</th>\n",
       "      <td>74</td>\n",
       "      <td>-2.594595</td>\n",
       "      <td>4.030429</td>\n",
       "      <td>NC</td>\n",
       "    </tr>\n",
       "    <tr>\n",
       "      <th>NE</th>\n",
       "      <td>6</td>\n",
       "      <td>24.500000</td>\n",
       "      <td>4.183300</td>\n",
       "      <td>NE</td>\n",
       "    </tr>\n",
       "    <tr>\n",
       "      <th>NH</th>\n",
       "      <td>61</td>\n",
       "      <td>-5.442623</td>\n",
       "      <td>4.620695</td>\n",
       "      <td>NH</td>\n",
       "    </tr>\n",
       "    <tr>\n",
       "      <th>NJ</th>\n",
       "      <td>15</td>\n",
       "      <td>-13.733333</td>\n",
       "      <td>4.199773</td>\n",
       "      <td>NJ</td>\n",
       "    </tr>\n",
       "    <tr>\n",
       "      <th>NM</th>\n",
       "      <td>12</td>\n",
       "      <td>-14.583333</td>\n",
       "      <td>5.160309</td>\n",
       "      <td>NM</td>\n",
       "    </tr>\n",
       "    <tr>\n",
       "      <th>OK</th>\n",
       "      <td>10</td>\n",
       "      <td>30.400000</td>\n",
       "      <td>6.292853</td>\n",
       "      <td>OK</td>\n",
       "    </tr>\n",
       "    <tr>\n",
       "      <th>OK2</th>\n",
       "      <td>10</td>\n",
       "      <td>30.000000</td>\n",
       "      <td>5.312459</td>\n",
       "      <td>OK2</td>\n",
       "    </tr>\n",
       "    <tr>\n",
       "      <th>OR</th>\n",
       "      <td>19</td>\n",
       "      <td>-13.315789</td>\n",
       "      <td>6.608518</td>\n",
       "      <td>OR</td>\n",
       "    </tr>\n",
       "    <tr>\n",
       "      <th>RI</th>\n",
       "      <td>4</td>\n",
       "      <td>-35.500000</td>\n",
       "      <td>11.150486</td>\n",
       "      <td>RI</td>\n",
       "    </tr>\n",
       "    <tr>\n",
       "      <th>SC</th>\n",
       "      <td>8</td>\n",
       "      <td>15.000000</td>\n",
       "      <td>2.672612</td>\n",
       "      <td>SC</td>\n",
       "    </tr>\n",
       "    <tr>\n",
       "      <th>SC2</th>\n",
       "      <td>6</td>\n",
       "      <td>21.500000</td>\n",
       "      <td>4.847680</td>\n",
       "      <td>SC2</td>\n",
       "    </tr>\n",
       "    <tr>\n",
       "      <th>SD</th>\n",
       "      <td>25</td>\n",
       "      <td>13.000000</td>\n",
       "      <td>5.923119</td>\n",
       "      <td>SD</td>\n",
       "    </tr>\n",
       "    <tr>\n",
       "      <th>TN</th>\n",
       "      <td>6</td>\n",
       "      <td>19.000000</td>\n",
       "      <td>4.690416</td>\n",
       "      <td>TN</td>\n",
       "    </tr>\n",
       "    <tr>\n",
       "      <th>TX</th>\n",
       "      <td>10</td>\n",
       "      <td>19.100000</td>\n",
       "      <td>3.956710</td>\n",
       "      <td>TX</td>\n",
       "    </tr>\n",
       "    <tr>\n",
       "      <th>VA</th>\n",
       "      <td>22</td>\n",
       "      <td>-15.454545</td>\n",
       "      <td>6.645638</td>\n",
       "      <td>VA</td>\n",
       "    </tr>\n",
       "    <tr>\n",
       "      <th>WV</th>\n",
       "      <td>14</td>\n",
       "      <td>14.071429</td>\n",
       "      <td>6.056964</td>\n",
       "      <td>WV</td>\n",
       "    </tr>\n",
       "    <tr>\n",
       "      <th>WY</th>\n",
       "      <td>5</td>\n",
       "      <td>44.800000</td>\n",
       "      <td>8.288546</td>\n",
       "      <td>WY</td>\n",
       "    </tr>\n",
       "  </tbody>\n",
       "</table>\n",
       "</div>"
      ],
      "text/plain": [
       "        N  poll_mean   poll_std state\n",
       "state                                \n",
       "AK     29  -0.068966   5.830529    AK\n",
       "AR     56   1.553571   5.077292    AR\n",
       "CO     49   0.693878   3.943370    CO\n",
       "DE      4 -15.500000   2.081666    DE\n",
       "GA     46   1.913043   4.135623    GA\n",
       "HI      8 -40.375000  10.487237    HI\n",
       "IA     47  -0.361702   4.474204    IA\n",
       "ID      6  29.833333   7.082843    ID\n",
       "IL     15 -12.400000   4.102264    IL\n",
       "KS      4   6.750000   2.362908    KS\n",
       "KY     55   3.018182   3.846552    KY\n",
       "LA     29   1.448276   5.213898    LA\n",
       "MA     13 -22.461538   4.175631    MA\n",
       "ME     14  32.928571   9.817287    ME\n",
       "MI     66  -5.515152   5.427118    MI\n",
       "MN     20 -11.050000   3.471311    MN\n",
       "MS      2   7.500000   6.363961    MS\n",
       "MT      7  17.142857   2.968084    MT\n",
       "NC     74  -2.594595   4.030429    NC\n",
       "NE      6  24.500000   4.183300    NE\n",
       "NH     61  -5.442623   4.620695    NH\n",
       "NJ     15 -13.733333   4.199773    NJ\n",
       "NM     12 -14.583333   5.160309    NM\n",
       "OK     10  30.400000   6.292853    OK\n",
       "OK2    10  30.000000   5.312459   OK2\n",
       "OR     19 -13.315789   6.608518    OR\n",
       "RI      4 -35.500000  11.150486    RI\n",
       "SC      8  15.000000   2.672612    SC\n",
       "SC2     6  21.500000   4.847680   SC2\n",
       "SD     25  13.000000   5.923119    SD\n",
       "TN      6  19.000000   4.690416    TN\n",
       "TX     10  19.100000   3.956710    TX\n",
       "VA     22 -15.454545   6.645638    VA\n",
       "WV     14  14.071429   6.056964    WV\n",
       "WY      5  44.800000   8.288546    WY"
      ]
     },
     "execution_count": 21,
     "metadata": {},
     "output_type": "execute_result"
    }
   ],
   "source": [
    "simple=race_average(multipoll)\n",
    "simple"
   ]
  },
  {
   "cell_type": "markdown",
   "metadata": {},
   "source": [
    "Let's build an `aggregated_poll_model` function that takes the average data frame as input, and returns a forecast data frame. We assume that the probability that a republican wins a state is given by the probability that a draw from a [Gaussian](https://en.wikipedia.org/wiki/Normal_distribution) with $\\mu$=poll_mean and $\\sigma$=poll_std being positive. See the Gallup prediction model in the homework from two years back or the same in Lab 3 to get an idea for how this works.\n",
    "\n",
    "Of course, this is assuming that the distribution of the spread is bell-shaped (i.e. Normally distributed). There may be reason to believe this, but just keep in mind that this is in fact a modeling assumption. "
   ]
  },
  {
   "cell_type": "code",
   "execution_count": 22,
   "metadata": {
    "collapsed": false
   },
   "outputs": [],
   "source": [
    "from scipy.special import erf\n",
    "def aggregated_poll_model(polls):\n",
    "    sigma = polls.poll_std\n",
    "    prob =  .5 * (1 + erf(polls.poll_mean / np.sqrt(2 * sigma ** 2)))\n",
    "    return pd.DataFrame(dict(rprob=prob, poll_size=polls.N, state=polls.state))\n"
   ]
  },
  {
   "cell_type": "markdown",
   "metadata": {},
   "source": [
    "This forecast data frame has the probability of a republican win stored in the `rprob` column. The `poll_size` column contains the number of polls in the state. The state column carries the two-letter label of the state. Lets run this `aggregated_poll_model` on the `simple` frame to output a `simpleprobs` frame:"
   ]
  },
  {
   "cell_type": "code",
   "execution_count": 23,
   "metadata": {
    "collapsed": false
   },
   "outputs": [
    {
     "data": {
      "text/html": [
       "<div>\n",
       "<table border=\"1\" class=\"dataframe\">\n",
       "  <thead>\n",
       "    <tr style=\"text-align: right;\">\n",
       "      <th></th>\n",
       "      <th>poll_size</th>\n",
       "      <th>rprob</th>\n",
       "      <th>state</th>\n",
       "    </tr>\n",
       "    <tr>\n",
       "      <th>state</th>\n",
       "      <th></th>\n",
       "      <th></th>\n",
       "      <th></th>\n",
       "    </tr>\n",
       "  </thead>\n",
       "  <tbody>\n",
       "    <tr>\n",
       "      <th>AK</th>\n",
       "      <td>29</td>\n",
       "      <td>4.952813e-01</td>\n",
       "      <td>AK</td>\n",
       "    </tr>\n",
       "    <tr>\n",
       "      <th>AR</th>\n",
       "      <td>56</td>\n",
       "      <td>6.201917e-01</td>\n",
       "      <td>AR</td>\n",
       "    </tr>\n",
       "    <tr>\n",
       "      <th>CO</th>\n",
       "      <td>49</td>\n",
       "      <td>5.698375e-01</td>\n",
       "      <td>CO</td>\n",
       "    </tr>\n",
       "    <tr>\n",
       "      <th>DE</th>\n",
       "      <td>4</td>\n",
       "      <td>4.807266e-14</td>\n",
       "      <td>DE</td>\n",
       "    </tr>\n",
       "    <tr>\n",
       "      <th>GA</th>\n",
       "      <td>46</td>\n",
       "      <td>6.781661e-01</td>\n",
       "      <td>GA</td>\n",
       "    </tr>\n",
       "  </tbody>\n",
       "</table>\n",
       "</div>"
      ],
      "text/plain": [
       "       poll_size         rprob state\n",
       "state                               \n",
       "AK            29  4.952813e-01    AK\n",
       "AR            56  6.201917e-01    AR\n",
       "CO            49  5.698375e-01    CO\n",
       "DE             4  4.807266e-14    DE\n",
       "GA            46  6.781661e-01    GA"
      ]
     },
     "execution_count": 23,
     "metadata": {},
     "output_type": "execute_result"
    }
   ],
   "source": [
    "simpleprobs=aggregated_poll_model(simple)\n",
    "simpleprobs.head()"
   ]
  },
  {
   "cell_type": "markdown",
   "metadata": {},
   "source": [
    "#### 1.4 Write a function that uses this predictive model to simulate the outcome of the election given a Dataframe of probabilities."
   ]
  },
  {
   "cell_type": "markdown",
   "metadata": {},
   "source": [
    "We will assume that the outcome in each state is the result of an independent coin flip whose probability of coming up Republican is given by the data frame of state-wise win probabilities `rprob`. Thus the result is a [Monte Carlo simulation](https://en.wikipedia.org/wiki/Monte_Carlo_method) (done `n_sim` times) for each probability.\n",
    "\n",
    "See the predictwise example in Lab 3 for help. Write a function `simulate_election` to do this. Its signature is given below."
   ]
  },
  {
   "cell_type": "code",
   "execution_count": 24,
   "metadata": {
    "collapsed": true
   },
   "outputs": [],
   "source": [
    "\"\"\"\n",
    "Function\n",
    "--------\n",
    "simulate_election\n",
    "\n",
    "Inputs\n",
    "------\n",
    "model : DataFrame\n",
    "    A DataFrame summarizing an election forecast. \n",
    "    It has at-least the following columns:\n",
    "       rprob : Forecasted probability that Republicans win the senate seat in  the state\n",
    "       poll_size : Num polls for the state\n",
    "    The DataFrame is indexed by state (i.e., model.index is an array of state names)\n",
    "    \n",
    "n_sim : int\n",
    "   Number of simulations to run\n",
    "   \n",
    "Returns 2 things in the form a,b\n",
    "---------------------------------\n",
    "a: for each simulation calculate how many seats the republicans win. return this distribution, i.e.\n",
    "an array of n_sim numbers\n",
    "b: A dataframe with one column for the state and one column the mean percentage \n",
    "of these simulations in which the republicans win   \n",
    "\"\"\"\n",
    "\n",
    "#Your code here\n",
    "def simulate_election(model, n_sim):\n",
    "    simulations = np.random.uniform(size=(model.shape[0], n_sim))\n",
    "    repub_votes = (simulations < model.rprob.values.reshape(-1, 1))\n",
    "    distrib = repub_votes.sum(axis=0)\n",
    "    return distrib, pd.DataFrame(dict(state=model.state, percent=100*repub_votes.mean(axis=1)))"
   ]
  },
  {
   "cell_type": "markdown",
   "metadata": {},
   "source": [
    "Run the simulation 10,000 times for `simpleprobs`:"
   ]
  },
  {
   "cell_type": "code",
   "execution_count": 25,
   "metadata": {
    "collapsed": false
   },
   "outputs": [],
   "source": [
    "simpledistrib, simple_simelec = simulate_election(simpleprobs, 10000)"
   ]
  },
  {
   "cell_type": "markdown",
   "metadata": {},
   "source": [
    "If you did this correctly, the model should predict a mode of 20 senate seats for the republicans. Note that because this is a probabilistic forecast: most of the mass is between 18 and 22 seats, but with non-zero probability outside that range.\n",
    "\n",
    "Lets now read in a data frame of actual results from `senate-results.csv`, so that we can compare our predictions with the results. There are lots of columns here, but for now lets focus on `winrepub` which gives us whether the republicans won that seat or not."
   ]
  },
  {
   "cell_type": "code",
   "execution_count": 26,
   "metadata": {
    "collapsed": false
   },
   "outputs": [
    {
     "data": {
      "text/html": [
       "<div>\n",
       "<table border=\"1\" class=\"dataframe\">\n",
       "  <thead>\n",
       "    <tr style=\"text-align: right;\">\n",
       "      <th></th>\n",
       "      <th>d_candidate</th>\n",
       "      <th>d_incumbent</th>\n",
       "      <th>d_pct</th>\n",
       "      <th>d_votes</th>\n",
       "      <th>o_candidate</th>\n",
       "      <th>o_incumbent</th>\n",
       "      <th>o_pct</th>\n",
       "      <th>o_votes</th>\n",
       "      <th>other</th>\n",
       "      <th>r_candidate</th>\n",
       "      <th>r_incumbent</th>\n",
       "      <th>r_pct</th>\n",
       "      <th>r_votes</th>\n",
       "      <th>state</th>\n",
       "      <th>status</th>\n",
       "      <th>winner</th>\n",
       "      <th>winrepub</th>\n",
       "      <th>spread</th>\n",
       "    </tr>\n",
       "  </thead>\n",
       "  <tbody>\n",
       "    <tr>\n",
       "      <th>0</th>\n",
       "      <td>Mark Pryor</td>\n",
       "      <td>True</td>\n",
       "      <td>39.5%</td>\n",
       "      <td>332,669</td>\n",
       "      <td>NaN</td>\n",
       "      <td>NaN</td>\n",
       "      <td>NaN</td>\n",
       "      <td>NaN</td>\n",
       "      <td>0</td>\n",
       "      <td>Tom Cotton</td>\n",
       "      <td>False</td>\n",
       "      <td>56.5%</td>\n",
       "      <td>476,309</td>\n",
       "      <td>AR</td>\n",
       "      <td>ok</td>\n",
       "      <td>gop</td>\n",
       "      <td>1</td>\n",
       "      <td>17.0</td>\n",
       "    </tr>\n",
       "    <tr>\n",
       "      <th>1</th>\n",
       "      <td>Mark Udall</td>\n",
       "      <td>True</td>\n",
       "      <td>46.0%</td>\n",
       "      <td>916,245</td>\n",
       "      <td>NaN</td>\n",
       "      <td>NaN</td>\n",
       "      <td>NaN</td>\n",
       "      <td>NaN</td>\n",
       "      <td>0</td>\n",
       "      <td>Cory Gardner</td>\n",
       "      <td>False</td>\n",
       "      <td>48.5%</td>\n",
       "      <td>965,974</td>\n",
       "      <td>CO</td>\n",
       "      <td>ok</td>\n",
       "      <td>gop</td>\n",
       "      <td>1</td>\n",
       "      <td>2.5</td>\n",
       "    </tr>\n",
       "    <tr>\n",
       "      <th>2</th>\n",
       "      <td>Michelle Nunn</td>\n",
       "      <td>False</td>\n",
       "      <td>45.1%</td>\n",
       "      <td>1,154,388</td>\n",
       "      <td>Amanda Swafford</td>\n",
       "      <td>False</td>\n",
       "      <td>1.9%</td>\n",
       "      <td>48,930</td>\n",
       "      <td>lib</td>\n",
       "      <td>David Perdue</td>\n",
       "      <td>False</td>\n",
       "      <td>53.0%</td>\n",
       "      <td>1,355,392</td>\n",
       "      <td>GA</td>\n",
       "      <td>ok</td>\n",
       "      <td>gop</td>\n",
       "      <td>1</td>\n",
       "      <td>7.9</td>\n",
       "    </tr>\n",
       "    <tr>\n",
       "      <th>3</th>\n",
       "      <td>Bruce Braley</td>\n",
       "      <td>False</td>\n",
       "      <td>43.7%</td>\n",
       "      <td>491,708</td>\n",
       "      <td>NaN</td>\n",
       "      <td>NaN</td>\n",
       "      <td>NaN</td>\n",
       "      <td>NaN</td>\n",
       "      <td>0</td>\n",
       "      <td>Joni Ernst</td>\n",
       "      <td>False</td>\n",
       "      <td>52.2%</td>\n",
       "      <td>586,921</td>\n",
       "      <td>IA</td>\n",
       "      <td>ok</td>\n",
       "      <td>gop</td>\n",
       "      <td>1</td>\n",
       "      <td>8.5</td>\n",
       "    </tr>\n",
       "    <tr>\n",
       "      <th>4</th>\n",
       "      <td>NaN</td>\n",
       "      <td>NaN</td>\n",
       "      <td>NaN</td>\n",
       "      <td>NaN</td>\n",
       "      <td>Greg Orman</td>\n",
       "      <td>False</td>\n",
       "      <td>42.5%</td>\n",
       "      <td>358,898</td>\n",
       "      <td>ind</td>\n",
       "      <td>Pat Roberts</td>\n",
       "      <td>True</td>\n",
       "      <td>53.3%</td>\n",
       "      <td>449,974</td>\n",
       "      <td>KS</td>\n",
       "      <td>ok</td>\n",
       "      <td>gop</td>\n",
       "      <td>1</td>\n",
       "      <td>10.8</td>\n",
       "    </tr>\n",
       "  </tbody>\n",
       "</table>\n",
       "</div>"
      ],
      "text/plain": [
       "     d_candidate d_incumbent  d_pct    d_votes      o_candidate o_incumbent  o_pct  o_votes other   r_candidate r_incumbent  r_pct    r_votes state status winner  winrepub  spread\n",
       "0     Mark Pryor        True  39.5%    332,669              NaN         NaN    NaN      NaN     0    Tom Cotton       False  56.5%    476,309    AR     ok    gop         1    17.0\n",
       "1     Mark Udall        True  46.0%    916,245              NaN         NaN    NaN      NaN     0  Cory Gardner       False  48.5%    965,974    CO     ok    gop         1     2.5\n",
       "2  Michelle Nunn       False  45.1%  1,154,388  Amanda Swafford       False   1.9%   48,930   lib  David Perdue       False  53.0%  1,355,392    GA     ok    gop         1     7.9\n",
       "3   Bruce Braley       False  43.7%    491,708              NaN         NaN    NaN      NaN     0    Joni Ernst       False  52.2%    586,921    IA     ok    gop         1     8.5\n",
       "4            NaN         NaN    NaN        NaN       Greg Orman       False  42.5%  358,898   ind   Pat Roberts        True  53.3%    449,974    KS     ok    gop         1    10.8"
      ]
     },
     "execution_count": 26,
     "metadata": {},
     "output_type": "execute_result"
    }
   ],
   "source": [
    "resudf=pd.read_csv(\"./data/senate-results.csv\")\n",
    "resudf.head()"
   ]
  },
  {
   "cell_type": "markdown",
   "metadata": {},
   "source": [
    "**Note**: `resudf` does not contain `AL` as there was no competitor there."
   ]
  },
  {
   "cell_type": "markdown",
   "metadata": {},
   "source": [
    "#### 1.5 Checking your predictions against the actual results"
   ]
  },
  {
   "cell_type": "code",
   "execution_count": 27,
   "metadata": {
    "collapsed": false
   },
   "outputs": [
    {
     "data": {
      "text/plain": [
       "23"
      ]
     },
     "execution_count": 27,
     "metadata": {},
     "output_type": "execute_result"
    }
   ],
   "source": [
    "rwinresults=resudf.winrepub.sum()\n",
    "rwinresults"
   ]
  },
  {
   "cell_type": "markdown",
   "metadata": {},
   "source": [
    "Now comes the moment of truth, how well does our Monte Carlo simulation stack up against the truth?\n",
    "\n",
    "To answer this, plot the distribution of senate seats the republicans won in your simulation  `simpledistrib`. Contrast it to  the actual result `rwinresults` calculated above. Use a histogram for the distribution, and `axvline` to plot the actual result."
   ]
  },
  {
   "cell_type": "code",
   "execution_count": 28,
   "metadata": {
    "collapsed": false
   },
   "outputs": [
    {
     "data": {
      "text/plain": [
       "<matplotlib.lines.Line2D at 0x10aae1910>"
      ]
     },
     "execution_count": 28,
     "metadata": {},
     "output_type": "execute_result"
    },
    {
     "data": {
      "image/png": "[encoded data removed]",
      "text/plain": [
       "<matplotlib.figure.Figure at 0x10aae1950>"
      ]
     },
     "metadata": {},
     "output_type": "display_data"
    }
   ],
   "source": [
    "#your code here\n",
    "plt.hist(simpledistrib, alpha=0.5, normed=True);\n",
    "plt.axvline(rwinresults, color='r')"
   ]
  },
  {
   "cell_type": "markdown",
   "metadata": {},
   "source": [
    "Compare the mode prediction with the actual result. Did you do well?"
   ]
  },
  {
   "cell_type": "markdown",
   "metadata": {},
   "source": [
    "*your answer here*\n",
    "\n",
    "The actual number of seats won by republicans was 23, our mode prediction was 20. These two numbers are not very different, but our predictions were fairly confident. What I mean is that our simulations rarely chose the republicans to win more than 22, let alone 23 seats. So our simulations are underestimating the number of seats very confidently! \n",
    "\n",
    "Putting ourselves in the shoes of an analyst two days from the election, you can probably imagine how these three seats may be very important to get right."
   ]
  },
  {
   "cell_type": "markdown",
   "metadata": {},
   "source": [
    "If you did this correctly you will find that the results are not great. Perhaps we have been playing too fast-and-loose with the poll aggregation and ought to think more carefully about the quality of the polls. "
   ]
  },
  {
   "cell_type": "markdown",
   "metadata": {},
   "source": [
    "### Weighted Aggregation"
   ]
  },
  {
   "cell_type": "markdown",
   "metadata": {},
   "source": [
    "A typical way to assess the quality of a poll is by the margin of error and recentness. The idea is to weigh more accurate and recent polls more heavily than others. We provide a function to calculate weights, a weighted mean, and a weighted standard deviation below. We've simplified the weighted standard deviation to just be the spread in the polls, to keep the homework shorter.\n",
    "\n",
    "Again, not all polls are created equal. Some polls have a larger margin of error and simply averaging them with other more accurate polls gives them all equal weight. Likewise, a poll further in the past is a less valuable indicator of current (or future) public opinion.\n",
    "\n",
    "A weighted estimate of the spread in a given state is given by\n",
    "\n",
    "$$\\mu = \\frac{\\sum_i w_i \\mu_i }{\\sum_i w_i}$$\n",
    "\n",
    "where $\\mu_i$ are individual polling measurements of a state, and $w_i$ are the weights assigned to each poll. Notice that if we weigh all the polls equally ($w_i = 1$), we get the simple aggregation from before.\n",
    "\n",
    "For a weighted average like this, the uncertainty is given by the estimate of the variance of $\\mu$. When the individual estimates $\\mu_i$ are independent and unbiased estimators of $\\mu$ this is\n",
    "\n",
    "$$Var(\\mu)=\\frac{1}{(\\sum_i w_i)^2}\\,\\sum_{i=1}^{n}w_i^2 Var(\\mu_i).$$\n",
    "\n",
    "Here **we shall do something simpler** and just take the standard deviation of all the polls in the state.\n",
    "\n",
    "The weights $w_i$ should combine the uncertainties from the margin of error ($MoE$) and the age of the forecast. One such combination is:\n",
    "\n",
    "$$w_i=\\frac{1}{MoE^2} \\times \\lambda_{age}$$\n",
    "\n",
    "where\n",
    "\n",
    "$$\\lambda_{age}=0.5^{(age/60 days)}$$\n",
    "\n",
    "This model makes a few ad-hoc assumptions:\n",
    "\n",
    "- The equation for variance assumes that every measurement is independent. This is not true in the case that a given pollster in a state makes multiple polls, perhaps with some of the same respondents (a longitudinal survey). But its a powerful assumption to start with.\n",
    "\n",
    "- The equation for $\\lambda_{age}$ assumes that a 60-day old poll is half as valuable as a current one. This may or may not be too critical."
   ]
  },
  {
   "cell_type": "code",
   "execution_count": 29,
   "metadata": {
    "collapsed": true
   },
   "outputs": [],
   "source": [
    "def weights(df, half_days=60.):\n",
    "    lam_age = .5 ** (df.age_days / half_days)\n",
    "    w = lam_age / df.moe ** 2\n",
    "    return w\n",
    "\n",
    "def wmean(df):\n",
    "    w = weights(df)\n",
    "    result = (df.spread * w).sum() / w.sum()\n",
    "    return result\n",
    "\n",
    "def wsig(df):\n",
    "    return df.spread.std()"
   ]
  },
  {
   "cell_type": "markdown",
   "metadata": {},
   "source": [
    "#### 1.6 Now create a weighted race average. "
   ]
  },
  {
   "cell_type": "markdown",
   "metadata": {},
   "source": [
    "This weighted averaging should be implemented in the function `weighted_race_average` below. It should have the same signature as `race_average`, using the `wmean` weighted mean function instead of the simple `mean`."
   ]
  },
  {
   "cell_type": "code",
   "execution_count": 30,
   "metadata": {
    "collapsed": true
   },
   "outputs": [],
   "source": [
    "#your code here\n",
    "def weighted_race_average(multipoll):      \n",
    "    groups = multipoll.groupby(\"state\")\n",
    "    poll_mean = groups.apply(wmean)\n",
    "    poll_std = groups.apply(wsig)\n",
    "    poll_std[poll_std.isnull()] = poll_mean[poll_std.isnull()] * .05\n",
    "    state=[e[0] for e in groups.state.unique()]\n",
    "    return pd.DataFrame(dict(N=groups.size(), poll_mean = poll_mean, poll_std = poll_std, state=state))"
   ]
  },
  {
   "cell_type": "markdown",
   "metadata": {},
   "source": [
    "Lets run this function on `multipoll`:"
   ]
  },
  {
   "cell_type": "code",
   "execution_count": 31,
   "metadata": {
    "collapsed": false,
    "scrolled": true
   },
   "outputs": [
    {
     "data": {
      "text/html": [
       "<div>\n",
       "<table border=\"1\" class=\"dataframe\">\n",
       "  <thead>\n",
       "    <tr style=\"text-align: right;\">\n",
       "      <th></th>\n",
       "      <th>N</th>\n",
       "      <th>poll_mean</th>\n",
       "      <th>poll_std</th>\n",
       "      <th>state</th>\n",
       "    </tr>\n",
       "    <tr>\n",
       "      <th>state</th>\n",
       "      <th></th>\n",
       "      <th></th>\n",
       "      <th></th>\n",
       "      <th></th>\n",
       "    </tr>\n",
       "  </thead>\n",
       "  <tbody>\n",
       "    <tr>\n",
       "      <th>AK</th>\n",
       "      <td>29</td>\n",
       "      <td>1.759979</td>\n",
       "      <td>5.830529</td>\n",
       "      <td>AK</td>\n",
       "    </tr>\n",
       "    <tr>\n",
       "      <th>AR</th>\n",
       "      <td>56</td>\n",
       "      <td>3.950850</td>\n",
       "      <td>5.077292</td>\n",
       "      <td>AR</td>\n",
       "    </tr>\n",
       "    <tr>\n",
       "      <th>CO</th>\n",
       "      <td>49</td>\n",
       "      <td>1.843248</td>\n",
       "      <td>3.943370</td>\n",
       "      <td>CO</td>\n",
       "    </tr>\n",
       "    <tr>\n",
       "      <th>DE</th>\n",
       "      <td>4</td>\n",
       "      <td>-15.439039</td>\n",
       "      <td>2.081666</td>\n",
       "      <td>DE</td>\n",
       "    </tr>\n",
       "    <tr>\n",
       "      <th>GA</th>\n",
       "      <td>46</td>\n",
       "      <td>1.683561</td>\n",
       "      <td>4.135623</td>\n",
       "      <td>GA</td>\n",
       "    </tr>\n",
       "    <tr>\n",
       "      <th>HI</th>\n",
       "      <td>8</td>\n",
       "      <td>-37.982647</td>\n",
       "      <td>10.487237</td>\n",
       "      <td>HI</td>\n",
       "    </tr>\n",
       "    <tr>\n",
       "      <th>IA</th>\n",
       "      <td>47</td>\n",
       "      <td>0.950752</td>\n",
       "      <td>4.474204</td>\n",
       "      <td>IA</td>\n",
       "    </tr>\n",
       "    <tr>\n",
       "      <th>ID</th>\n",
       "      <td>6</td>\n",
       "      <td>28.895328</td>\n",
       "      <td>7.082843</td>\n",
       "      <td>ID</td>\n",
       "    </tr>\n",
       "    <tr>\n",
       "      <th>IL</th>\n",
       "      <td>15</td>\n",
       "      <td>-11.990004</td>\n",
       "      <td>4.102264</td>\n",
       "      <td>IL</td>\n",
       "    </tr>\n",
       "    <tr>\n",
       "      <th>KS</th>\n",
       "      <td>4</td>\n",
       "      <td>6.554440</td>\n",
       "      <td>2.362908</td>\n",
       "      <td>KS</td>\n",
       "    </tr>\n",
       "    <tr>\n",
       "      <th>KY</th>\n",
       "      <td>55</td>\n",
       "      <td>4.537465</td>\n",
       "      <td>3.846552</td>\n",
       "      <td>KY</td>\n",
       "    </tr>\n",
       "    <tr>\n",
       "      <th>LA</th>\n",
       "      <td>29</td>\n",
       "      <td>4.133570</td>\n",
       "      <td>5.213898</td>\n",
       "      <td>LA</td>\n",
       "    </tr>\n",
       "    <tr>\n",
       "      <th>MA</th>\n",
       "      <td>13</td>\n",
       "      <td>-22.042031</td>\n",
       "      <td>4.175631</td>\n",
       "      <td>MA</td>\n",
       "    </tr>\n",
       "    <tr>\n",
       "      <th>ME</th>\n",
       "      <td>14</td>\n",
       "      <td>29.221449</td>\n",
       "      <td>9.817287</td>\n",
       "      <td>ME</td>\n",
       "    </tr>\n",
       "    <tr>\n",
       "      <th>MI</th>\n",
       "      <td>66</td>\n",
       "      <td>-8.314291</td>\n",
       "      <td>5.427118</td>\n",
       "      <td>MI</td>\n",
       "    </tr>\n",
       "    <tr>\n",
       "      <th>MN</th>\n",
       "      <td>20</td>\n",
       "      <td>-10.123886</td>\n",
       "      <td>3.471311</td>\n",
       "      <td>MN</td>\n",
       "    </tr>\n",
       "    <tr>\n",
       "      <th>MS</th>\n",
       "      <td>2</td>\n",
       "      <td>10.621256</td>\n",
       "      <td>6.363961</td>\n",
       "      <td>MS</td>\n",
       "    </tr>\n",
       "    <tr>\n",
       "      <th>MT</th>\n",
       "      <td>7</td>\n",
       "      <td>16.349968</td>\n",
       "      <td>2.968084</td>\n",
       "      <td>MT</td>\n",
       "    </tr>\n",
       "    <tr>\n",
       "      <th>NC</th>\n",
       "      <td>74</td>\n",
       "      <td>-1.691461</td>\n",
       "      <td>4.030429</td>\n",
       "      <td>NC</td>\n",
       "    </tr>\n",
       "    <tr>\n",
       "      <th>NE</th>\n",
       "      <td>6</td>\n",
       "      <td>26.057120</td>\n",
       "      <td>4.183300</td>\n",
       "      <td>NE</td>\n",
       "    </tr>\n",
       "    <tr>\n",
       "      <th>NH</th>\n",
       "      <td>61</td>\n",
       "      <td>-3.268176</td>\n",
       "      <td>4.620695</td>\n",
       "      <td>NH</td>\n",
       "    </tr>\n",
       "    <tr>\n",
       "      <th>NJ</th>\n",
       "      <td>15</td>\n",
       "      <td>-13.826543</td>\n",
       "      <td>4.199773</td>\n",
       "      <td>NJ</td>\n",
       "    </tr>\n",
       "    <tr>\n",
       "      <th>NM</th>\n",
       "      <td>12</td>\n",
       "      <td>-13.037634</td>\n",
       "      <td>5.160309</td>\n",
       "      <td>NM</td>\n",
       "    </tr>\n",
       "    <tr>\n",
       "      <th>OK</th>\n",
       "      <td>10</td>\n",
       "      <td>33.442671</td>\n",
       "      <td>6.292853</td>\n",
       "      <td>OK</td>\n",
       "    </tr>\n",
       "    <tr>\n",
       "      <th>OK2</th>\n",
       "      <td>10</td>\n",
       "      <td>32.207280</td>\n",
       "      <td>5.312459</td>\n",
       "      <td>OK2</td>\n",
       "    </tr>\n",
       "    <tr>\n",
       "      <th>OR</th>\n",
       "      <td>19</td>\n",
       "      <td>-14.721606</td>\n",
       "      <td>6.608518</td>\n",
       "      <td>OR</td>\n",
       "    </tr>\n",
       "    <tr>\n",
       "      <th>RI</th>\n",
       "      <td>4</td>\n",
       "      <td>-35.728127</td>\n",
       "      <td>11.150486</td>\n",
       "      <td>RI</td>\n",
       "    </tr>\n",
       "    <tr>\n",
       "      <th>SC</th>\n",
       "      <td>8</td>\n",
       "      <td>16.132253</td>\n",
       "      <td>2.672612</td>\n",
       "      <td>SC</td>\n",
       "    </tr>\n",
       "    <tr>\n",
       "      <th>SC2</th>\n",
       "      <td>6</td>\n",
       "      <td>22.861774</td>\n",
       "      <td>4.847680</td>\n",
       "      <td>SC2</td>\n",
       "    </tr>\n",
       "    <tr>\n",
       "      <th>SD</th>\n",
       "      <td>25</td>\n",
       "      <td>11.841868</td>\n",
       "      <td>5.923119</td>\n",
       "      <td>SD</td>\n",
       "    </tr>\n",
       "    <tr>\n",
       "      <th>TN</th>\n",
       "      <td>6</td>\n",
       "      <td>18.863432</td>\n",
       "      <td>4.690416</td>\n",
       "      <td>TN</td>\n",
       "    </tr>\n",
       "    <tr>\n",
       "      <th>TX</th>\n",
       "      <td>10</td>\n",
       "      <td>20.517437</td>\n",
       "      <td>3.956710</td>\n",
       "      <td>TX</td>\n",
       "    </tr>\n",
       "    <tr>\n",
       "      <th>VA</th>\n",
       "      <td>22</td>\n",
       "      <td>-13.340020</td>\n",
       "      <td>6.645638</td>\n",
       "      <td>VA</td>\n",
       "    </tr>\n",
       "    <tr>\n",
       "      <th>WV</th>\n",
       "      <td>14</td>\n",
       "      <td>16.372639</td>\n",
       "      <td>6.056964</td>\n",
       "      <td>WV</td>\n",
       "    </tr>\n",
       "    <tr>\n",
       "      <th>WY</th>\n",
       "      <td>5</td>\n",
       "      <td>43.407530</td>\n",
       "      <td>8.288546</td>\n",
       "      <td>WY</td>\n",
       "    </tr>\n",
       "  </tbody>\n",
       "</table>\n",
       "</div>"
      ],
      "text/plain": [
       "        N  poll_mean   poll_std state\n",
       "state                                \n",
       "AK     29   1.759979   5.830529    AK\n",
       "AR     56   3.950850   5.077292    AR\n",
       "CO     49   1.843248   3.943370    CO\n",
       "DE      4 -15.439039   2.081666    DE\n",
       "GA     46   1.683561   4.135623    GA\n",
       "HI      8 -37.982647  10.487237    HI\n",
       "IA     47   0.950752   4.474204    IA\n",
       "ID      6  28.895328   7.082843    ID\n",
       "IL     15 -11.990004   4.102264    IL\n",
       "KS      4   6.554440   2.362908    KS\n",
       "KY     55   4.537465   3.846552    KY\n",
       "LA     29   4.133570   5.213898    LA\n",
       "MA     13 -22.042031   4.175631    MA\n",
       "ME     14  29.221449   9.817287    ME\n",
       "MI     66  -8.314291   5.427118    MI\n",
       "MN     20 -10.123886   3.471311    MN\n",
       "MS      2  10.621256   6.363961    MS\n",
       "MT      7  16.349968   2.968084    MT\n",
       "NC     74  -1.691461   4.030429    NC\n",
       "NE      6  26.057120   4.183300    NE\n",
       "NH     61  -3.268176   4.620695    NH\n",
       "NJ     15 -13.826543   4.199773    NJ\n",
       "NM     12 -13.037634   5.160309    NM\n",
       "OK     10  33.442671   6.292853    OK\n",
       "OK2    10  32.207280   5.312459   OK2\n",
       "OR     19 -14.721606   6.608518    OR\n",
       "RI      4 -35.728127  11.150486    RI\n",
       "SC      8  16.132253   2.672612    SC\n",
       "SC2     6  22.861774   4.847680   SC2\n",
       "SD     25  11.841868   5.923119    SD\n",
       "TN      6  18.863432   4.690416    TN\n",
       "TX     10  20.517437   3.956710    TX\n",
       "VA     22 -13.340020   6.645638    VA\n",
       "WV     14  16.372639   6.056964    WV\n",
       "WY      5  43.407530   8.288546    WY"
      ]
     },
     "execution_count": 31,
     "metadata": {},
     "output_type": "execute_result"
    }
   ],
   "source": [
    "weighted=weighted_race_average(multipoll)\n",
    "weighted"
   ]
  },
  {
   "cell_type": "markdown",
   "metadata": {},
   "source": [
    "Now let's calculate the probabilities like before using `aggregated_poll_model`, but with these (hopefully better) estimates of the spread."
   ]
  },
  {
   "cell_type": "code",
   "execution_count": 32,
   "metadata": {
    "collapsed": false,
    "scrolled": true
   },
   "outputs": [
    {
     "data": {
      "text/html": [
       "<div>\n",
       "<table border=\"1\" class=\"dataframe\">\n",
       "  <thead>\n",
       "    <tr style=\"text-align: right;\">\n",
       "      <th></th>\n",
       "      <th>poll_size</th>\n",
       "      <th>rprob</th>\n",
       "      <th>state</th>\n",
       "    </tr>\n",
       "    <tr>\n",
       "      <th>state</th>\n",
       "      <th></th>\n",
       "      <th></th>\n",
       "      <th></th>\n",
       "    </tr>\n",
       "  </thead>\n",
       "  <tbody>\n",
       "    <tr>\n",
       "      <th>AK</th>\n",
       "      <td>29</td>\n",
       "      <td>6.186190e-01</td>\n",
       "      <td>AK</td>\n",
       "    </tr>\n",
       "    <tr>\n",
       "      <th>AR</th>\n",
       "      <td>56</td>\n",
       "      <td>7.817571e-01</td>\n",
       "      <td>AR</td>\n",
       "    </tr>\n",
       "    <tr>\n",
       "      <th>CO</th>\n",
       "      <td>49</td>\n",
       "      <td>6.799037e-01</td>\n",
       "      <td>CO</td>\n",
       "    </tr>\n",
       "    <tr>\n",
       "      <th>DE</th>\n",
       "      <td>4</td>\n",
       "      <td>6.006307e-14</td>\n",
       "      <td>DE</td>\n",
       "    </tr>\n",
       "    <tr>\n",
       "      <th>GA</th>\n",
       "      <td>46</td>\n",
       "      <td>6.580282e-01</td>\n",
       "      <td>GA</td>\n",
       "    </tr>\n",
       "    <tr>\n",
       "      <th>HI</th>\n",
       "      <td>8</td>\n",
       "      <td>1.462817e-04</td>\n",
       "      <td>HI</td>\n",
       "    </tr>\n",
       "    <tr>\n",
       "      <th>IA</th>\n",
       "      <td>47</td>\n",
       "      <td>5.841401e-01</td>\n",
       "      <td>IA</td>\n",
       "    </tr>\n",
       "    <tr>\n",
       "      <th>ID</th>\n",
       "      <td>6</td>\n",
       "      <td>9.999774e-01</td>\n",
       "      <td>ID</td>\n",
       "    </tr>\n",
       "    <tr>\n",
       "      <th>IL</th>\n",
       "      <td>15</td>\n",
       "      <td>1.734624e-03</td>\n",
       "      <td>IL</td>\n",
       "    </tr>\n",
       "    <tr>\n",
       "      <th>KS</th>\n",
       "      <td>4</td>\n",
       "      <td>9.972305e-01</td>\n",
       "      <td>KS</td>\n",
       "    </tr>\n",
       "    <tr>\n",
       "      <th>KY</th>\n",
       "      <td>55</td>\n",
       "      <td>8.809241e-01</td>\n",
       "      <td>KY</td>\n",
       "    </tr>\n",
       "    <tr>\n",
       "      <th>LA</th>\n",
       "      <td>29</td>\n",
       "      <td>7.860524e-01</td>\n",
       "      <td>LA</td>\n",
       "    </tr>\n",
       "    <tr>\n",
       "      <th>MA</th>\n",
       "      <td>13</td>\n",
       "      <td>6.504114e-08</td>\n",
       "      <td>MA</td>\n",
       "    </tr>\n",
       "    <tr>\n",
       "      <th>ME</th>\n",
       "      <td>14</td>\n",
       "      <td>9.985423e-01</td>\n",
       "      <td>ME</td>\n",
       "    </tr>\n",
       "    <tr>\n",
       "      <th>MI</th>\n",
       "      <td>66</td>\n",
       "      <td>6.276246e-02</td>\n",
       "      <td>MI</td>\n",
       "    </tr>\n",
       "    <tr>\n",
       "      <th>MN</th>\n",
       "      <td>20</td>\n",
       "      <td>1.770228e-03</td>\n",
       "      <td>MN</td>\n",
       "    </tr>\n",
       "    <tr>\n",
       "      <th>MS</th>\n",
       "      <td>2</td>\n",
       "      <td>9.524383e-01</td>\n",
       "      <td>MS</td>\n",
       "    </tr>\n",
       "    <tr>\n",
       "      <th>MT</th>\n",
       "      <td>7</td>\n",
       "      <td>1.000000e+00</td>\n",
       "      <td>MT</td>\n",
       "    </tr>\n",
       "    <tr>\n",
       "      <th>NC</th>\n",
       "      <td>74</td>\n",
       "      <td>3.373623e-01</td>\n",
       "      <td>NC</td>\n",
       "    </tr>\n",
       "    <tr>\n",
       "      <th>NE</th>\n",
       "      <td>6</td>\n",
       "      <td>1.000000e+00</td>\n",
       "      <td>NE</td>\n",
       "    </tr>\n",
       "    <tr>\n",
       "      <th>NH</th>\n",
       "      <td>61</td>\n",
       "      <td>2.396928e-01</td>\n",
       "      <td>NH</td>\n",
       "    </tr>\n",
       "    <tr>\n",
       "      <th>NJ</th>\n",
       "      <td>15</td>\n",
       "      <td>4.970134e-04</td>\n",
       "      <td>NJ</td>\n",
       "    </tr>\n",
       "    <tr>\n",
       "      <th>NM</th>\n",
       "      <td>12</td>\n",
       "      <td>5.759909e-03</td>\n",
       "      <td>NM</td>\n",
       "    </tr>\n",
       "    <tr>\n",
       "      <th>OK</th>\n",
       "      <td>10</td>\n",
       "      <td>9.999999e-01</td>\n",
       "      <td>OK</td>\n",
       "    </tr>\n",
       "    <tr>\n",
       "      <th>OK2</th>\n",
       "      <td>10</td>\n",
       "      <td>1.000000e+00</td>\n",
       "      <td>OK2</td>\n",
       "    </tr>\n",
       "    <tr>\n",
       "      <th>OR</th>\n",
       "      <td>19</td>\n",
       "      <td>1.295122e-02</td>\n",
       "      <td>OR</td>\n",
       "    </tr>\n",
       "    <tr>\n",
       "      <th>RI</th>\n",
       "      <td>4</td>\n",
       "      <td>6.772464e-04</td>\n",
       "      <td>RI</td>\n",
       "    </tr>\n",
       "    <tr>\n",
       "      <th>SC</th>\n",
       "      <td>8</td>\n",
       "      <td>1.000000e+00</td>\n",
       "      <td>SC</td>\n",
       "    </tr>\n",
       "    <tr>\n",
       "      <th>SC2</th>\n",
       "      <td>6</td>\n",
       "      <td>9.999988e-01</td>\n",
       "      <td>SC2</td>\n",
       "    </tr>\n",
       "    <tr>\n",
       "      <th>SD</th>\n",
       "      <td>25</td>\n",
       "      <td>9.772100e-01</td>\n",
       "      <td>SD</td>\n",
       "    </tr>\n",
       "    <tr>\n",
       "      <th>TN</th>\n",
       "      <td>6</td>\n",
       "      <td>9.999711e-01</td>\n",
       "      <td>TN</td>\n",
       "    </tr>\n",
       "    <tr>\n",
       "      <th>TX</th>\n",
       "      <td>10</td>\n",
       "      <td>9.999999e-01</td>\n",
       "      <td>TX</td>\n",
       "    </tr>\n",
       "    <tr>\n",
       "      <th>VA</th>\n",
       "      <td>22</td>\n",
       "      <td>2.235702e-02</td>\n",
       "      <td>VA</td>\n",
       "    </tr>\n",
       "    <tr>\n",
       "      <th>WV</th>\n",
       "      <td>14</td>\n",
       "      <td>9.965653e-01</td>\n",
       "      <td>WV</td>\n",
       "    </tr>\n",
       "    <tr>\n",
       "      <th>WY</th>\n",
       "      <td>5</td>\n",
       "      <td>9.999999e-01</td>\n",
       "      <td>WY</td>\n",
       "    </tr>\n",
       "  </tbody>\n",
       "</table>\n",
       "</div>"
      ],
      "text/plain": [
       "       poll_size         rprob state\n",
       "state                               \n",
       "AK            29  6.186190e-01    AK\n",
       "AR            56  7.817571e-01    AR\n",
       "CO            49  6.799037e-01    CO\n",
       "DE             4  6.006307e-14    DE\n",
       "GA            46  6.580282e-01    GA\n",
       "HI             8  1.462817e-04    HI\n",
       "IA            47  5.841401e-01    IA\n",
       "ID             6  9.999774e-01    ID\n",
       "IL            15  1.734624e-03    IL\n",
       "KS             4  9.972305e-01    KS\n",
       "KY            55  8.809241e-01    KY\n",
       "LA            29  7.860524e-01    LA\n",
       "MA            13  6.504114e-08    MA\n",
       "ME            14  9.985423e-01    ME\n",
       "MI            66  6.276246e-02    MI\n",
       "MN            20  1.770228e-03    MN\n",
       "MS             2  9.524383e-01    MS\n",
       "MT             7  1.000000e+00    MT\n",
       "NC            74  3.373623e-01    NC\n",
       "NE             6  1.000000e+00    NE\n",
       "NH            61  2.396928e-01    NH\n",
       "NJ            15  4.970134e-04    NJ\n",
       "NM            12  5.759909e-03    NM\n",
       "OK            10  9.999999e-01    OK\n",
       "OK2           10  1.000000e+00   OK2\n",
       "OR            19  1.295122e-02    OR\n",
       "RI             4  6.772464e-04    RI\n",
       "SC             8  1.000000e+00    SC\n",
       "SC2            6  9.999988e-01   SC2\n",
       "SD            25  9.772100e-01    SD\n",
       "TN             6  9.999711e-01    TN\n",
       "TX            10  9.999999e-01    TX\n",
       "VA            22  2.235702e-02    VA\n",
       "WV            14  9.965653e-01    WV\n",
       "WY             5  9.999999e-01    WY"
      ]
     },
     "execution_count": 32,
     "metadata": {},
     "output_type": "execute_result"
    }
   ],
   "source": [
    "weightedprobs=aggregated_poll_model(weighted)\n",
    "weightedprobs"
   ]
  },
  {
   "cell_type": "markdown",
   "metadata": {},
   "source": [
    "Let's run the Monte Carlo simulations with these new probabilities with `simulate_election`"
   ]
  },
  {
   "cell_type": "code",
   "execution_count": 33,
   "metadata": {
    "collapsed": false
   },
   "outputs": [],
   "source": [
    "weighted_distrib, weighted_simelec=simulate_election(weightedprobs, 10000)"
   ]
  },
  {
   "cell_type": "markdown",
   "metadata": {},
   "source": [
    "#### 1.7 Plot the results as before for the weighted simulations"
   ]
  },
  {
   "cell_type": "markdown",
   "metadata": {},
   "source": [
    "Create a histogram of the `weighted_distrib` and compare it with the actual result `rwinresults`."
   ]
  },
  {
   "cell_type": "code",
   "execution_count": 34,
   "metadata": {
    "collapsed": false
   },
   "outputs": [
    {
     "data": {
      "text/plain": [
       "<matplotlib.lines.Line2D at 0x10ae60710>"
      ]
     },
     "execution_count": 34,
     "metadata": {},
     "output_type": "execute_result"
    },
    {
     "data": {
      "image/png": "[encoded data removed]",
      "text/plain": [
       "<matplotlib.figure.Figure at 0x10aae1bd0>"
      ]
     },
     "metadata": {},
     "output_type": "display_data"
    }
   ],
   "source": [
    "#your code here\n",
    "plt.hist(weighted_distrib, alpha=0.5, normed=True);\n",
    "plt.axvline(rwinresults, color='r')"
   ]
  },
  {
   "cell_type": "markdown",
   "metadata": {},
   "source": [
    "Comment on the results. Did the accuracy and precision improve? Are all our problems gone?"
   ]
  },
  {
   "cell_type": "markdown",
   "metadata": {},
   "source": [
    "*your answer here*\n",
    "\n",
    "The accuracy improved, now the mode of our predictions is at 21, a bit closer to the truth of 23 seats. But including the accuracy didn't change our precision much (the spread of our predictions) compared to simple aggregation. "
   ]
  },
  {
   "cell_type": "markdown",
   "metadata": {},
   "source": [
    "### Looking deeper into the results"
   ]
  },
  {
   "cell_type": "code",
   "execution_count": 35,
   "metadata": {
    "collapsed": false
   },
   "outputs": [
    {
     "data": {
      "text/html": [
       "<div>\n",
       "<table border=\"1\" class=\"dataframe\">\n",
       "  <thead>\n",
       "    <tr style=\"text-align: right;\">\n",
       "      <th></th>\n",
       "      <th>d_candidate</th>\n",
       "      <th>d_incumbent</th>\n",
       "      <th>d_pct</th>\n",
       "      <th>d_votes</th>\n",
       "      <th>o_candidate</th>\n",
       "      <th>o_incumbent</th>\n",
       "      <th>o_pct</th>\n",
       "      <th>o_votes</th>\n",
       "      <th>other</th>\n",
       "      <th>r_candidate</th>\n",
       "      <th>r_incumbent</th>\n",
       "      <th>r_pct</th>\n",
       "      <th>r_votes</th>\n",
       "      <th>state</th>\n",
       "      <th>status</th>\n",
       "      <th>winner</th>\n",
       "      <th>winrepub</th>\n",
       "      <th>spread</th>\n",
       "    </tr>\n",
       "  </thead>\n",
       "  <tbody>\n",
       "    <tr>\n",
       "      <th>0</th>\n",
       "      <td>Mark Pryor</td>\n",
       "      <td>True</td>\n",
       "      <td>39.5%</td>\n",
       "      <td>332,669</td>\n",
       "      <td>NaN</td>\n",
       "      <td>NaN</td>\n",
       "      <td>NaN</td>\n",
       "      <td>NaN</td>\n",
       "      <td>0</td>\n",
       "      <td>Tom Cotton</td>\n",
       "      <td>False</td>\n",
       "      <td>56.5%</td>\n",
       "      <td>476,309</td>\n",
       "      <td>AR</td>\n",
       "      <td>ok</td>\n",
       "      <td>gop</td>\n",
       "      <td>1</td>\n",
       "      <td>17.0</td>\n",
       "    </tr>\n",
       "    <tr>\n",
       "      <th>1</th>\n",
       "      <td>Mark Udall</td>\n",
       "      <td>True</td>\n",
       "      <td>46.0%</td>\n",
       "      <td>916,245</td>\n",
       "      <td>NaN</td>\n",
       "      <td>NaN</td>\n",
       "      <td>NaN</td>\n",
       "      <td>NaN</td>\n",
       "      <td>0</td>\n",
       "      <td>Cory Gardner</td>\n",
       "      <td>False</td>\n",
       "      <td>48.5%</td>\n",
       "      <td>965,974</td>\n",
       "      <td>CO</td>\n",
       "      <td>ok</td>\n",
       "      <td>gop</td>\n",
       "      <td>1</td>\n",
       "      <td>2.5</td>\n",
       "    </tr>\n",
       "    <tr>\n",
       "      <th>2</th>\n",
       "      <td>Michelle Nunn</td>\n",
       "      <td>False</td>\n",
       "      <td>45.1%</td>\n",
       "      <td>1,154,388</td>\n",
       "      <td>Amanda Swafford</td>\n",
       "      <td>False</td>\n",
       "      <td>1.9%</td>\n",
       "      <td>48,930</td>\n",
       "      <td>lib</td>\n",
       "      <td>David Perdue</td>\n",
       "      <td>False</td>\n",
       "      <td>53.0%</td>\n",
       "      <td>1,355,392</td>\n",
       "      <td>GA</td>\n",
       "      <td>ok</td>\n",
       "      <td>gop</td>\n",
       "      <td>1</td>\n",
       "      <td>7.9</td>\n",
       "    </tr>\n",
       "    <tr>\n",
       "      <th>3</th>\n",
       "      <td>Bruce Braley</td>\n",
       "      <td>False</td>\n",
       "      <td>43.7%</td>\n",
       "      <td>491,708</td>\n",
       "      <td>NaN</td>\n",
       "      <td>NaN</td>\n",
       "      <td>NaN</td>\n",
       "      <td>NaN</td>\n",
       "      <td>0</td>\n",
       "      <td>Joni Ernst</td>\n",
       "      <td>False</td>\n",
       "      <td>52.2%</td>\n",
       "      <td>586,921</td>\n",
       "      <td>IA</td>\n",
       "      <td>ok</td>\n",
       "      <td>gop</td>\n",
       "      <td>1</td>\n",
       "      <td>8.5</td>\n",
       "    </tr>\n",
       "    <tr>\n",
       "      <th>4</th>\n",
       "      <td>NaN</td>\n",
       "      <td>NaN</td>\n",
       "      <td>NaN</td>\n",
       "      <td>NaN</td>\n",
       "      <td>Greg Orman</td>\n",
       "      <td>False</td>\n",
       "      <td>42.5%</td>\n",
       "      <td>358,898</td>\n",
       "      <td>ind</td>\n",
       "      <td>Pat Roberts</td>\n",
       "      <td>True</td>\n",
       "      <td>53.3%</td>\n",
       "      <td>449,974</td>\n",
       "      <td>KS</td>\n",
       "      <td>ok</td>\n",
       "      <td>gop</td>\n",
       "      <td>1</td>\n",
       "      <td>10.8</td>\n",
       "    </tr>\n",
       "  </tbody>\n",
       "</table>\n",
       "</div>"
      ],
      "text/plain": [
       "     d_candidate d_incumbent  d_pct    d_votes      o_candidate o_incumbent  o_pct  o_votes other   r_candidate r_incumbent  r_pct    r_votes state status winner  winrepub  spread\n",
       "0     Mark Pryor        True  39.5%    332,669              NaN         NaN    NaN      NaN     0    Tom Cotton       False  56.5%    476,309    AR     ok    gop         1    17.0\n",
       "1     Mark Udall        True  46.0%    916,245              NaN         NaN    NaN      NaN     0  Cory Gardner       False  48.5%    965,974    CO     ok    gop         1     2.5\n",
       "2  Michelle Nunn       False  45.1%  1,154,388  Amanda Swafford       False   1.9%   48,930   lib  David Perdue       False  53.0%  1,355,392    GA     ok    gop         1     7.9\n",
       "3   Bruce Braley       False  43.7%    491,708              NaN         NaN    NaN      NaN     0    Joni Ernst       False  52.2%    586,921    IA     ok    gop         1     8.5\n",
       "4            NaN         NaN    NaN        NaN       Greg Orman       False  42.5%  358,898   ind   Pat Roberts        True  53.3%    449,974    KS     ok    gop         1    10.8"
      ]
     },
     "execution_count": 35,
     "metadata": {},
     "output_type": "execute_result"
    }
   ],
   "source": [
    "resudf.head(5)"
   ]
  },
  {
   "cell_type": "markdown",
   "metadata": {},
   "source": [
    "Looking at the `resudf` frame we see that the republican and democratic percentages are strings. We'll fix that. Also note that (last line of the frame above) the `KS` election was against an independent candidate, Greg Orman, who is likely to have caucused with the democrats. We'll attribute his vote percentage to the democrats. \n",
    "\n",
    "Lets correct the data frame for these."
   ]
  },
  {
   "cell_type": "code",
   "execution_count": 36,
   "metadata": {
    "collapsed": true
   },
   "outputs": [],
   "source": [
    "rpct = resudf.r_pct.apply(lambda x: float(x[:-1]))\n",
    "dpcts = (resudf.state!='KS')*resudf.d_pct\n",
    "dpcts[4]=resudf.o_pct[4]#put the other percentage towards the democrats\n",
    "dpct = dpcts.apply(lambda x: float(x[:-1]))"
   ]
  },
  {
   "cell_type": "markdown",
   "metadata": {},
   "source": [
    "Add a spread column to see what the spreads in the actual election were."
   ]
  },
  {
   "cell_type": "code",
   "execution_count": 37,
   "metadata": {
    "collapsed": false,
    "scrolled": false
   },
   "outputs": [
    {
     "data": {
      "text/html": [
       "<div>\n",
       "<table border=\"1\" class=\"dataframe\">\n",
       "  <thead>\n",
       "    <tr style=\"text-align: right;\">\n",
       "      <th></th>\n",
       "      <th>d_candidate</th>\n",
       "      <th>d_incumbent</th>\n",
       "      <th>d_pct</th>\n",
       "      <th>d_votes</th>\n",
       "      <th>o_candidate</th>\n",
       "      <th>o_incumbent</th>\n",
       "      <th>o_pct</th>\n",
       "      <th>o_votes</th>\n",
       "      <th>other</th>\n",
       "      <th>r_candidate</th>\n",
       "      <th>r_incumbent</th>\n",
       "      <th>r_pct</th>\n",
       "      <th>r_votes</th>\n",
       "      <th>state</th>\n",
       "      <th>status</th>\n",
       "      <th>winner</th>\n",
       "      <th>winrepub</th>\n",
       "      <th>spread</th>\n",
       "    </tr>\n",
       "  </thead>\n",
       "  <tbody>\n",
       "    <tr>\n",
       "      <th>0</th>\n",
       "      <td>Mark Pryor</td>\n",
       "      <td>True</td>\n",
       "      <td>39.5%</td>\n",
       "      <td>332,669</td>\n",
       "      <td>NaN</td>\n",
       "      <td>NaN</td>\n",
       "      <td>NaN</td>\n",
       "      <td>NaN</td>\n",
       "      <td>0</td>\n",
       "      <td>Tom Cotton</td>\n",
       "      <td>False</td>\n",
       "      <td>56.5%</td>\n",
       "      <td>476,309</td>\n",
       "      <td>AR</td>\n",
       "      <td>ok</td>\n",
       "      <td>gop</td>\n",
       "      <td>1</td>\n",
       "      <td>17.0</td>\n",
       "    </tr>\n",
       "    <tr>\n",
       "      <th>1</th>\n",
       "      <td>Mark Udall</td>\n",
       "      <td>True</td>\n",
       "      <td>46.0%</td>\n",
       "      <td>916,245</td>\n",
       "      <td>NaN</td>\n",
       "      <td>NaN</td>\n",
       "      <td>NaN</td>\n",
       "      <td>NaN</td>\n",
       "      <td>0</td>\n",
       "      <td>Cory Gardner</td>\n",
       "      <td>False</td>\n",
       "      <td>48.5%</td>\n",
       "      <td>965,974</td>\n",
       "      <td>CO</td>\n",
       "      <td>ok</td>\n",
       "      <td>gop</td>\n",
       "      <td>1</td>\n",
       "      <td>2.5</td>\n",
       "    </tr>\n",
       "    <tr>\n",
       "      <th>2</th>\n",
       "      <td>Michelle Nunn</td>\n",
       "      <td>False</td>\n",
       "      <td>45.1%</td>\n",
       "      <td>1,154,388</td>\n",
       "      <td>Amanda Swafford</td>\n",
       "      <td>False</td>\n",
       "      <td>1.9%</td>\n",
       "      <td>48,930</td>\n",
       "      <td>lib</td>\n",
       "      <td>David Perdue</td>\n",
       "      <td>False</td>\n",
       "      <td>53.0%</td>\n",
       "      <td>1,355,392</td>\n",
       "      <td>GA</td>\n",
       "      <td>ok</td>\n",
       "      <td>gop</td>\n",
       "      <td>1</td>\n",
       "      <td>7.9</td>\n",
       "    </tr>\n",
       "    <tr>\n",
       "      <th>3</th>\n",
       "      <td>Bruce Braley</td>\n",
       "      <td>False</td>\n",
       "      <td>43.7%</td>\n",
       "      <td>491,708</td>\n",
       "      <td>NaN</td>\n",
       "      <td>NaN</td>\n",
       "      <td>NaN</td>\n",
       "      <td>NaN</td>\n",
       "      <td>0</td>\n",
       "      <td>Joni Ernst</td>\n",
       "      <td>False</td>\n",
       "      <td>52.2%</td>\n",
       "      <td>586,921</td>\n",
       "      <td>IA</td>\n",
       "      <td>ok</td>\n",
       "      <td>gop</td>\n",
       "      <td>1</td>\n",
       "      <td>8.5</td>\n",
       "    </tr>\n",
       "    <tr>\n",
       "      <th>4</th>\n",
       "      <td>NaN</td>\n",
       "      <td>NaN</td>\n",
       "      <td>NaN</td>\n",
       "      <td>NaN</td>\n",
       "      <td>Greg Orman</td>\n",
       "      <td>False</td>\n",
       "      <td>42.5%</td>\n",
       "      <td>358,898</td>\n",
       "      <td>ind</td>\n",
       "      <td>Pat Roberts</td>\n",
       "      <td>True</td>\n",
       "      <td>53.3%</td>\n",
       "      <td>449,974</td>\n",
       "      <td>KS</td>\n",
       "      <td>ok</td>\n",
       "      <td>gop</td>\n",
       "      <td>1</td>\n",
       "      <td>10.8</td>\n",
       "    </tr>\n",
       "  </tbody>\n",
       "</table>\n",
       "</div>"
      ],
      "text/plain": [
       "     d_candidate d_incumbent  d_pct    d_votes      o_candidate o_incumbent  o_pct  o_votes other   r_candidate r_incumbent  r_pct    r_votes state status winner  winrepub  spread\n",
       "0     Mark Pryor        True  39.5%    332,669              NaN         NaN    NaN      NaN     0    Tom Cotton       False  56.5%    476,309    AR     ok    gop         1    17.0\n",
       "1     Mark Udall        True  46.0%    916,245              NaN         NaN    NaN      NaN     0  Cory Gardner       False  48.5%    965,974    CO     ok    gop         1     2.5\n",
       "2  Michelle Nunn       False  45.1%  1,154,388  Amanda Swafford       False   1.9%   48,930   lib  David Perdue       False  53.0%  1,355,392    GA     ok    gop         1     7.9\n",
       "3   Bruce Braley       False  43.7%    491,708              NaN         NaN    NaN      NaN     0    Joni Ernst       False  52.2%    586,921    IA     ok    gop         1     8.5\n",
       "4            NaN         NaN    NaN        NaN       Greg Orman       False  42.5%  358,898   ind   Pat Roberts        True  53.3%    449,974    KS     ok    gop         1    10.8"
      ]
     },
     "execution_count": 37,
     "metadata": {},
     "output_type": "execute_result"
    }
   ],
   "source": [
    "resudf['spread'] = rpct - dpct\n",
    "resudf.head(5)"
   ]
  },
  {
   "cell_type": "markdown",
   "metadata": {},
   "source": [
    "We'll merge relevant quantities from both `resudf` and `weighted` data frames to obtain a data frame from which we can compare the spreads we estimate to the actual spreads."
   ]
  },
  {
   "cell_type": "code",
   "execution_count": 38,
   "metadata": {
    "collapsed": false
   },
   "outputs": [
    {
     "data": {
      "text/html": [
       "<div>\n",
       "<table border=\"1\" class=\"dataframe\">\n",
       "  <thead>\n",
       "    <tr style=\"text-align: right;\">\n",
       "      <th></th>\n",
       "      <th>state</th>\n",
       "      <th>winrepub</th>\n",
       "      <th>spread</th>\n",
       "      <th>N</th>\n",
       "      <th>poll_mean</th>\n",
       "      <th>poll_std</th>\n",
       "    </tr>\n",
       "  </thead>\n",
       "  <tbody>\n",
       "    <tr>\n",
       "      <th>0</th>\n",
       "      <td>AR</td>\n",
       "      <td>1</td>\n",
       "      <td>17.0</td>\n",
       "      <td>56</td>\n",
       "      <td>3.950850</td>\n",
       "      <td>5.077292</td>\n",
       "    </tr>\n",
       "    <tr>\n",
       "      <th>1</th>\n",
       "      <td>CO</td>\n",
       "      <td>1</td>\n",
       "      <td>2.5</td>\n",
       "      <td>49</td>\n",
       "      <td>1.843248</td>\n",
       "      <td>3.943370</td>\n",
       "    </tr>\n",
       "    <tr>\n",
       "      <th>2</th>\n",
       "      <td>GA</td>\n",
       "      <td>1</td>\n",
       "      <td>7.9</td>\n",
       "      <td>46</td>\n",
       "      <td>1.683561</td>\n",
       "      <td>4.135623</td>\n",
       "    </tr>\n",
       "    <tr>\n",
       "      <th>3</th>\n",
       "      <td>IA</td>\n",
       "      <td>1</td>\n",
       "      <td>8.5</td>\n",
       "      <td>47</td>\n",
       "      <td>0.950752</td>\n",
       "      <td>4.474204</td>\n",
       "    </tr>\n",
       "    <tr>\n",
       "      <th>4</th>\n",
       "      <td>KS</td>\n",
       "      <td>1</td>\n",
       "      <td>10.8</td>\n",
       "      <td>4</td>\n",
       "      <td>6.554440</td>\n",
       "      <td>2.362908</td>\n",
       "    </tr>\n",
       "  </tbody>\n",
       "</table>\n",
       "</div>"
      ],
      "text/plain": [
       "  state  winrepub  spread   N  poll_mean  poll_std\n",
       "0    AR         1    17.0  56   3.950850  5.077292\n",
       "1    CO         1     2.5  49   1.843248  3.943370\n",
       "2    GA         1     7.9  46   1.683561  4.135623\n",
       "3    IA         1     8.5  47   0.950752  4.474204\n",
       "4    KS         1    10.8   4   6.554440  2.362908"
      ]
     },
     "execution_count": 38,
     "metadata": {},
     "output_type": "execute_result"
    }
   ],
   "source": [
    "joined = pd.merge(resudf[['state', 'winrepub', 'spread']], weighted, on=[\"state\"])\n",
    "joined.head()"
   ]
  },
  {
   "cell_type": "markdown",
   "metadata": {},
   "source": [
    "#### 1.8 Plot the predicted spreads from `joined` for each state"
   ]
  },
  {
   "cell_type": "markdown",
   "metadata": {},
   "source": [
    "Here we wish to plot the mean spread (`poll_mean`) and the error on it (`poll_std`), for each state. We then want to compare it to the actual spread of the results (in the `spread` column)."
   ]
  },
  {
   "cell_type": "markdown",
   "metadata": {},
   "source": [
    " The diagram should look something like this:\n",
    "\n",
    "![senate](images/senategraph.png)\n",
    "\n",
    "The x-axis should mark the states. The y axis, the spread. Plot the poll means with green circles, and color in-between 2 standard deviations, assuming a Gaussian distribution. Mark the Republican wins on the diagram in red color, and Democratic wins in blue using the `spread` column in the dataframe. (You can use the first 3 colors in the seaborn color palette)."
   ]
  },
  {
   "cell_type": "code",
   "execution_count": 39,
   "metadata": {
    "collapsed": false
   },
   "outputs": [
    {
     "data": {
      "image/png": "[encoded data removed]",
      "text/plain": [
       "<matplotlib.figure.Figure at 0x10b28f710>"
      ]
     },
     "metadata": {},
     "output_type": "display_data"
    }
   ],
   "source": [
    "#your code here\n",
    "c0=sns.color_palette()[0]\n",
    "c1=sns.color_palette()[1]\n",
    "c2=sns.color_palette()[2]\n",
    "rmap={0:c0, 1:c2}\n",
    "plt.figure(figsize=(24,10))\n",
    "plt.scatter(joined.index, joined.spread, label=\"actual-spread\", s=80, c=[rmap[e] for e in joined.winrepub]);\n",
    "plt.plot(joined.index, joined.poll_mean, 'o', label=\"estimated\", alpha=0.5, color=c1);\n",
    "plt.fill_between(joined.index, joined.poll_mean+1.96*joined.poll_std, joined.poll_mean-1.96*joined.poll_std, alpha=0.3, color=c1)\n",
    "plt.xticks(joined.index, joined.state);\n"
   ]
  },
  {
   "cell_type": "markdown",
   "metadata": {},
   "source": [
    "Comment on the resulting figure. Using `resudf`, take a look at the incumbency status in the republican wins. Do you see any inconsistencies in the polls? How do the polls predict the spread for republicans as opposed to Democrats?"
   ]
  },
  {
   "cell_type": "markdown",
   "metadata": {},
   "source": [
    "*your answer here*\n",
    "\n",
    "The republican wins were as a general trend under-estimated by the polls leading up to the election. You can see that there are many red dots that fall outside the 2 standard deviation envelope. The democratic wins however were much more accurate. Since in general the results are complementary (i.e. if Republicans are predicted lower, then Democrats must have been predicted higher), there seemed to be a bit of overconfidence in the polls of closer races than actually happened. "
   ]
  },
  {
   "cell_type": "markdown",
   "metadata": {},
   "source": [
    " "
   ]
  },
  {
   "cell_type": "markdown",
   "metadata": {},
   "source": [
    "You should find on the whole that the polling fails to capture the extent of the republican win. Indeed the polls were skewed towards democrats.\n",
    "\n",
    "http://www.huffingtonpost.com/2015/03/24/election-polling_n_6932004.html?ir=India&adsSiteOverride=in\n",
    "\n",
    "http://fivethirtyeight.com/features/the-polls-were-skewed-toward-democrats/\n",
    "\n",
    "How can we fix this? One idea is to add a bias to all the poll spreads -- but you must justify the amount of bias. Even so, you could do it ad-hoc in states you think might have problems polling. For example, historically, senate polls have undersold republicans in red leaning states.\n",
    "\n",
    "Another idea is to bring in such \"state fundamentals\" information into the model directly. This is what pollsters like Nate Silver do. Indeed, in the last question we shall attempt to do this with a restricted set of features. \n"
   ]
  },
  {
   "cell_type": "markdown",
   "metadata": {},
   "source": [
    "## 2. Predicting an election from a previous one: using linear regression to get vote fractions and study the effects of incumbency"
   ]
  },
  {
   "cell_type": "markdown",
   "metadata": {},
   "source": [
    "As an example of a different kind of model, we shall predict an election's vote percentage or spread from the previous elections's vote percentage, and **incumbency**. An incumbent is *a candidate contesting the present election who won the seat in the last one*.  "
   ]
  },
  {
   "cell_type": "markdown",
   "metadata": {},
   "source": [
    "### The State Fundamentals Model"
   ]
  },
  {
   "cell_type": "markdown",
   "metadata": {},
   "source": [
    "In Q1 we said that we ought to bring in some **state fundamentals** to our calculations. What do we mean?\n",
    "\n",
    "We imagine yet another poll in a given state whose spreads reflect these fundamentals, such as demographics, republican-lean, incumbency, fund-raising, race, etc. The results of this poll \"regularize\" the data by having a fair amount of weight in the states when there is not much data, but a smaller weight otherwise (since we then want the data to dominate).\n",
    "\n",
    "But how do we assign the **State Fundamentals Poll**'s spread in the first place? The answer to this is linear regression of the poll spreads against a variety of features described above. \n",
    "\n",
    "We shall consider US House data from 1896 to 1990. This dataset was compiled for [Gelman, Andrew, and Gary King. \"Estimating incumbency advantage without bias.\" American Journal of Political Science (1990): 1142-1164.](http://gking.harvard.edu/files/gking/files/inc.pdf). Why incumbency and why the house? The house gives us lots of races in any given year to validate our model, and in elections which happen every two years, where demography hasn't changed much, incumbency is a large effect, as might be the presence of a national swing (which we would capture in an intercept in a regression).\n",
    "\n",
    "Let us, then, imagine a very simplified model in which the democratic party's fraction of the vote in this election, for seat(county) $i$, at time $t$ years, $d_{i,t}$, is a linear combination of the democratic party's fraction of the vote in the previous election, at time $t-2$, $d_{i, t-2}$, and a categorical variable $I_{i,t}$, which characterizes the nature of the candidate running in this election:\n",
    "\n",
    "$$\n",
    "I =\n",
    "\\begin{cases} \n",
    "      -1 & \\texttt{Republican Incumbent Running} \\\\\n",
    "       0 & \\texttt{New Candidate Running} \\\\\n",
    "       1 & \\texttt{Democratic Incumbent Running}\n",
    "\\end{cases}\n",
    "$$\n",
    "\n",
    "In mathematical notation this regression is:\n",
    "\n",
    "$$d_{t,i} = \\beta_1 d_{i, t-2} + \\beta_2 I_{i,t} + \\beta_0,$$\n",
    "\n",
    "where $d_{i, t-2}$ is the democratic fraction in county $i$ at the previous election, and $I_{i,t}$ is the factor above which tells us if (and from which party: 1 for dems, -1 for reps) an incumbent is running. We want to find $\\beta_0,\\beta_1,\\beta_2$.\n",
    "\n",
    "This is our first example of a 'fundamentals' model in which we try and bring something other than sampling to the election prediction game.\n",
    "\n",
    "Notice that we are regressing on a discrete variable `I`. This incumbency factor takes values 1, -1, or 0. As such it only changes the *intercept* of the regression. You can think of it as 3 regression lines, one for each subpopulation of incumbency, with their *slope constrained to be the same*. An intercept of $\\beta_0$ for open seats, $\\beta_2+\\beta_0$ for Democratic incumbents and $-\\beta_2+\\beta_0$ for Republican incumbents.\n",
    "\n",
    "If we can detect a linear trend in the data, a linear regression ought to do a reasonable job. Lets see if this is the case.\n",
    "\n",
    "Let's first prepare the data."
   ]
  },
  {
   "cell_type": "markdown",
   "metadata": {},
   "source": [
    "#### Data Preparation and Cleaning"
   ]
  },
  {
   "cell_type": "markdown",
   "metadata": {},
   "source": [
    "I've excerpted relevant parts of the dataset documentation in its README file (in the folder `data/congress`) here for you:\n",
    "\n",
    "BEGIN QUOTE:\n",
    "\n",
    "Each file is formatted identically with blanks between columns and with the\n",
    "following fields: (1) State #, (2) District #, (3) Incumbency Code, (4) #\n",
    "Democratic votes, and (5) # Republican votes.  In all cases, a value of -9\n",
    "was entered when there was either no data available or appropriate for that\n",
    "field.  Vote totals can always be compared between elections with the same\n",
    "state and district number between major redistricting periods.  For\n",
    "example, the election files corresponding to 1942-1950 will all have the\n",
    "same number of rows.\n",
    "\n",
    "- District #:  Districts are numbered as they are by law in each state, with\n",
    "     the exception that At-Large districts are numbered starting from 98 in\n",
    "     descending order.  Thus, a 10-district state which includes 2 at-large\n",
    "     districts will have district numbers 1-8, 97, 98.  Each state will\n",
    "     have the same number of districts in every file from any given\n",
    "     redistricting period.  If the above state were to lose its at-large\n",
    "     districts and change to 10 standard geographic districts before its\n",
    "     next census-based redistricting, then each file from that\n",
    "     redistricting period will have district numbers 1-10, 97, 98, with -9s\n",
    "     filled in for nonexistent elections.\n",
    "- Incumbency Code:  0=Open seat, 1=Democratic incumbent, -1=Republican\n",
    "     incumbent.\n",
    "- num Democratic votes:  The vote total for the Democratic candidate.  If the\n",
    "     Democratic candidate was also endorsed by a third party, then we have\n",
    "     added the two vote totals.\n",
    "- num Republican votes:  The vote total for the Republican candidate.  If the\n",
    "     Republican candidate was also endorsed by a third party, then we have\n",
    "     added the two vote totals.\n",
    "     \n",
    "Who Won?  Winners can generally be determined from the files by seeing\n",
    " which candidate has more votes.  However, this only works for standard\n",
    " elections, where a Democrat runs against a Republican and one of them\n",
    " wins.  Occasionally, however, a 3d-party candidate will win, or the\n",
    " vote totals for the winner will not be available.  In order to\n",
    " preserve what was known about those elections, the following algorithm\n",
    " should be used to figure out winners:\n",
    "\n",
    "1. IF both parties have vote totals >= 0, THEN the party with more\n",
    "votes is the winner.\n",
    "2. IF both parties have vote totals = -9, THEN either no election took\n",
    "place, OR there is a 3d-Party winner, OR there was an at-large\n",
    "election.  In the latter two cases, the election results were\n",
    "recorded in the exceptions file (excepth.asc).\n",
    "3. IF one party has a vote total = 0 AND the other party has a vote\n",
    "total recorded as -9 then that election should be in the\n",
    "exceptions file (most of these are uncontested elections where\n",
    "the number of votes for the winner was not reported).\n",
    "4. IF one party has a vote total > 0 AND the other party has a vote\n",
    "total = -9, THEN the first party is the winner.\n",
    "          \n",
    "END QUOTE"
   ]
  },
  {
   "cell_type": "markdown",
   "metadata": {},
   "source": [
    "We take pairs of elections, taking care to leave out the pairs which are on two sides of a redistricting."
   ]
  },
  {
   "cell_type": "code",
   "execution_count": 40,
   "metadata": {
    "collapsed": true
   },
   "outputs": [],
   "source": [
    "pairs=[\n",
    "    (1898,1896),\n",
    "    (1900,1898),\n",
    "    (1904,1902),\n",
    "    (1906,1904),\n",
    "    (1908, 1906),\n",
    "    (1910, 1908),\n",
    "    (1914, 1912),\n",
    "    (1916, 1914),\n",
    "    (1918, 1916),\n",
    "    (1920, 1918),\n",
    "    (1924, 1922),\n",
    "    (1926, 1924),\n",
    "    (1928, 1926),\n",
    "    (1930, 1928),\n",
    "    (1934, 1932),\n",
    "    (1936, 1934),\n",
    "    (1938, 1936),\n",
    "    (1940, 1938),\n",
    "    (1944, 1942),\n",
    "    (1946, 1944),\n",
    "    (1948, 1946),\n",
    "    (1950, 1948),\n",
    "    (1954, 1952),\n",
    "    (1956, 1954),\n",
    "    (1958, 1956),\n",
    "    (1960, 1958),\n",
    "    (1964, 1962),\n",
    "    (1966, 1964),\n",
    "    (1968, 1966),\n",
    "    (1970, 1968),\n",
    "    (1974, 1972),\n",
    "    (1976, 1974),\n",
    "    (1978, 1976),\n",
    "    (1980, 1978),\n",
    "    (1984, 1982),\n",
    "    (1986, 1984),\n",
    "    (1988, 1986),\n",
    "    (1990, 1988)\n",
    "]"
   ]
  },
  {
   "cell_type": "markdown",
   "metadata": {},
   "source": [
    "We read the pairs into a dataframe. This is the information we capture:\n",
    "\n",
    "- a number for the state\n",
    "- a number for the district\n",
    "- D1 and R1, the dem and repub percentages in the past election, and I1 the incumency back then\n",
    "- D and R, the dem and repub percentages in the present election, and I the incumbency now\n",
    "- P, the incumbent party from the past election in that seat, 1 for democrats, -1 for republicans\n",
    "- PNOW, the party which won the current election, 1 for democrats, -1 for republicans\n",
    "\n",
    "(the command below will take some time)"
   ]
  },
  {
   "cell_type": "code",
   "execution_count": 41,
   "metadata": {
    "collapsed": false
   },
   "outputs": [],
   "source": [
    "frames={}\n",
    "colnames1=['state', 'district', 'I1', 'D1','R1']\n",
    "colnames2=['state', 'district', 'I', 'D','R']\n",
    "\n",
    "for p in pairs:\n",
    "    f2=pd.read_table(\"./data/congress/%s.asc\" % str(p[0]), sep='\\s+', header=None, names=colnames2)\n",
    "    f1=pd.read_table(\"./data/congress/%s.asc\" % str(p[1]), sep='\\s+', header=None, names=colnames1)\n",
    "    #eliminate any data thats not known\n",
    "    f2n=f2[f2.I!=-9]\n",
    "    f2n=f2n[f2n.D!=-9]\n",
    "    f2n=f2n[f2n.R!=-9]\n",
    "    temp=pd.merge(f2n, f1, on=['state','district'])\n",
    "    #And get rid of stuff from the previous election\n",
    "    temp=temp[temp.D1!=-9]\n",
    "    temp=temp[temp.R1!=-9]\n",
    "    temp['DP']=temp.D/(temp.D+temp.R)\n",
    "    temp['DP1']=temp.D1/(temp.D1+temp.R1)\n",
    "    del temp['I1']#dont care about past election's incumbency\n",
    "    temp['P'] = 2*(temp.D1 > temp.R1)-1\n",
    "    temp['PNOW'] = 1*(temp.D > temp.R)\n",
    "    temp['T'] = 1 - temp.I/temp.P\n",
    "    #wierdly coded data. Temp['T'] should  never be 2\n",
    "    temp = temp[temp['T']!=2]\n",
    "    key = str(p[0])+\"-\"+str(p[1])\n",
    "    #further cleaning.\n",
    "    temp2=temp[(temp.R!=0) & (temp.D !=0) & (temp.R1!=0) & (temp.D1!=0)]\n",
    "    frames[key]=temp2.copy()"
   ]
  },
  {
   "cell_type": "markdown",
   "metadata": {},
   "source": [
    "After removing some pathological data coded with `-9`, we then join the two frames obtained from the past and current election. We remove the past incumbency status, since that affects the past election, not the current one. We produce a column `DP` which is the current democratic fraction, `DP1`, the old democratic fraction, `P` which represents which party won the last election, and `PNOW`, which is 1 if a district has a democratic winner, and 0 if the winner is republican. There are some other columns we dont need, but are interesting if you want to play with the data later.\n",
    "\n",
    "The frames dictionary stores these dataframes, keyed by the year pairs.\n",
    "\n",
    "Lets see what the frame for the 1990-1988 pair looks like:"
   ]
  },
  {
   "cell_type": "code",
   "execution_count": 42,
   "metadata": {
    "collapsed": false,
    "scrolled": true
   },
   "outputs": [
    {
     "data": {
      "text/html": [
       "<div>\n",
       "<table border=\"1\" class=\"dataframe\">\n",
       "  <thead>\n",
       "    <tr style=\"text-align: right;\">\n",
       "      <th></th>\n",
       "      <th>state</th>\n",
       "      <th>district</th>\n",
       "      <th>I</th>\n",
       "      <th>D</th>\n",
       "      <th>R</th>\n",
       "      <th>D1</th>\n",
       "      <th>R1</th>\n",
       "      <th>DP</th>\n",
       "      <th>DP1</th>\n",
       "      <th>P</th>\n",
       "      <th>PNOW</th>\n",
       "      <th>T</th>\n",
       "    </tr>\n",
       "  </thead>\n",
       "  <tbody>\n",
       "    <tr>\n",
       "      <th>0</th>\n",
       "      <td>1</td>\n",
       "      <td>1</td>\n",
       "      <td>1</td>\n",
       "      <td>126566</td>\n",
       "      <td>50690</td>\n",
       "      <td>176463</td>\n",
       "      <td>51985</td>\n",
       "      <td>0.714029</td>\n",
       "      <td>0.772443</td>\n",
       "      <td>1</td>\n",
       "      <td>1</td>\n",
       "      <td>0</td>\n",
       "    </tr>\n",
       "    <tr>\n",
       "      <th>1</th>\n",
       "      <td>1</td>\n",
       "      <td>2</td>\n",
       "      <td>1</td>\n",
       "      <td>105085</td>\n",
       "      <td>70922</td>\n",
       "      <td>143326</td>\n",
       "      <td>81965</td>\n",
       "      <td>0.597050</td>\n",
       "      <td>0.636182</td>\n",
       "      <td>1</td>\n",
       "      <td>1</td>\n",
       "      <td>0</td>\n",
       "    </tr>\n",
       "    <tr>\n",
       "      <th>2</th>\n",
       "      <td>1</td>\n",
       "      <td>3</td>\n",
       "      <td>0</td>\n",
       "      <td>90772</td>\n",
       "      <td>83440</td>\n",
       "      <td>147394</td>\n",
       "      <td>74275</td>\n",
       "      <td>0.521043</td>\n",
       "      <td>0.664928</td>\n",
       "      <td>1</td>\n",
       "      <td>1</td>\n",
       "      <td>1</td>\n",
       "    </tr>\n",
       "    <tr>\n",
       "      <th>3</th>\n",
       "      <td>1</td>\n",
       "      <td>4</td>\n",
       "      <td>-1</td>\n",
       "      <td>32352</td>\n",
       "      <td>105682</td>\n",
       "      <td>55751</td>\n",
       "      <td>147843</td>\n",
       "      <td>0.234377</td>\n",
       "      <td>0.273834</td>\n",
       "      <td>-1</td>\n",
       "      <td>0</td>\n",
       "      <td>0</td>\n",
       "    </tr>\n",
       "    <tr>\n",
       "      <th>4</th>\n",
       "      <td>1</td>\n",
       "      <td>5</td>\n",
       "      <td>0</td>\n",
       "      <td>85803</td>\n",
       "      <td>93912</td>\n",
       "      <td>58612</td>\n",
       "      <td>163729</td>\n",
       "      <td>0.477439</td>\n",
       "      <td>0.263613</td>\n",
       "      <td>-1</td>\n",
       "      <td>0</td>\n",
       "      <td>1</td>\n",
       "    </tr>\n",
       "  </tbody>\n",
       "</table>\n",
       "</div>"
      ],
      "text/plain": [
       "   state  district  I       D       R      D1      R1        DP       DP1  P  PNOW  T\n",
       "0      1         1  1  126566   50690  176463   51985  0.714029  0.772443  1     1  0\n",
       "1      1         2  1  105085   70922  143326   81965  0.597050  0.636182  1     1  0\n",
       "2      1         3  0   90772   83440  147394   74275  0.521043  0.664928  1     1  1\n",
       "3      1         4 -1   32352  105682   55751  147843  0.234377  0.273834 -1     0  0\n",
       "4      1         5  0   85803   93912   58612  163729  0.477439  0.263613 -1     0  1"
      ]
     },
     "execution_count": 42,
     "metadata": {},
     "output_type": "execute_result"
    }
   ],
   "source": [
    "frames['1990-1988'].head()"
   ]
  },
  {
   "cell_type": "markdown",
   "metadata": {},
   "source": [
    "#### Seeing linearity"
   ]
  },
  {
   "cell_type": "markdown",
   "metadata": {},
   "source": [
    "Now, using this dataframe, let us see if there is reasonable linearity in our data set."
   ]
  },
  {
   "cell_type": "code",
   "execution_count": 43,
   "metadata": {
    "collapsed": false
   },
   "outputs": [
    {
     "data": {
      "text/plain": [
       "<matplotlib.axes._subplots.AxesSubplot at 0x10b031ad0>"
      ]
     },
     "execution_count": 43,
     "metadata": {},
     "output_type": "execute_result"
    },
    {
     "data": {
      "image/png": "[encoded data removed]",
      "text/plain": [
       "<matplotlib.figure.Figure at 0x10b05e610>"
      ]
     },
     "metadata": {},
     "output_type": "display_data"
    }
   ],
   "source": [
    "sns.regplot(x=\"DP1\", y=\"DP\", data=frames['1990-1988'])"
   ]
  },
  {
   "cell_type": "markdown",
   "metadata": {},
   "source": [
    "### Linear Regression"
   ]
  },
  {
   "cell_type": "markdown",
   "metadata": {},
   "source": [
    "Looks like there is some linear trend at the very least. Lets fit a linear regression:"
   ]
  },
  {
   "cell_type": "markdown",
   "metadata": {},
   "source": [
    "To carry out the linear regression we'll use `statsmodels` from python, using the `ols`, or Ordinary Least Squares method defined there.\n",
    "\n",
    "We use the `statsmodels` formula notation. `DP ~ DP1 + I` means linear regress `DP`, the democratic fraction of the vote this time around for a given house seat on `DP1` which is the democratic fraction the previous time around and `I`, a \"factor\" or categorical(nominal) variable with 3 levels: "
   ]
  },
  {
   "cell_type": "code",
   "execution_count": 44,
   "metadata": {
    "collapsed": true
   },
   "outputs": [],
   "source": [
    "import statsmodels.api as sm\n",
    "from statsmodels.formula.api import glm, ols"
   ]
  },
  {
   "cell_type": "code",
   "execution_count": 45,
   "metadata": {
    "collapsed": false
   },
   "outputs": [
    {
     "data": {
      "text/plain": [
       "<statsmodels.regression.linear_model.RegressionResultsWrapper at 0x10ca14650>"
      ]
     },
     "execution_count": 45,
     "metadata": {},
     "output_type": "execute_result"
    }
   ],
   "source": [
    "ols_model = ols('DP ~ DP1 + I', frames['1990-1988']).fit()\n",
    "ols_model"
   ]
  },
  {
   "cell_type": "code",
   "execution_count": 46,
   "metadata": {
    "collapsed": false
   },
   "outputs": [
    {
     "data": {
      "text/html": [
       "<table class=\"simpletable\">\n",
       "<caption>OLS Regression Results</caption>\n",
       "<tr>\n",
       "  <th>Dep. Variable:</th>           <td>DP</td>        <th>  R-squared:         </th> <td>   0.806</td> \n",
       "</tr>\n",
       "<tr>\n",
       "  <th>Model:</th>                   <td>OLS</td>       <th>  Adj. R-squared:    </th> <td>   0.804</td> \n",
       "</tr>\n",
       "<tr>\n",
       "  <th>Method:</th>             <td>Least Squares</td>  <th>  F-statistic:       </th> <td>   612.0</td> \n",
       "</tr>\n",
       "<tr>\n",
       "  <th>Date:</th>             <td>Fri, 02 Oct 2015</td> <th>  Prob (F-statistic):</th> <td>1.04e-105</td>\n",
       "</tr>\n",
       "<tr>\n",
       "  <th>Time:</th>                 <td>11:40:51</td>     <th>  Log-Likelihood:    </th> <td>  368.81</td> \n",
       "</tr>\n",
       "<tr>\n",
       "  <th>No. Observations:</th>      <td>   298</td>      <th>  AIC:               </th> <td>  -731.6</td> \n",
       "</tr>\n",
       "<tr>\n",
       "  <th>Df Residuals:</th>          <td>   295</td>      <th>  BIC:               </th> <td>  -720.5</td> \n",
       "</tr>\n",
       "<tr>\n",
       "  <th>Df Model:</th>              <td>     2</td>      <th>                     </th>     <td> </td>    \n",
       "</tr>\n",
       "<tr>\n",
       "  <th>Covariance Type:</th>      <td>nonrobust</td>    <th>                     </th>     <td> </td>    \n",
       "</tr>\n",
       "</table>\n",
       "<table class=\"simpletable\">\n",
       "<tr>\n",
       "      <td></td>         <th>coef</th>     <th>std err</th>      <th>t</th>      <th>P>|t|</th> <th>[95.0% Conf. Int.]</th> \n",
       "</tr>\n",
       "<tr>\n",
       "  <th>Intercept</th> <td>    0.2326</td> <td>    0.020</td> <td>   11.503</td> <td> 0.000</td> <td>    0.193     0.272</td>\n",
       "</tr>\n",
       "<tr>\n",
       "  <th>DP1</th>       <td>    0.5622</td> <td>    0.040</td> <td>   14.220</td> <td> 0.000</td> <td>    0.484     0.640</td>\n",
       "</tr>\n",
       "<tr>\n",
       "  <th>I</th>         <td>    0.0429</td> <td>    0.008</td> <td>    5.333</td> <td> 0.000</td> <td>    0.027     0.059</td>\n",
       "</tr>\n",
       "</table>\n",
       "<table class=\"simpletable\">\n",
       "<tr>\n",
       "  <th>Omnibus:</th>       <td> 7.465</td> <th>  Durbin-Watson:     </th> <td>   1.728</td>\n",
       "</tr>\n",
       "<tr>\n",
       "  <th>Prob(Omnibus):</th> <td> 0.024</td> <th>  Jarque-Bera (JB):  </th> <td>   7.316</td>\n",
       "</tr>\n",
       "<tr>\n",
       "  <th>Skew:</th>          <td> 0.374</td> <th>  Prob(JB):          </th> <td>  0.0258</td>\n",
       "</tr>\n",
       "<tr>\n",
       "  <th>Kurtosis:</th>      <td> 3.174</td> <th>  Cond. No.          </th> <td>    13.1</td>\n",
       "</tr>\n",
       "</table>"
      ],
      "text/plain": [
       "<class 'statsmodels.iolib.summary.Summary'>\n",
       "\"\"\"\n",
       "                            OLS Regression Results                            \n",
       "==============================================================================\n",
       "Dep. Variable:                     DP   R-squared:                       0.806\n",
       "Model:                            OLS   Adj. R-squared:                  0.804\n",
       "Method:                 Least Squares   F-statistic:                     612.0\n",
       "Date:                Fri, 02 Oct 2015   Prob (F-statistic):          1.04e-105\n",
       "Time:                        11:40:51   Log-Likelihood:                 368.81\n",
       "No. Observations:                 298   AIC:                            -731.6\n",
       "Df Residuals:                     295   BIC:                            -720.5\n",
       "Df Model:                           2                                         \n",
       "Covariance Type:            nonrobust                                         \n",
       "==============================================================================\n",
       "                 coef    std err          t      P>|t|      [95.0% Conf. Int.]\n",
       "------------------------------------------------------------------------------\n",
       "Intercept      0.2326      0.020     11.503      0.000         0.193     0.272\n",
       "DP1            0.5622      0.040     14.220      0.000         0.484     0.640\n",
       "I              0.0429      0.008      5.333      0.000         0.027     0.059\n",
       "==============================================================================\n",
       "Omnibus:                        7.465   Durbin-Watson:                   1.728\n",
       "Prob(Omnibus):                  0.024   Jarque-Bera (JB):                7.316\n",
       "Skew:                           0.374   Prob(JB):                       0.0258\n",
       "Kurtosis:                       3.174   Cond. No.                         13.1\n",
       "==============================================================================\n",
       "\n",
       "Warnings:\n",
       "[1] Standard Errors assume that the covariance matrix of the errors is correctly specified.\n",
       "\"\"\""
      ]
     },
     "execution_count": 46,
     "metadata": {},
     "output_type": "execute_result"
    }
   ],
   "source": [
    "ols_model.summary()"
   ]
  },
  {
   "cell_type": "markdown",
   "metadata": {},
   "source": [
    "The $R^2$ seems reasonable."
   ]
  },
  {
   "cell_type": "markdown",
   "metadata": {},
   "source": [
    "#### Prediction vs Explanation"
   ]
  },
  {
   "cell_type": "markdown",
   "metadata": {},
   "source": [
    "If you were an analyst or pollster for the democratic or republican party, or just trying to understand fundamentals better, what you really want is an explanation for which features in your model are important. Is incumbency important if you are republican? Or would you be better off with a new candidate? The first thing to do is to **describe** relationships in terms of correlation. Then we try and **explain** it.\n",
    "\n",
    "\n",
    "There is a difference between description, prediction and explanation (more precisely, causal explanation). We'll refer you to a nice paper on this (https://www.stat.berkeley.edu/~aldous/157/Papers/shmueli.pdf), but the basic idea, which we adapt from the paper and describe (quoted) in the words of the paper, is that we can describe our modeling efforts by a 3-term ontology\n",
    "\n",
    "(1) Most statistics is concerned with *Descriptive Modeling* which is:\n",
    "\n",
    ">the most commonly used and developed by statisticians. This type of modeling is aimed at summarizing or representing the data structure in a compact manner. Unlike explanatory modeling, in descriptive modeling the reliance on an underlying causal theory is absent... Fitting a regression model can be descriptive if it is used for capturing the association between the dependent and independent variables rather than for causal inference or for prediction.\n",
    "\n",
    "\n",
    "(2) Predictive Statistics\n",
    "\n",
    ">predictive modeling is the process of applying a statistical model or data mining algorithm to data for the purpose of predicting new or future observations...Predictions include point or interval predictions, prediction regions, predictive distributions, or rankings of new observations. Predictive model is any method that produces predictions, regardless of its underlying approach: Bayesian or frequentist, parametric or nonparametric, data mining algorithm or statistical model, etc.\n",
    "\n",
    "(3) Explanatory Statistics\n",
    "\n",
    ">explaining is causal explanation and explanatory modeling is the use of statistical models, especially regression, for testing causal explanations.\n"
   ]
  },
  {
   "cell_type": "markdown",
   "metadata": {},
   "source": [
    "For descriptive and explanatory purposes it is very important to get features right. For predictive modeling, as we shall see in the next homework, we can sometimes play fast and furious with our features, and are more concerned with the *out of sample* predictive performance than any interpretability of our features. We shall encounter such modeling soon.\n",
    "\n",
    "In this question, though, we are more focussed on descriptive modeling. In question 3, we'll use this descriptive modeling in the aid of the prediction we tried in Q1, a really simple kind of prediction where we try and learn a simple population statistic(spread) from sample statistics.\n",
    "\n",
    "As an example of our descriptive process here, consider incumbency. You might decide to test incumbency by simply computing the proportion of incumbents who win-reelection. If this is high, go with your incumbents.\n",
    "\n",
    "This may seem like a reasonable approach, but after a bit of thinking you'll start seeing drawbacks. In particular, you would be overstating the effect of incumbency, because it does not take into account that there could be a high re-election rate for incumbents due to differences in districts. To be principled you do the regression:\n",
    "\n",
    "`DP1 ~ DP + I`. \n",
    "\n",
    "We did this above. At this point you might ask, is this enough? You then think a little bit more and realize that, for example, in many conservative districts you will have a republican elected whether he/she is an incumbent or not. And you now realize that our analysis does not consider the party of the incumbent. So you decide to fix this\n",
    "\n",
    "Lets define $P_{t,i}$ as the party in power right now before the election at time $t$, i.e. the party that won the election at time $t-2$ in county $i$. It takes on values:\n",
    "\n",
    "$$\n",
    "P =\n",
    "\\begin{cases} \n",
    "      -1 & \\texttt{Republican Seat holder} \\\\\n",
    "       1 & \\texttt{Democratic Seat holder}\n",
    "\\end{cases}\n",
    "$$\n",
    "\n",
    "We can do this regression instead:\n",
    "\n",
    "DP1 ~ DP + I + P, where\n",
    "\n",
    "P represents the incumbent party, i.e. the party which won the election in year t−2.\n",
    "\n",
    "In mathematical notation we have:\n",
    "\n",
    "$$d_{t,i} = \\beta_1 d_{t-2,i} + \\beta_2 I_{t,i} + \\beta_3 P_{t,i} + \\beta_0 ,$$\n",
    "\n",
    "where $P_{t,i}$ is the party in power right now before the election at time $t$, i.e. the party that won the election at time $t-2$ in county $i$. The value of $P$ is 1 for democrats, and -1 for republicans."
   ]
  },
  {
   "cell_type": "markdown",
   "metadata": {},
   "source": [
    "###Interpretable Regressions"
   ]
  },
  {
   "cell_type": "markdown",
   "metadata": {},
   "source": [
    "One can say that **The coefficient of `I` now more properly captures the ￼effect of incumbency, after controlling for party.**\n",
    "\n",
    "Regression coefficients become harder to interpret with multiple features. The meaning of any given coefficient depends on the other features in the model. Gelman and Hill advise: **Typical advice is to interpret each coefficient “with all the other predictors held constant.”**[Gelman, Andrew; Hill, Jennifer (2006-12-25). Data Analysis Using Regression and Multilevel/Hierarchical Models] Economists like to use the phrase \"ceteris paribus\" to describe this."
   ]
  },
  {
   "cell_type": "markdown",
   "metadata": {},
   "source": [
    "The way to do this is interpretation to look at the various cases and explain what the co-efficients of `P` and `I` mean. Let us at first set `I` to 0 meaning no incumbents and explain what the coefficients of `P` mean. \n",
    "We are then fitting:\n",
    "\n",
    "$$d_{t,i} = \\beta_1 d_{t-2,i} + \\beta_3 P_{t,i} + \\beta_0 ,$$\n",
    "\n",
    "which for the $P=1$ (Democrat party winning the past election) case, gives us:\n",
    "\n",
    "$$d_{t,i} = \\beta_1 d_{t-2,i} + \\beta_3 + \\beta_0 ,$$\n",
    "\n",
    "and, for the $P=-1$ (Republican party winning the past election) case, gives us:\n",
    "\n",
    "$$d_{t,i} = \\beta_1 d_{t-2,i} - \\beta_3 + \\beta_0 .$$\n",
    "\n",
    "You can see that $\\beta_3$ then captures half the difference in the effect between democrats and republicans that comes from just having the party incumbent. It tells us that, with respect to the national swing measure $\\beta_0$, whats the party effect for republicans and democrats. It does it very poorly by splitting the difference between the democratic and republican party effects and being constant across seats, but its a start.\n",
    "\n"
   ]
  },
  {
   "cell_type": "markdown",
   "metadata": {},
   "source": [
    "####2.1 Explain the coefficient of Incumbency"
   ]
  },
  {
   "cell_type": "markdown",
   "metadata": {},
   "source": [
    "This is the co-efficient $\\beta_2$. Use a similar argument to the one above. Note that setting $I$ to 1 also constrains $p$ to 1, but the reverse is not true as we saw above."
   ]
  },
  {
   "cell_type": "markdown",
   "metadata": {},
   "source": [
    "*your answer here*\n",
    "\n",
    "On the other hand setting $I=1$ also necessitates setting P to 1. Then we get:\n",
    "\n",
    "$$d_{t,i} = \\beta_1 d_{t-2,i} + \\beta_3 +\\beta_2 + \\beta_0 ,$$\n",
    "\n",
    "and setting $I=-1$ gives: \n",
    "\n",
    "$$d_{t,i} = \\beta_1 d_{t-2,i} - \\beta_3 -\\beta_2 + \\beta_0 .$$\n",
    "\n",
    "TODO: write more explanation."
   ]
  },
  {
   "cell_type": "markdown",
   "metadata": {},
   "source": [
    "#### 2.2 Write a function `ols_regression`  to do such a linear regression for every pair of years"
   ]
  },
  {
   "cell_type": "markdown",
   "metadata": {},
   "source": [
    "We'll linear regress each pair of years in dataframes dictionary `framedict` separately. Since we are interested in description and explanation, rather than prediction, we shall use the entire data set, rather than doing cross-validation. We usually worry about overfitting when dealing with prediction.\n",
    "\n",
    "Write a function `ols_regression(formula, framedict)` of the formula being used and the dictionary of frames we created. Use `statsmodels` as before. We store all the results, one row for each year-pair's regression in an output dataframe.\n",
    "\n",
    "This dataframe has columns `yp`, the year-pair string (the keys of the dictionary of frames), the year for which we do the regression `year` (the higher year in the pair), the `formula`, which is just repeated, and the R-squared in `R2` for each regression, as well as the parameters of the regression and the p-values for the regression (for the name of the column here prefix the parameter with `p_` to denote the p-value). We will explain what these p-values are later.\n",
    "\n",
    "(see `params` and `pvalues` in statsmodels)"
   ]
  },
  {
   "cell_type": "code",
   "execution_count": 47,
   "metadata": {
    "collapsed": true
   },
   "outputs": [],
   "source": [
    "\"\"\"\n",
    "Function\n",
    "--------\n",
    "ols_regression\n",
    "\n",
    "Inputs\n",
    "------\n",
    "formula : a regression formula to be fit\n",
    "framedict : the dictionary above, with keys the year pairs and values the DataFrame for each year pair\n",
    "   \n",
    "Returns\n",
    "-------\n",
    "    A dataframe with columns:\n",
    "    yp: the year pair\n",
    "    year: the higher year of the year pair..an integer\n",
    "    formula: we just copy the formula from the input\n",
    "    R2: the R^2 of each regression\n",
    "    A column corresponding to each param in the regression\n",
    "    A column for each p-value in the regression (stored as p_paramname)\n",
    "Notes\n",
    "-----\n",
    "\"\"\"\n",
    "\n",
    "#your code here\n",
    "def ols_regression(formula, framedict):\n",
    "    loc=[]\n",
    "    for yp, frame in framedict.items():\n",
    "        model = ols(formula, frame).fit()\n",
    "        d = dict(model.params)\n",
    "        e=dict(model.pvalues)\n",
    "        for k,v in e.items():\n",
    "            d['p_'+k]=v\n",
    "        d['yp']=yp\n",
    "        d['year']=int(yp.split('-')[0])\n",
    "        d['formula']=formula\n",
    "        d['R2']=model.rsquared\n",
    "        loc.append(d)\n",
    "    df = pd.DataFrame(loc)\n",
    "    return df.sort(columns=['year'])"
   ]
  },
  {
   "cell_type": "markdown",
   "metadata": {},
   "source": [
    "We provide here a 2x2 viz function `plot_panel` which takes the ols results dataframe and plots the coefficients of 3 features with the \"column\" name (in the dataframe of the feature followed by the label, as arguments, repeated 3 times. The last of the 4 panels, plots the $R^2$."
   ]
  },
  {
   "cell_type": "code",
   "execution_count": 48,
   "metadata": {
    "collapsed": true
   },
   "outputs": [],
   "source": [
    "def plot_panel(ols_frame, *keys):\n",
    "    fig, axes=plt.subplots(figsize=(9,9), nrows=2, ncols=2);\n",
    "    plt.title(ols_frame.formula[0])\n",
    "    axes[0][0].plot(ols_frame.year, ols_frame[keys[0]], '.-', label=keys[1])\n",
    "    axes[0][0].legend()\n",
    "    axes[0][1].plot(ols_frame.year, ols_frame[keys[2]], '.-', label=keys[3])\n",
    "    axes[0][1].legend()\n",
    "    axes[1][0].plot(ols_frame.year, ols_frame[keys[4]], '.-', label=keys[5])\n",
    "    axes[1][0].legend()\n",
    "    axes[1][1].plot(ols_frame.year, ols_frame['R2'], label=\"$R^2$\")\n",
    "    axes[1][1].legend()\n",
    "    axes[1][0].set_xlabel(\"year\")\n",
    "    axes[1][1].set_xlabel(\"year\")\n",
    "    axes[0][0].set_xlim([1898, 1990])\n",
    "    axes[0][1].set_xlim([1898, 1990])\n",
    "    axes[1][0].set_xlim([1898, 1990])\n",
    "    axes[1][1].set_xlim([1898, 1990])\n",
    "    plt.tight_layout();\n",
    "    return axes"
   ]
  },
  {
   "cell_type": "markdown",
   "metadata": {},
   "source": [
    "And this function provides a mean $R^2$ over all the years"
   ]
  },
  {
   "cell_type": "code",
   "execution_count": 49,
   "metadata": {
    "collapsed": true
   },
   "outputs": [],
   "source": [
    "def meanr2(of):\n",
    "    return of['R2'].mean(), of['R2'].std()"
   ]
  },
  {
   "cell_type": "markdown",
   "metadata": {},
   "source": [
    "#### 2.2 Carry out the linear regression `DP ~ DP1 + I + P` for all the year pairs"
   ]
  },
  {
   "cell_type": "markdown",
   "metadata": {},
   "source": [
    "Save the results in the dataframe `ols_frame`. Report the mean $R^2$ and use `plot_panel` above to plot the coefficients of `I`,  and `DP1`, appropriately labelled. "
   ]
  },
  {
   "cell_type": "code",
   "execution_count": 50,
   "metadata": {
    "collapsed": false
   },
   "outputs": [
    {
     "name": "stdout",
     "output_type": "stream",
     "text": [
      "mean R^2 (0.8081905024359912, 0.06188252197990417)\n"
     ]
    },
    {
     "data": {
      "image/png": "[encoded data removed]",
      "text/plain": [
       "<matplotlib.figure.Figure at 0x10cace150>"
      ]
     },
     "metadata": {},
     "output_type": "display_data"
    }
   ],
   "source": [
    "ols_frame=ols_regression('DP ~ DP1 + I + P', frames)\n",
    "print \"mean R^2\", meanr2(ols_frame)\n",
    "#After the frame, the next arg is the param, the next its label. This repeats for upto 3 params\n",
    "plot_panel(ols_frame, 'I','incumbency','DP1', 'previous election', 'P','Party')\n",
    "plt.legend();"
   ]
  },
  {
   "cell_type": "markdown",
   "metadata": {},
   "source": [
    "Comment on the trend in the incumbency and party coefficients after 1960.\n",
    "\n",
    "*your answer here*\n",
    "\n",
    "Incumbency is high post 1960"
   ]
  },
  {
   "cell_type": "markdown",
   "metadata": {},
   "source": [
    "##### Inference using Bootstrap"
   ]
  },
  {
   "cell_type": "markdown",
   "metadata": {},
   "source": [
    "We have obtained the incumbency treatment coefficient values, but to say if the effect of incumbency treatment truly exists, we need to carry out inference on this coefficient. In other words, its not enough to get the mean value, which the regression gives us, but the range of possible coefficient values around it. \n",
    "\n",
    "One way to make an inference like this is to do bootstrap. Bootstrap is a resampling technique is a way of obtaining inferences about a population from a smaller sample. It is a very general method for assessing the variability of a quantity of interest, in our case the incumbency effect. This method was conceived and justified in the frequentist paradigm of statistics, however it enjoys popularity in many fields of practice, including machine learning, due to it's simplicity. \n",
    "\n",
    "\n",
    "Bootstrap involves **sampling with replacement** from the data and recalculating the quantity of interest, in our case the regression. This will give you a **new coefficient** for each regression -- in principle we can then look at the distribution of the coefficients from each regression and this should give us some level of uncertainty about our coefficient. \n",
    "\n",
    "**There are some considerations that need to be taken when working with such a method however**, the biggest of which is that the sample we're working with is **representative** of the population of interest. If you're interested in using the method for more complex applications it if imperative to familiarize with the assumptions, [this](http://stats.stackexchange.com/questions/26088/explaining-to-laypeople-why-bootstrapping-works) is a good start, but [this article](https://goo.gl/2T6k8j) is also helpful.\n",
    "\n",
    "For our simple application however we can run this and look at the distribution of our coefficients. This will give us a good idea of the possible range of values for our incumbency effect. If 0 is a likely value, then we can't say conclusively that the effect is real."
   ]
  },
  {
   "cell_type": "markdown",
   "metadata": {},
   "source": [
    "#### 2.3 Bootstrap a distribution for the coefficient of I for 1990-1988"
   ]
  },
  {
   "cell_type": "markdown",
   "metadata": {},
   "source": [
    "Using `pandas` and `sample`, **resample with replacement** our seats data set, and **fit the regression** a total of 1000 times. Capture the 1000 values of the regression coefficient of the incumbency ($\\ I\\ $), and plot a **histogram of the distribution** of the co-efficient. Also print the the 5th and 95th quantile of the distribution to give a non-parametric **confidence interval**. "
   ]
  },
  {
   "cell_type": "code",
   "execution_count": 51,
   "metadata": {
    "collapsed": false
   },
   "outputs": [
    {
     "name": "stdout",
     "output_type": "stream",
     "text": [
      "[ 0.05557492  0.11326628]\n"
     ]
    },
    {
     "data": {
      "image/png": "[encoded data removed]",
      "text/plain": [
       "<matplotlib.figure.Figure at 0x10cea68d0>"
      ]
     },
     "metadata": {},
     "output_type": "display_data"
    }
   ],
   "source": [
    "#your code here\n",
    "frame90 = frames['1990-1988']\n",
    "ptcoefs=[]\n",
    "size90=frame90.shape[0]\n",
    "for i in range(1000):\n",
    "    #cframe=frame90.iloc[np.random.randint(size90, size=size90)]\n",
    "    cframe=frame90.sample(n=size90, replace=True)\n",
    "    cmodel = ols('DP ~ DP1 + I + P', cframe).fit()\n",
    "    ptcoefs.append(cmodel.params['I'])\n",
    "print np.percentile(ptcoefs, [5, 95])\n",
    "plt.hist(ptcoefs, bins=30);"
   ]
  },
  {
   "cell_type": "markdown",
   "metadata": {},
   "source": [
    "##### Inference using p-values"
   ]
  },
  {
   "cell_type": "markdown",
   "metadata": {},
   "source": [
    "Of-course, another more classic way of doing this same inference is though the **regression itself** -- it give us p-values. These are values from a t-test that asks if the coefficient is different from 0. The regression machinery assumes Normality of errors for this purpose. Lets assume the Normality and do an inference on all the years in our regression. The assumption used to calculate these p-values are: for each model (in our case `year`), the errors at each point of the regression are uncorrelated and follow a Normal distribution. We shall assume these to be true for now (in real life you ought to be checking a plot of residuals as well).\n",
    "\n",
    "Generally we'd like the p-values to be vanishingly small as they **represent the probability that we observed such an extreme incumbency effect purely by chance**. Have a look at the Wikipedia page on [p-values](https://en.wikipedia.org/wiki/P-value) for a quick reminder.\n",
    "\n",
    "Furthermore, when constructing results like this (where there are many tests considered at once) there are other concerns to take into account. **One such concern is the issue of [multiple testing](https://en.wikipedia.org/wiki/Multiple_comparisons_problem)**. This is important because when we start dealing with a **large number** of hypotheses jointly the probability of making mistakes gets larger, hence we should be **more stringent** about what it means for a result to be significant. One such correction is the [**Bonferroni Correction**](https://en.wikipedia.org/wiki/Bonferroni_correction) which provides a new bound for deciding significance, instead of asking the classic question: **is the p-value < $0.05$**?, this considers instead a stricter bound, we ask: **is p-value < $0.05/H$**. Where $H$ is the number of hypotheses being considered, in our case $H = 38$ (the number of years) -- this is a much higher bar for significance."
   ]
  },
  {
   "cell_type": "markdown",
   "metadata": {},
   "source": [
    "#### 2.4 What can we say from the values of the incumbency coefficients over time?"
   ]
  },
  {
   "cell_type": "markdown",
   "metadata": {},
   "source": [
    "Plot a graph of incumbency (`I`) coefficient p-vales for every year. Use this plot to study if the coefficients after 1960 are **significantly different** from 0, plot them in **log scale** for easier viewing of small numbers. Also draw lines at $\\log(0.05)$ and $\\log(0.05/38)$ for reference. Interpret your results below."
   ]
  },
  {
   "cell_type": "code",
   "execution_count": 52,
   "metadata": {
    "collapsed": false
   },
   "outputs": [
    {
     "data": {
      "text/plain": [
       "[<matplotlib.lines.Line2D at 0x10cace050>,\n",
       " <matplotlib.lines.Line2D at 0x10cace7d0>,\n",
       " <matplotlib.lines.Line2D at 0x10dc2ef90>]"
      ]
     },
     "execution_count": 52,
     "metadata": {},
     "output_type": "execute_result"
    },
    {
     "data": {
      "image/png": "[encoded data removed]",
      "text/plain": [
       "<matplotlib.figure.Figure at 0x10ce8c650>"
      ]
     },
     "metadata": {},
     "output_type": "display_data"
    }
   ],
   "source": [
    "#your code here\n",
    "t = np.arange(1880, 2010, 10)\n",
    "plt.plot(t, t*0 + np.log(0.05), 'r--', t, t*0 + np.log(0.05/38), 'g--', ols_frame.year, np.log(ols_frame['p_I']), '.-', label=\"incumbency treatment\")\n"
   ]
  },
  {
   "cell_type": "markdown",
   "metadata": {},
   "source": [
    "*your answer here*\n",
    "\n",
    "For the most part the p-values after 1960 are below the Fisher 0.05 limit. If we consider the values after 1060 to be all representative of one quantity, we see that they are below the Bonferroni correction as well.\n",
    "\n",
    "TODO: is it ok to take all the years into account?"
   ]
  },
  {
   "cell_type": "markdown",
   "metadata": {},
   "source": [
    "###Is the regression complete? Or do we need more features?"
   ]
  },
  {
   "cell_type": "markdown",
   "metadata": {},
   "source": [
    "Recall that our model is fairly restrictive, the different incumbency groups are allowed to have different intercepts but the new candidate group, $I = 0$ is equally between the two incumbency groups. Furthermore, the incumbency groups are not allowed different slopes, meaning the effect of the previous elections Democratic fraction (`DP1`) is assumed the same for all incumbency groups. This may not be the case. \n",
    "\n",
    "In the figure below we can see that in fact the different groups seem to have not only different intercepts, but also possibly different slopes. "
   ]
  },
  {
   "cell_type": "code",
   "execution_count": 53,
   "metadata": {
    "collapsed": false
   },
   "outputs": [
    {
     "data": {
      "text/plain": [
       "<seaborn.axisgrid.FacetGrid at 0x10caaa690>"
      ]
     },
     "execution_count": 53,
     "metadata": {},
     "output_type": "execute_result"
    },
    {
     "data": {
      "image/png": "[encoded data removed]",
      "text/plain": [
       "<matplotlib.figure.Figure at 0x10caaa110>"
      ]
     },
     "metadata": {},
     "output_type": "display_data"
    }
   ],
   "source": [
    "sns.lmplot(x=\"DP1\", y=\"DP\", hue = \"I\", data=frames['1990-1988'], size = 7, aspect=1.2)"
   ]
  },
  {
   "cell_type": "markdown",
   "metadata": {},
   "source": [
    "#### 2.5 Carry out the linear regression with an interaction between the previous elections democratic fraction and this elections incumbency, for all the year pairs"
   ]
  },
  {
   "cell_type": "markdown",
   "metadata": {},
   "source": [
    "In mathematical notation this regression is:\n",
    "\n",
    "$$d_{t,i} = \\beta_4 d_{i, t-2} I_{i,t} + \\beta_3 I_{i,t} + \\beta_2 P_{i,t} + \\beta_1 d_{i, t-2} + \\beta_0,$$\n",
    "\n",
    "When we add a term like $\\beta_4 d_{i, t-2} I_{i,t}$, we are adding an **interaction** (a simple one) between the two features. Now we no longer have a simple slope/intercept division.\n",
    "\n",
    "In `statsmodels` notation, we wish to carry out the regression:\n",
    "\n",
    "`DP ~ DP1 + I + P + DP1:I`\n",
    "\n",
    "Save the results in the dataframe `ols_frame_interact`. Report the mean $R^2$ and use `plot_panel` above to plot the coefficients of `I`, `DP1`, and `I:DP1`, appropriately labelled. Is there evidence for interaction. How can you know for sure?"
   ]
  },
  {
   "cell_type": "code",
   "execution_count": 54,
   "metadata": {
    "collapsed": false
   },
   "outputs": [
    {
     "name": "stdout",
     "output_type": "stream",
     "text": [
      "mean R^2 (0.8089391856536681, 0.06177956521979443)\n"
     ]
    },
    {
     "data": {
      "image/png": "[encoded data removed]",
      "text/plain": [
       "<matplotlib.figure.Figure at 0x10ced61d0>"
      ]
     },
     "metadata": {},
     "output_type": "display_data"
    }
   ],
   "source": [
    "#your code here\n",
    "ols_frame_interact=ols_regression('DP ~ DP1 + I + DP1:I', frames)\n",
    "print \"mean R^2\", meanr2(ols_frame_interact)\n",
    "plot_panel(ols_frame_interact, 'I','incumbency','DP1', 'previous election', 'DP1:I','Interaction')\n",
    "plt.legend();"
   ]
  },
  {
   "cell_type": "markdown",
   "metadata": {},
   "source": [
    "*your answer here*\n",
    "\n",
    "TODO: interpretation"
   ]
  },
  {
   "cell_type": "markdown",
   "metadata": {},
   "source": [
    "**Q2 ends here, feel free to continue at Q3, but read on if you are curious about how the pros handle this model**."
   ]
  },
  {
   "cell_type": "markdown",
   "metadata": {},
   "source": [
    "### Further work for later: Causal Models"
   ]
  },
  {
   "cell_type": "markdown",
   "metadata": {},
   "source": [
    "We have been in a descriptive mode with our regressions where we interpret the coefficients. \n",
    "\n",
    "Since we are doing explanatory modeling, we havent held out any data to actually test our regressions, and thus we dont know what the predictive power of our fits is. Thus we'd be using the data to both fit and validate the model. We might be overfitting\n",
    "\n",
    "But notice that in the conclusions we have asked you to draw, we dont actually care to make any predictions. We didnt ask you to split the counties into training and test sets. Rather, we asked for interpretations regarding the fit values of the co-efficients.\n",
    "\n",
    "However, this is still not a causal explanatory model. As an analyst, you typically start with prediction, move to description, (the two of these are recursive, as we shall see in feature selection in machine learning) which emphasizes finding the correlations, and onward to explanation or causal analysis.\n",
    "\n",
    "Let's define a new variable we'll call $T$ (for treatment), we want this variable to indicate the treatment of a new candidate. In essence we want to think about this as a Randomized Control Trial (RCT) where we want to decide if we should replace an incumbent for a new candidate, or not. \n",
    "$$\n",
    "T =\n",
    "\\begin{cases} \n",
    "      0 & \\texttt{Incumbent Running} \\\\\n",
    "      1 & \\texttt{New Candidate Running}\n",
    "\\end{cases}\n",
    "$$\n",
    "\n",
    "From Gelman and Hill  -- get the causal inference chapter [here](http://www.stat.columbia.edu/~gelman/arm/chap9.pdf):\n",
    "\n",
    ">Causal inference concerns what would happen to an outcome y as a result of a hypothesized “treatment” or intervention. In a regression framework, the treatment can be written as a variable $T$\n",
    "with $T_i = 1$ if unit $i$ receives the “treatment”, and $T_i=0$ if unit $i$ receives the “control”...\n",
    "\n",
    ">The basic idea is that since we cannot compare treatment and control outcomes for the same units, we try to compare them on similar units. Similarity can be attained by using randomization to decide which units are assigned to the treatment group and which units are assigned to the control group. We will discuss this strategy in depth in the next section.\n",
    "\n",
    ">Although we cannot estimate individual-level causal effects [...], we can design studies to estimate the population average treatment effect: average treatment effect = $avg ( y_i(T=1) − y_i(T=0) )$,\n",
    "for the units i in a larger population.\n",
    "\n",
    "One might get a chance to do RCT's in a clinical trial, or a roll-out of a development program in a village, but this cannot be done for an election. So we have here the next best thing: an **observational study**.\n",
    "\n",
    "Gelman and Hill, again:\n",
    "\n",
    ">As opposed to making the same assumption as the completely randomized experiment, the key assumption underlying the estimate is that, conditional on the confounding covariates used in the analysis (here as inputs in the regression analysis), the distribution of units across treatment conditions is, in essence, “random”  with respect to the potential outcomes. To help with the intuition here, one could envision units being randomly assigned to treatment conditions conditional on the confounding covariates; however, of course, no actual randomized assignment need take place.\n",
    "\n",
    "Going through the cases (incumbent x party), you can convince yourself that \n",
    "\n",
    "`I = (1 - T)P`.\n",
    "\n",
    "Our attempt to estimate incumbency advantage (the coefficient of `I`) can now be cast into a causal structure. Think of a \"treatment\" made by the party on a seat, where this treatment is the decision to run a new candidate. Then, incumbents are controls, and open seats are \"treated units\". We defined `T` with value 1 if the seat is made open by the party holding the seat from the past election, and value 0 if the incumbent stands again.\n",
    "Thus, “incumbency advantage” is the effect of `T` = 0 compared with 1.\n",
    "\n",
    "Thus in our case we must think of `T` conditional on holding `P` and democratic fraction constant."
   ]
  },
  {
   "cell_type": "markdown",
   "metadata": {},
   "source": [
    "The regression we've been working with (the one without the interaction) formula now has the structure in terms of the treatment indicator (which we get by replacing $I$ by $(1-T)P$:\n",
    "\n",
    "$$d_{i,t} = \\beta_1 d_{i,t-2} + \\beta_2 (1-T_{i,t})P_{i,t} + \\beta_3 P_{i,t} + \\beta_0,$$\n",
    "\n",
    "where $T_{i,t}$ is the Treatment, a new candidate (1) or not (0) in county $i$ at time $t$ (just before this election).\n",
    "\n",
    "We can use the Python regression notation:\n",
    "\n",
    "`DP ~ DP1 + P + P:T`,\n",
    "\n",
    "where `P:T` is an interaction term between `P` and `T`. In order to interpret these coefficients we'll need to rewrite our model above\n",
    "\n",
    "$$d_{i,t} = \\beta_1 d_{i,t-2} + (\\beta_2 + \\beta_3) P_{i,t} - \\beta_2 T_{i,t}P_{i,t} + \\beta_0,$$\n",
    "\n",
    "Hence, the coefficient for the interaction ($\\beta_2$) can be interpreted as the negative Incumbency effect. But this model should fit exactly the same otherwise since our new definitions are not adding any new information. \n",
    "\n",
    "\n",
    "If we want to add more information, we can add a term `T` which is linear in the treatment variable. This \"main effect\" for `T` represents a difference between the incumbency effects for both parties, controlling for the effect of a new candidate (either republican or democrat). Now the incumbency effect is the coefficient of the interaction term `P:T`.\n",
    "\n",
    "This gives us:\n",
    "\n",
    "`DP ~ DP1 + P + T + P:T`, or\n",
    "\n",
    "$$d_{i,t} = \\beta_1 d_{i,t-2} + \\beta_2 T_{i,t} + \\beta_3 T_{i,t}P_{i,t} + \\beta_4 P_{i,t} + \\beta_0,$$\n",
    "\n",
    "We wont carry out this regression in the homework, but our dataframe has all the information for you to play with this regression if you like. Have fun!\n",
    "\n",
    "There is still the matter of that pesky interaction term. We'll just point you to the paper(s) on which this homework is based, which shows how you might handle that interaction term, and also points out more sophisticated modeling techniques that you would learn in an upper level stats course or IACS's AM207.\n",
    "\n",
    "You can read much more about this in Gelman, Andrew, and Zaiying Huang. \"Estimating incumbency advantage and its variation, as an example of a before–after study.\" Journal of the American Statistical Association 103.482 (2008): 437-446. (http://www.stat.columbia.edu/~gelman/research/published/JASAAP03026R1.pdf)"
   ]
  },
  {
   "cell_type": "markdown",
   "metadata": {},
   "source": [
    "## Q3. Improving our senate predictions via \"state fundamentals\""
   ]
  },
  {
   "cell_type": "markdown",
   "metadata": {},
   "source": [
    "We started this homework with the goal of using the vote fraction or spread on polling samples to learn the actual distribution of the population: predict the behavior of a voting population. Having done that, we then explored explanatory modeling to create a model of for the vote fraction or spread in terms of factors such as incumbency and party. Lets circle back to predictions on the senate data. \n",
    "\n",
    "\n",
    "Lets use our knowledge about the importance of incumbency and other *states* to create a simple \"state fundamentals\" model for our senate polls. We will add this model in as **an additional poll**, thus providing information where there are not too many polls and trusting the polls more where there are many more. This is an example of the process of regularization of the data, or the borrowing of statistical strength from some \"prior\" or average behavior across units. We'll learn more about such regularization in machine leaning and in bayesian statistics.\n",
    "\n",
    "In reality we should be modeling many factors to make a good \"state fundamentals\" model. In a post near the 2014 midterm elections, Nate Silver explains his methodology in [this article](http://fivethirtyeight.com/features/how-the-fivethirtyeight-senate-forecast-model-works/). The basic idea is to regress the republican vote fraction on a variety of demographic, economic, and campaign factors. Here we shall not do such a regression, but consider incumbency and partisanship as factors to include in a model. \n",
    "\n",
    "To do this the \"right way\", we would regress the vote fraction on these over multiple senate elections, but in the interests of time *we will give you the relative weights of two features*, incumbency and partisanship,  in the 2014 cycle only."
   ]
  },
  {
   "cell_type": "markdown",
   "metadata": {},
   "source": [
    "### Estimating election bias using the house"
   ]
  },
  {
   "cell_type": "markdown",
   "metadata": {},
   "source": [
    "We first read in all the house polls carried out over the US in 2014 to gauge overall sentiment towards republicans. This bias value `b2008` was -10.5 in 2008 when there was a huge swing towards the democrats. We've done the downloading and processing of the data from the Huffpost API for you."
   ]
  },
  {
   "cell_type": "code",
   "execution_count": 55,
   "metadata": {
    "collapsed": true
   },
   "outputs": [],
   "source": [
    "b2008=-10.5"
   ]
  },
  {
   "cell_type": "code",
   "execution_count": 56,
   "metadata": {
    "collapsed": false,
    "scrolled": true
   },
   "outputs": [
    {
     "data": {
      "text/html": [
       "<div>\n",
       "<table border=\"1\" class=\"dataframe\">\n",
       "  <thead>\n",
       "    <tr style=\"text-align: right;\">\n",
       "      <th></th>\n",
       "      <th>chart</th>\n",
       "      <th>d</th>\n",
       "      <th>end_date</th>\n",
       "      <th>incumbent</th>\n",
       "      <th>moe</th>\n",
       "      <th>name</th>\n",
       "      <th>observations</th>\n",
       "      <th>partisan</th>\n",
       "      <th>pollster</th>\n",
       "      <th>r</th>\n",
       "      <th>start_date</th>\n",
       "      <th>state</th>\n",
       "      <th>subpopulation</th>\n",
       "      <th>spread</th>\n",
       "      <th>poll_date</th>\n",
       "      <th>age_days</th>\n",
       "    </tr>\n",
       "  </thead>\n",
       "  <tbody>\n",
       "    <tr>\n",
       "      <th>0</th>\n",
       "      <td>2014-national-house-race</td>\n",
       "      <td>42</td>\n",
       "      <td>2014-10-30 00:00:00</td>\n",
       "      <td>I</td>\n",
       "      <td>4.1</td>\n",
       "      <td>2014 National House Race</td>\n",
       "      <td>802</td>\n",
       "      <td>Nonpartisan/None</td>\n",
       "      <td>HuffPost/YouGov</td>\n",
       "      <td>46</td>\n",
       "      <td>2014-10-28 00:00:00</td>\n",
       "      <td>US</td>\n",
       "      <td>Likely Voters</td>\n",
       "      <td>4</td>\n",
       "      <td>2014-10-29 00:00:00</td>\n",
       "      <td>4</td>\n",
       "    </tr>\n",
       "    <tr>\n",
       "      <th>1</th>\n",
       "      <td>2014-national-house-race</td>\n",
       "      <td>45</td>\n",
       "      <td>2014-11-01 00:00:00</td>\n",
       "      <td>I</td>\n",
       "      <td>3.4</td>\n",
       "      <td>2014 National House Race</td>\n",
       "      <td>826</td>\n",
       "      <td>Nonpartisan/None</td>\n",
       "      <td>NBC/WSJ</td>\n",
       "      <td>46</td>\n",
       "      <td>2014-10-30 00:00:00</td>\n",
       "      <td>US</td>\n",
       "      <td>Likely Voters</td>\n",
       "      <td>1</td>\n",
       "      <td>2014-10-31 00:00:00</td>\n",
       "      <td>2</td>\n",
       "    </tr>\n",
       "    <tr>\n",
       "      <th>2</th>\n",
       "      <td>2014-national-house-race</td>\n",
       "      <td>42</td>\n",
       "      <td>2014-10-27 00:00:00</td>\n",
       "      <td>I</td>\n",
       "      <td>4.0</td>\n",
       "      <td>2014 National House Race</td>\n",
       "      <td>624</td>\n",
       "      <td>Nonpartisan/None</td>\n",
       "      <td>CBS</td>\n",
       "      <td>50</td>\n",
       "      <td>2014-10-23 00:00:00</td>\n",
       "      <td>US</td>\n",
       "      <td>Likely Voters</td>\n",
       "      <td>8</td>\n",
       "      <td>2014-10-25 00:00:00</td>\n",
       "      <td>8</td>\n",
       "    </tr>\n",
       "    <tr>\n",
       "      <th>3</th>\n",
       "      <td>2014-national-house-race</td>\n",
       "      <td>45</td>\n",
       "      <td>2014-10-27 00:00:00</td>\n",
       "      <td>I</td>\n",
       "      <td>3.5</td>\n",
       "      <td>2014 National House Race</td>\n",
       "      <td>734</td>\n",
       "      <td>Nonpartisan/None</td>\n",
       "      <td>FOX</td>\n",
       "      <td>44</td>\n",
       "      <td>2014-10-25 00:00:00</td>\n",
       "      <td>US</td>\n",
       "      <td>Likely Voters</td>\n",
       "      <td>-1</td>\n",
       "      <td>2014-10-26 00:00:00</td>\n",
       "      <td>7</td>\n",
       "    </tr>\n",
       "    <tr>\n",
       "      <th>4</th>\n",
       "      <td>2014-national-house-race</td>\n",
       "      <td>47</td>\n",
       "      <td>2014-10-26 00:00:00</td>\n",
       "      <td>I</td>\n",
       "      <td>4.0</td>\n",
       "      <td>2014 National House Race</td>\n",
       "      <td>540</td>\n",
       "      <td>Nonpartisan/None</td>\n",
       "      <td>CNN</td>\n",
       "      <td>46</td>\n",
       "      <td>2014-10-24 00:00:00</td>\n",
       "      <td>US</td>\n",
       "      <td>Likely Voters</td>\n",
       "      <td>-1</td>\n",
       "      <td>2014-10-25 00:00:00</td>\n",
       "      <td>8</td>\n",
       "    </tr>\n",
       "  </tbody>\n",
       "</table>\n",
       "</div>"
      ],
      "text/plain": [
       "                      chart   d             end_date incumbent  moe                      name  observations          partisan         pollster   r           start_date state  subpopulation  spread            poll_date  age_days\n",
       "0  2014-national-house-race  42  2014-10-30 00:00:00         I  4.1  2014 National House Race           802  Nonpartisan/None  HuffPost/YouGov  46  2014-10-28 00:00:00    US  Likely Voters       4  2014-10-29 00:00:00         4\n",
       "1  2014-national-house-race  45  2014-11-01 00:00:00         I  3.4  2014 National House Race           826  Nonpartisan/None          NBC/WSJ  46  2014-10-30 00:00:00    US  Likely Voters       1  2014-10-31 00:00:00         2\n",
       "2  2014-national-house-race  42  2014-10-27 00:00:00         I  4.0  2014 National House Race           624  Nonpartisan/None              CBS  50  2014-10-23 00:00:00    US  Likely Voters       8  2014-10-25 00:00:00         8\n",
       "3  2014-national-house-race  45  2014-10-27 00:00:00         I  3.5  2014 National House Race           734  Nonpartisan/None              FOX  44  2014-10-25 00:00:00    US  Likely Voters      -1  2014-10-26 00:00:00         7\n",
       "4  2014-national-house-race  47  2014-10-26 00:00:00         I  4.0  2014 National House Race           540  Nonpartisan/None              CNN  46  2014-10-24 00:00:00    US  Likely Voters      -1  2014-10-25 00:00:00         8"
      ]
     },
     "execution_count": 56,
     "metadata": {},
     "output_type": "execute_result"
    }
   ],
   "source": [
    "hpus = pd.read_csv(\"./data/housepolls.csv\")\n",
    "hpus.head()"
   ]
  },
  {
   "cell_type": "markdown",
   "metadata": {},
   "source": [
    "Lets calculate the 2014 bias by taking the moe and time-weighted average of the polls using the functions `wmean` and `wsig` from above."
   ]
  },
  {
   "cell_type": "code",
   "execution_count": 57,
   "metadata": {
    "collapsed": false
   },
   "outputs": [],
   "source": [
    "b2014=wmean(hpus)\n",
    "b2014e=wsig(hpus)"
   ]
  },
  {
   "cell_type": "code",
   "execution_count": 58,
   "metadata": {
    "collapsed": false
   },
   "outputs": [
    {
     "data": {
      "text/plain": [
       "(0.037884769510913706, 3.936300862345726)"
      ]
     },
     "execution_count": 58,
     "metadata": {},
     "output_type": "execute_result"
    }
   ],
   "source": [
    "b2014, b2014e"
   ]
  },
  {
   "cell_type": "markdown",
   "metadata": {},
   "source": [
    "The mean is almost zero, but the standard deviation is large. We'll ignore the standard deviation for now and just use the mean bias in 2014."
   ]
  },
  {
   "cell_type": "markdown",
   "metadata": {},
   "source": [
    "### Incumbency and Partisan-ness"
   ]
  },
  {
   "cell_type": "markdown",
   "metadata": {},
   "source": [
    "Lets read in data on the 2008 senate poll about only those candidates who stood again in 2014, and store the information in the dataframe `ridf`. This was the previous time that most of these seats were up for election, the senate having a 6 year cycle. We read in the winner and the percentage for those races."
   ]
  },
  {
   "cell_type": "code",
   "execution_count": 59,
   "metadata": {
    "collapsed": false,
    "scrolled": true
   },
   "outputs": [
    {
     "data": {
      "text/html": [
       "<div>\n",
       "<table border=\"1\" class=\"dataframe\">\n",
       "  <thead>\n",
       "    <tr style=\"text-align: right;\">\n",
       "      <th></th>\n",
       "      <th>State</th>\n",
       "      <th>winner</th>\n",
       "      <th>pctd</th>\n",
       "      <th>pctr</th>\n",
       "      <th>comment</th>\n",
       "    </tr>\n",
       "  </thead>\n",
       "  <tbody>\n",
       "    <tr>\n",
       "      <th>0</th>\n",
       "      <td>AR</td>\n",
       "      <td>D</td>\n",
       "      <td>79.50</td>\n",
       "      <td>20.50</td>\n",
       "      <td>Green</td>\n",
       "    </tr>\n",
       "    <tr>\n",
       "      <th>1</th>\n",
       "      <td>CO</td>\n",
       "      <td>D</td>\n",
       "      <td>52.80</td>\n",
       "      <td>42.50</td>\n",
       "      <td>NaN</td>\n",
       "    </tr>\n",
       "    <tr>\n",
       "      <th>2</th>\n",
       "      <td>KY</td>\n",
       "      <td>R</td>\n",
       "      <td>47.00</td>\n",
       "      <td>53.00</td>\n",
       "      <td>NaN</td>\n",
       "    </tr>\n",
       "    <tr>\n",
       "      <th>3</th>\n",
       "      <td>NH</td>\n",
       "      <td>D</td>\n",
       "      <td>51.70</td>\n",
       "      <td>45.20</td>\n",
       "      <td>NaN</td>\n",
       "    </tr>\n",
       "    <tr>\n",
       "      <th>4</th>\n",
       "      <td>NC</td>\n",
       "      <td>D</td>\n",
       "      <td>52.70</td>\n",
       "      <td>44.20</td>\n",
       "      <td>NaN</td>\n",
       "    </tr>\n",
       "    <tr>\n",
       "      <th>5</th>\n",
       "      <td>VA</td>\n",
       "      <td>D</td>\n",
       "      <td>65.00</td>\n",
       "      <td>33.70</td>\n",
       "      <td>NaN</td>\n",
       "    </tr>\n",
       "    <tr>\n",
       "      <th>6</th>\n",
       "      <td>AK</td>\n",
       "      <td>D</td>\n",
       "      <td>47.80</td>\n",
       "      <td>46.60</td>\n",
       "      <td>NaN</td>\n",
       "    </tr>\n",
       "    <tr>\n",
       "      <th>7</th>\n",
       "      <td>ID</td>\n",
       "      <td>R</td>\n",
       "      <td>34.10</td>\n",
       "      <td>57.70</td>\n",
       "      <td>NaN</td>\n",
       "    </tr>\n",
       "    <tr>\n",
       "      <th>8</th>\n",
       "      <td>IL</td>\n",
       "      <td>D</td>\n",
       "      <td>67.80</td>\n",
       "      <td>28.50</td>\n",
       "      <td>NaN</td>\n",
       "    </tr>\n",
       "    <tr>\n",
       "      <th>9</th>\n",
       "      <td>ME</td>\n",
       "      <td>R</td>\n",
       "      <td>38.60</td>\n",
       "      <td>61.30</td>\n",
       "      <td>NaN</td>\n",
       "    </tr>\n",
       "    <tr>\n",
       "      <th>10</th>\n",
       "      <td>MN</td>\n",
       "      <td>D</td>\n",
       "      <td>41.99</td>\n",
       "      <td>41.98</td>\n",
       "      <td>NaN</td>\n",
       "    </tr>\n",
       "    <tr>\n",
       "      <th>11</th>\n",
       "      <td>MS</td>\n",
       "      <td>R</td>\n",
       "      <td>38.60</td>\n",
       "      <td>61.40</td>\n",
       "      <td>NaN</td>\n",
       "    </tr>\n",
       "    <tr>\n",
       "      <th>12</th>\n",
       "      <td>NM</td>\n",
       "      <td>D</td>\n",
       "      <td>61.30</td>\n",
       "      <td>38.70</td>\n",
       "      <td>NaN</td>\n",
       "    </tr>\n",
       "    <tr>\n",
       "      <th>13</th>\n",
       "      <td>OK</td>\n",
       "      <td>R</td>\n",
       "      <td>39.20</td>\n",
       "      <td>56.70</td>\n",
       "      <td>NaN</td>\n",
       "    </tr>\n",
       "    <tr>\n",
       "      <th>14</th>\n",
       "      <td>OR</td>\n",
       "      <td>D</td>\n",
       "      <td>48.90</td>\n",
       "      <td>45.60</td>\n",
       "      <td>NaN</td>\n",
       "    </tr>\n",
       "    <tr>\n",
       "      <th>15</th>\n",
       "      <td>RI</td>\n",
       "      <td>D</td>\n",
       "      <td>73.40</td>\n",
       "      <td>26.60</td>\n",
       "      <td>NaN</td>\n",
       "    </tr>\n",
       "    <tr>\n",
       "      <th>16</th>\n",
       "      <td>SC</td>\n",
       "      <td>R</td>\n",
       "      <td>42.30</td>\n",
       "      <td>57.50</td>\n",
       "      <td>NaN</td>\n",
       "    </tr>\n",
       "    <tr>\n",
       "      <th>17</th>\n",
       "      <td>TN</td>\n",
       "      <td>R</td>\n",
       "      <td>31.60</td>\n",
       "      <td>65.10</td>\n",
       "      <td>NaN</td>\n",
       "    </tr>\n",
       "    <tr>\n",
       "      <th>18</th>\n",
       "      <td>TX</td>\n",
       "      <td>R</td>\n",
       "      <td>42.80</td>\n",
       "      <td>54.80</td>\n",
       "      <td>NaN</td>\n",
       "    </tr>\n",
       "    <tr>\n",
       "      <th>19</th>\n",
       "      <td>WY</td>\n",
       "      <td>R</td>\n",
       "      <td>24.30</td>\n",
       "      <td>75.60</td>\n",
       "      <td>NaN</td>\n",
       "    </tr>\n",
       "    <tr>\n",
       "      <th>20</th>\n",
       "      <td>AL</td>\n",
       "      <td>R</td>\n",
       "      <td>36.50</td>\n",
       "      <td>63.40</td>\n",
       "      <td>NaN</td>\n",
       "    </tr>\n",
       "    <tr>\n",
       "      <th>21</th>\n",
       "      <td>NJ</td>\n",
       "      <td>D</td>\n",
       "      <td>56.00</td>\n",
       "      <td>42.00</td>\n",
       "      <td>Lautenbe, PI</td>\n",
       "    </tr>\n",
       "    <tr>\n",
       "      <th>22</th>\n",
       "      <td>MA</td>\n",
       "      <td>D</td>\n",
       "      <td>65.80</td>\n",
       "      <td>31.00</td>\n",
       "      <td>Kerry, PI</td>\n",
       "    </tr>\n",
       "    <tr>\n",
       "      <th>23</th>\n",
       "      <td>DE</td>\n",
       "      <td>D</td>\n",
       "      <td>64.70</td>\n",
       "      <td>35.30</td>\n",
       "      <td>Biden, PI</td>\n",
       "    </tr>\n",
       "    <tr>\n",
       "      <th>24</th>\n",
       "      <td>LA</td>\n",
       "      <td>D</td>\n",
       "      <td>52.10</td>\n",
       "      <td>45.70</td>\n",
       "      <td>NaN</td>\n",
       "    </tr>\n",
       "    <tr>\n",
       "      <th>25</th>\n",
       "      <td>KS</td>\n",
       "      <td>R</td>\n",
       "      <td>36.40</td>\n",
       "      <td>60.00</td>\n",
       "      <td>NaN</td>\n",
       "    </tr>\n",
       "  </tbody>\n",
       "</table>\n",
       "</div>"
      ],
      "text/plain": [
       "   State winner   pctd   pctr       comment\n",
       "0     AR      D  79.50  20.50         Green\n",
       "1     CO      D  52.80  42.50           NaN\n",
       "2     KY      R  47.00  53.00           NaN\n",
       "3     NH      D  51.70  45.20           NaN\n",
       "4     NC      D  52.70  44.20           NaN\n",
       "5     VA      D  65.00  33.70           NaN\n",
       "6     AK      D  47.80  46.60           NaN\n",
       "7     ID      R  34.10  57.70           NaN\n",
       "8     IL      D  67.80  28.50           NaN\n",
       "9     ME      R  38.60  61.30           NaN\n",
       "10    MN      D  41.99  41.98           NaN\n",
       "11    MS      R  38.60  61.40           NaN\n",
       "12    NM      D  61.30  38.70           NaN\n",
       "13    OK      R  39.20  56.70           NaN\n",
       "14    OR      D  48.90  45.60           NaN\n",
       "15    RI      D  73.40  26.60           NaN\n",
       "16    SC      R  42.30  57.50           NaN\n",
       "17    TN      R  31.60  65.10           NaN\n",
       "18    TX      R  42.80  54.80           NaN\n",
       "19    WY      R  24.30  75.60           NaN\n",
       "20    AL      R  36.50  63.40           NaN\n",
       "21    NJ      D  56.00  42.00  Lautenbe, PI\n",
       "22    MA      D  65.80  31.00     Kerry, PI\n",
       "23    DE      D  64.70  35.30     Biden, PI\n",
       "24    LA      D  52.10  45.70           NaN\n",
       "25    KS      R  36.40  60.00           NaN"
      ]
     },
     "execution_count": 59,
     "metadata": {},
     "output_type": "execute_result"
    }
   ],
   "source": [
    "ridf=pd.read_csv('./data/senate2008realincs.csv')\n",
    "ridf"
   ]
  },
  {
   "cell_type": "markdown",
   "metadata": {},
   "source": [
    "There are many points of comment:\n",
    "\n",
    "- AR-the opponent was a green party candidate so remove this\n",
    "- DE-special election Christopher Coons in 2010 as Biden gives up his seat (considered incumbent)\n",
    "- HI-special election (considered incumben)\n",
    "- MA-special, vacated as Kerry becomes secretary of state (considered incumbent)\n",
    "- NJ-lautenberg dies, Cory Booker gets in (considered incumbent)\n",
    "\n",
    "We have considered candidates of the same party who replace an incumbent in a special election or otherwise as incumbents (see points of comment above). \n",
    "\n",
    "We remove Arkansas from our analysis (see points above)."
   ]
  },
  {
   "cell_type": "code",
   "execution_count": 60,
   "metadata": {
    "collapsed": false
   },
   "outputs": [],
   "source": [
    "ridf=ridf[ridf.State!='AR']"
   ]
  },
  {
   "cell_type": "markdown",
   "metadata": {},
   "source": [
    "We calculate the change in national bias from 2008 to 2014"
   ]
  },
  {
   "cell_type": "code",
   "execution_count": 61,
   "metadata": {
    "collapsed": false
   },
   "outputs": [
    {
     "data": {
      "text/plain": [
       "10.537884769510914"
      ]
     },
     "execution_count": 61,
     "metadata": {},
     "output_type": "execute_result"
    }
   ],
   "source": [
    "bcorr=b2014 - b2008\n",
    "bcorr"
   ]
  },
  {
   "cell_type": "markdown",
   "metadata": {},
   "source": [
    "#### 3.1 create new columns in the incumbency data frame `ridf` called  `spread` and `cspread`"
   ]
  },
  {
   "cell_type": "markdown",
   "metadata": {},
   "source": [
    "The first one, `spread` is the spread between Republican vote percentage and Democratic vote percentage, and the second `cspread` (for corrected `spead`), corrects this for the change in bias `bcorr` between 2008 and 2014. The reason to do this is to look at the incumbents who came in in 2008 or through special elections after, and see how they might do in the more neutral political climate of 2014. The logic behind it is as follows: we believe democratic candidates would have a harder time in 2014 than in 2008, because in 2008 they rode an huge wave generated by Obama's election. And republicans elected in 2008 who are incumbents now are stronger candidates: the bucked the wave then and have the advantage of incumbency now."
   ]
  },
  {
   "cell_type": "code",
   "execution_count": 62,
   "metadata": {
    "collapsed": false
   },
   "outputs": [
    {
     "name": "stderr",
     "output_type": "stream",
     "text": [
      "/anaconda/lib/python2.7/site-packages/IPython/kernel/__main__.py:1: SettingWithCopyWarning: \n",
      "A value is trying to be set on a copy of a slice from a DataFrame.\n",
      "Try using .loc[row_indexer,col_indexer] = value instead\n",
      "\n",
      "See the the caveats in the documentation: http://pandas.pydata.org/pandas-docs/stable/indexing.html#indexing-view-versus-copy\n",
      "  if __name__ == '__main__':\n",
      "/anaconda/lib/python2.7/site-packages/IPython/kernel/__main__.py:2: SettingWithCopyWarning: \n",
      "A value is trying to be set on a copy of a slice from a DataFrame.\n",
      "Try using .loc[row_indexer,col_indexer] = value instead\n",
      "\n",
      "See the the caveats in the documentation: http://pandas.pydata.org/pandas-docs/stable/indexing.html#indexing-view-versus-copy\n",
      "  from IPython.kernel.zmq import kernelapp as app\n"
     ]
    },
    {
     "data": {
      "text/html": [
       "<div>\n",
       "<table border=\"1\" class=\"dataframe\">\n",
       "  <thead>\n",
       "    <tr style=\"text-align: right;\">\n",
       "      <th></th>\n",
       "      <th>State</th>\n",
       "      <th>winner</th>\n",
       "      <th>pctd</th>\n",
       "      <th>pctr</th>\n",
       "      <th>comment</th>\n",
       "      <th>spread</th>\n",
       "      <th>cspread</th>\n",
       "    </tr>\n",
       "  </thead>\n",
       "  <tbody>\n",
       "    <tr>\n",
       "      <th>1</th>\n",
       "      <td>CO</td>\n",
       "      <td>D</td>\n",
       "      <td>52.8</td>\n",
       "      <td>42.5</td>\n",
       "      <td>NaN</td>\n",
       "      <td>-10.3</td>\n",
       "      <td>0.237885</td>\n",
       "    </tr>\n",
       "    <tr>\n",
       "      <th>2</th>\n",
       "      <td>KY</td>\n",
       "      <td>R</td>\n",
       "      <td>47.0</td>\n",
       "      <td>53.0</td>\n",
       "      <td>NaN</td>\n",
       "      <td>6.0</td>\n",
       "      <td>16.537885</td>\n",
       "    </tr>\n",
       "    <tr>\n",
       "      <th>3</th>\n",
       "      <td>NH</td>\n",
       "      <td>D</td>\n",
       "      <td>51.7</td>\n",
       "      <td>45.2</td>\n",
       "      <td>NaN</td>\n",
       "      <td>-6.5</td>\n",
       "      <td>4.037885</td>\n",
       "    </tr>\n",
       "    <tr>\n",
       "      <th>4</th>\n",
       "      <td>NC</td>\n",
       "      <td>D</td>\n",
       "      <td>52.7</td>\n",
       "      <td>44.2</td>\n",
       "      <td>NaN</td>\n",
       "      <td>-8.5</td>\n",
       "      <td>2.037885</td>\n",
       "    </tr>\n",
       "    <tr>\n",
       "      <th>5</th>\n",
       "      <td>VA</td>\n",
       "      <td>D</td>\n",
       "      <td>65.0</td>\n",
       "      <td>33.7</td>\n",
       "      <td>NaN</td>\n",
       "      <td>-31.3</td>\n",
       "      <td>-20.762115</td>\n",
       "    </tr>\n",
       "  </tbody>\n",
       "</table>\n",
       "</div>"
      ],
      "text/plain": [
       "  State winner  pctd  pctr comment  spread    cspread\n",
       "1    CO      D  52.8  42.5     NaN   -10.3   0.237885\n",
       "2    KY      R  47.0  53.0     NaN     6.0  16.537885\n",
       "3    NH      D  51.7  45.2     NaN    -6.5   4.037885\n",
       "4    NC      D  52.7  44.2     NaN    -8.5   2.037885\n",
       "5    VA      D  65.0  33.7     NaN   -31.3 -20.762115"
      ]
     },
     "execution_count": 62,
     "metadata": {},
     "output_type": "execute_result"
    }
   ],
   "source": [
    "ridf['spread'] = ridf.pctr - ridf.pctd\n",
    "ridf['cspread'] = ridf['spread'] + bcorr\n",
    "ridf.head()"
   ]
  },
  {
   "cell_type": "markdown",
   "metadata": {},
   "source": [
    "#### Obtain `spread` and `cspread` from the PVI"
   ]
  },
  {
   "cell_type": "markdown",
   "metadata": {},
   "source": [
    "Now lets read in the Partisan Voting Index. This is an index from the [Cook Political Report](https://en.wikipedia.org/wiki/Cook_Partisan_Voting_Index) which uses the 2012 and 2008 elections to gauge how partisan a state is and in which bipartisan direction. The number reported shows the **swing in the state with respect to the national consensus**, and thus a notion of how biased a state is compared to the national average."
   ]
  },
  {
   "cell_type": "code",
   "execution_count": 63,
   "metadata": {
    "collapsed": false
   },
   "outputs": [
    {
     "data": {
      "text/html": [
       "<div>\n",
       "<table border=\"1\" class=\"dataframe\">\n",
       "  <thead>\n",
       "    <tr style=\"text-align: right;\">\n",
       "      <th></th>\n",
       "      <th>State</th>\n",
       "      <th>PVI</th>\n",
       "    </tr>\n",
       "  </thead>\n",
       "  <tbody>\n",
       "    <tr>\n",
       "      <th>0</th>\n",
       "      <td>AL</td>\n",
       "      <td>R+14</td>\n",
       "    </tr>\n",
       "    <tr>\n",
       "      <th>1</th>\n",
       "      <td>AK</td>\n",
       "      <td>R+12</td>\n",
       "    </tr>\n",
       "    <tr>\n",
       "      <th>2</th>\n",
       "      <td>AZ</td>\n",
       "      <td>R+7</td>\n",
       "    </tr>\n",
       "    <tr>\n",
       "      <th>3</th>\n",
       "      <td>AR</td>\n",
       "      <td>R+14</td>\n",
       "    </tr>\n",
       "    <tr>\n",
       "      <th>4</th>\n",
       "      <td>CA</td>\n",
       "      <td>D+9</td>\n",
       "    </tr>\n",
       "  </tbody>\n",
       "</table>\n",
       "</div>"
      ],
      "text/plain": [
       "  State   PVI\n",
       "0    AL  R+14\n",
       "1    AK  R+12\n",
       "2    AZ   R+7\n",
       "3    AR  R+14\n",
       "4    CA   D+9"
      ]
     },
     "execution_count": 63,
     "metadata": {},
     "output_type": "execute_result"
    }
   ],
   "source": [
    "pvi=pd.read_csv('./data/pvi.csv')\n",
    "pvi.head()"
   ]
  },
  {
   "cell_type": "markdown",
   "metadata": {},
   "source": [
    "Let's add the columns `spread` and `cspread` to the `pvi` dataframe. Remember that since these are with respect to the national average(consensus), we only need `b2014` for this, and not `bcorr`. We'll also make Republicans the positive direction, i.e. `R+14` will be `14` while `D+14` will be `-14`."
   ]
  },
  {
   "cell_type": "code",
   "execution_count": 64,
   "metadata": {
    "collapsed": false
   },
   "outputs": [
    {
     "data": {
      "text/html": [
       "<div>\n",
       "<table border=\"1\" class=\"dataframe\">\n",
       "  <thead>\n",
       "    <tr style=\"text-align: right;\">\n",
       "      <th></th>\n",
       "      <th>State</th>\n",
       "      <th>PVI</th>\n",
       "      <th>spread</th>\n",
       "      <th>cspread</th>\n",
       "    </tr>\n",
       "  </thead>\n",
       "  <tbody>\n",
       "    <tr>\n",
       "      <th>0</th>\n",
       "      <td>AL</td>\n",
       "      <td>R+14</td>\n",
       "      <td>14</td>\n",
       "      <td>14.037885</td>\n",
       "    </tr>\n",
       "    <tr>\n",
       "      <th>1</th>\n",
       "      <td>AK</td>\n",
       "      <td>R+12</td>\n",
       "      <td>12</td>\n",
       "      <td>12.037885</td>\n",
       "    </tr>\n",
       "    <tr>\n",
       "      <th>2</th>\n",
       "      <td>AZ</td>\n",
       "      <td>R+7</td>\n",
       "      <td>7</td>\n",
       "      <td>7.037885</td>\n",
       "    </tr>\n",
       "    <tr>\n",
       "      <th>3</th>\n",
       "      <td>AR</td>\n",
       "      <td>R+14</td>\n",
       "      <td>14</td>\n",
       "      <td>14.037885</td>\n",
       "    </tr>\n",
       "    <tr>\n",
       "      <th>4</th>\n",
       "      <td>CA</td>\n",
       "      <td>D+9</td>\n",
       "      <td>-9</td>\n",
       "      <td>-8.962115</td>\n",
       "    </tr>\n",
       "  </tbody>\n",
       "</table>\n",
       "</div>"
      ],
      "text/plain": [
       "  State   PVI  spread    cspread\n",
       "0    AL  R+14      14  14.037885\n",
       "1    AK  R+12      12  12.037885\n",
       "2    AZ   R+7       7   7.037885\n",
       "3    AR  R+14      14  14.037885\n",
       "4    CA   D+9      -9  -8.962115"
      ]
     },
     "execution_count": 64,
     "metadata": {},
     "output_type": "execute_result"
    }
   ],
   "source": [
    "def parsepvi(x):\n",
    "    mult={'D':-1, 'R':1}\n",
    "    if x=='EVEN':\n",
    "        return 0.0\n",
    "    else:\n",
    "        P,V=x.split('+')\n",
    "        return mult[P]*float(V)\n",
    "    \n",
    "\n",
    "pvi['spread']=pvi.PVI.apply(parsepvi)   \n",
    "pvi['cspread']=b2014+pvi['spread']\n",
    "pvi.head()"
   ]
  },
  {
   "cell_type": "markdown",
   "metadata": {},
   "source": [
    "### Incorporating \"state fundamentals\" as a new poll"
   ]
  },
  {
   "cell_type": "markdown",
   "metadata": {},
   "source": [
    "Let's combine the Partisan Voting Index (PVI) spread factor with the incumbency advantage calculated in `ridf` to make a \"state fundamentals\" model which we shall incorporate into our analysis as a new poll. \n",
    "\n",
    "Lets make dictionaries to capture the corrected spread and state pairs from both `ridf` and `pvi`:"
   ]
  },
  {
   "cell_type": "code",
   "execution_count": 65,
   "metadata": {
    "collapsed": false
   },
   "outputs": [],
   "source": [
    "pvidict={k:v for [k,v] in pvi[['State','cspread']].values}\n",
    "ridfdict={k:v for [k,v] in ridf[['State','cspread']].values}  "
   ]
  },
  {
   "cell_type": "markdown",
   "metadata": {},
   "source": [
    "#### 3.2 Combine PVI spreads and incumbency spreads into a model"
   ]
  },
  {
   "cell_type": "markdown",
   "metadata": {},
   "source": [
    "We shall consider a model in which we give the **incumbency spreads a weight of 0.3**, if there is an incumbency to deal with, and the **PVI spread a weight of 0.7**. If there is no incumbency for a state race, just use the PVI spread.\n",
    "\n",
    "As we said earlier, the relative ratio of these weights ought to come from a regression of previous data on these factors. \n",
    "\n",
    "This is not a very complex model, but it does deal with some of the issues we've run into before, recall the state-level inaccuracies in Section 1.8.  Incorporating the PVI may address this issue. \n",
    "\n",
    "Write a function `get_spread` which takes a state identifier and returns the appropriately weighted spread, using `pvidict` and `ridfdict`."
   ]
  },
  {
   "cell_type": "code",
   "execution_count": 66,
   "metadata": {
    "collapsed": true
   },
   "outputs": [],
   "source": [
    "#your code here\n",
    "iweight = 0.3\n",
    "pviweight = 0.7\n",
    "def get_spread(state):\n",
    "    if not ridfdict.has_key(state):\n",
    "        return pvidict[state]\n",
    "    wsp = iweight*ridfdict[state] + pviweight*pvidict[state]\n",
    "    return wsp"
   ]
  },
  {
   "cell_type": "markdown",
   "metadata": {},
   "source": [
    "We create a template dictionary with all the \"columns\" we will need to add these models as polls in the style of the `multipoll` dataframe. "
   ]
  },
  {
   "cell_type": "code",
   "execution_count": 67,
   "metadata": {
    "collapsed": false
   },
   "outputs": [],
   "source": [
    "template=dict(\n",
    "    chart='c',\n",
    "    d=-99.9,\n",
    "    r=-99.9,\n",
    "    spread=0.0,\n",
    "    incumbent='i',\n",
    "    moe=-99,\n",
    "    end_date='end',\n",
    "    name='c',\n",
    "    observations=100,\n",
    "    partisan='n',\n",
    "    pollster='us',\n",
    "    start_date='start',\n",
    "    state='US',\n",
    "    subpopulation='',\n",
    "    poll_date='',\n",
    "    age_days=30\n",
    ")"
   ]
  },
  {
   "cell_type": "markdown",
   "metadata": {},
   "source": [
    "We write some code to return the correct states for `OK2` and `SC2`:"
   ]
  },
  {
   "cell_type": "code",
   "execution_count": 68,
   "metadata": {
    "collapsed": true
   },
   "outputs": [],
   "source": [
    "smapper={'OK2':'OK', 'SC2':'SC'}\n",
    "def sret(state):\n",
    "    if state in smapper.keys():\n",
    "        return smapper[state]\n",
    "    return state "
   ]
  },
  {
   "cell_type": "markdown",
   "metadata": {},
   "source": [
    "####We write code which uses the template and the above mapper function to return a dataframe `additional_polls` "
   ]
  },
  {
   "cell_type": "markdown",
   "metadata": {},
   "source": [
    "This process translates our model into a `multipoll` like data frame. We iterate over the unique states in `multipoll`, each time making a copy of the template. Use the mapper function `sret` above to obtain the correct state, and save this in the column `state`. Set the `age_days` to 10: we are applying this poll at a relatively late date since we want our \"state fundamentals\" to have some weight. We also fill in the `spread` term in the dictionary by using the `get_spread` model function you defined above. Finally, this model actually has no margin of error. But if we put it in with no such margin, it would outweigh everything else. And since we dont know if we got the fundamentals right, we should be conservative. So we set it to 0.3 times the absolute value of the spread.\n",
    "\n",
    "We create a dataframe `additional_polls`, with the same columns as `multipoll`. "
   ]
  },
  {
   "cell_type": "code",
   "execution_count": 69,
   "metadata": {
    "collapsed": false
   },
   "outputs": [
    {
     "data": {
      "text/html": [
       "<div>\n",
       "<table border=\"1\" class=\"dataframe\">\n",
       "  <thead>\n",
       "    <tr style=\"text-align: right;\">\n",
       "      <th></th>\n",
       "      <th>age_days</th>\n",
       "      <th>chart</th>\n",
       "      <th>d</th>\n",
       "      <th>end_date</th>\n",
       "      <th>incumbent</th>\n",
       "      <th>indic</th>\n",
       "      <th>moe</th>\n",
       "      <th>name</th>\n",
       "      <th>observations</th>\n",
       "      <th>partisan</th>\n",
       "      <th>poll_date</th>\n",
       "      <th>pollster</th>\n",
       "      <th>pvi</th>\n",
       "      <th>r</th>\n",
       "      <th>ridf</th>\n",
       "      <th>spread</th>\n",
       "      <th>start_date</th>\n",
       "      <th>state</th>\n",
       "      <th>subpopulation</th>\n",
       "    </tr>\n",
       "  </thead>\n",
       "  <tbody>\n",
       "    <tr>\n",
       "      <th>0</th>\n",
       "      <td>10</td>\n",
       "      <td>c</td>\n",
       "      <td>-99.9</td>\n",
       "      <td>end</td>\n",
       "      <td>i</td>\n",
       "      <td>0</td>\n",
       "      <td>1.811365</td>\n",
       "      <td>c</td>\n",
       "      <td>100</td>\n",
       "      <td>n</td>\n",
       "      <td></td>\n",
       "      <td>us</td>\n",
       "      <td>6.037885</td>\n",
       "      <td>-99.9</td>\n",
       "      <td>-9.000000</td>\n",
       "      <td>6.037885</td>\n",
       "      <td>start</td>\n",
       "      <td>GA</td>\n",
       "      <td></td>\n",
       "    </tr>\n",
       "    <tr>\n",
       "      <th>1</th>\n",
       "      <td>10</td>\n",
       "      <td>c</td>\n",
       "      <td>-99.9</td>\n",
       "      <td>end</td>\n",
       "      <td>i</td>\n",
       "      <td>1</td>\n",
       "      <td>1.739365</td>\n",
       "      <td>c</td>\n",
       "      <td>100</td>\n",
       "      <td>n</td>\n",
       "      <td></td>\n",
       "      <td>us</td>\n",
       "      <td>-5.962115</td>\n",
       "      <td>-99.9</td>\n",
       "      <td>33.237885</td>\n",
       "      <td>5.797885</td>\n",
       "      <td>start</td>\n",
       "      <td>ME</td>\n",
       "      <td></td>\n",
       "    </tr>\n",
       "    <tr>\n",
       "      <th>2</th>\n",
       "      <td>10</td>\n",
       "      <td>c</td>\n",
       "      <td>-99.9</td>\n",
       "      <td>end</td>\n",
       "      <td>i</td>\n",
       "      <td>1</td>\n",
       "      <td>0.180635</td>\n",
       "      <td>c</td>\n",
       "      <td>100</td>\n",
       "      <td>n</td>\n",
       "      <td></td>\n",
       "      <td>us</td>\n",
       "      <td>-0.962115</td>\n",
       "      <td>-99.9</td>\n",
       "      <td>0.237885</td>\n",
       "      <td>-0.602115</td>\n",
       "      <td>start</td>\n",
       "      <td>CO</td>\n",
       "      <td></td>\n",
       "    </tr>\n",
       "    <tr>\n",
       "      <th>3</th>\n",
       "      <td>10</td>\n",
       "      <td>c</td>\n",
       "      <td>-99.9</td>\n",
       "      <td>end</td>\n",
       "      <td>i</td>\n",
       "      <td>1</td>\n",
       "      <td>3.368365</td>\n",
       "      <td>c</td>\n",
       "      <td>100</td>\n",
       "      <td>n</td>\n",
       "      <td></td>\n",
       "      <td>us</td>\n",
       "      <td>12.037885</td>\n",
       "      <td>-99.9</td>\n",
       "      <td>9.337885</td>\n",
       "      <td>11.227885</td>\n",
       "      <td>start</td>\n",
       "      <td>AK</td>\n",
       "      <td></td>\n",
       "    </tr>\n",
       "    <tr>\n",
       "      <th>4</th>\n",
       "      <td>10</td>\n",
       "      <td>c</td>\n",
       "      <td>-99.9</td>\n",
       "      <td>end</td>\n",
       "      <td>i</td>\n",
       "      <td>0</td>\n",
       "      <td>1.188635</td>\n",
       "      <td>c</td>\n",
       "      <td>100</td>\n",
       "      <td>n</td>\n",
       "      <td></td>\n",
       "      <td>us</td>\n",
       "      <td>-3.962115</td>\n",
       "      <td>-99.9</td>\n",
       "      <td>-9.000000</td>\n",
       "      <td>-3.962115</td>\n",
       "      <td>start</td>\n",
       "      <td>MI</td>\n",
       "      <td></td>\n",
       "    </tr>\n",
       "  </tbody>\n",
       "</table>\n",
       "</div>"
      ],
      "text/plain": [
       "   age_days chart     d end_date incumbent  indic       moe name  observations partisan poll_date pollster        pvi     r       ridf     spread start_date state subpopulation\n",
       "0        10     c -99.9      end         i      0  1.811365    c           100        n                 us   6.037885 -99.9  -9.000000   6.037885      start    GA              \n",
       "1        10     c -99.9      end         i      1  1.739365    c           100        n                 us  -5.962115 -99.9  33.237885   5.797885      start    ME              \n",
       "2        10     c -99.9      end         i      1  0.180635    c           100        n                 us  -0.962115 -99.9   0.237885  -0.602115      start    CO              \n",
       "3        10     c -99.9      end         i      1  3.368365    c           100        n                 us  12.037885 -99.9   9.337885  11.227885      start    AK              \n",
       "4        10     c -99.9      end         i      0  1.188635    c           100        n                 us  -3.962115 -99.9  -9.000000  -3.962115      start    MI              "
      ]
     },
     "execution_count": 69,
     "metadata": {},
     "output_type": "execute_result"
    }
   ],
   "source": [
    "lod=[]\n",
    "for s in multipoll.state.unique():\n",
    "    d=template.copy()\n",
    "    d['state']=s\n",
    "    d['age_days']=10\n",
    "    d['spread']=get_spread(sret(s))\n",
    "    if ridfdict.has_key(sret(s)):\n",
    "        d['ridf']=ridfdict[sret(s)]\n",
    "        d['indic']=1\n",
    "    else:\n",
    "        d['ridf']=-9\n",
    "        d['indic']=0\n",
    "    d['pvi'] = pvidict[sret(s)]\n",
    "    d['moe']=0.3*np.abs(d['spread'])\n",
    "    lod.append(d)\n",
    "additional_polls=pd.DataFrame(lod)\n",
    "additional_polls.head()"
   ]
  },
  {
   "cell_type": "markdown",
   "metadata": {},
   "source": [
    "Now we shall concatenate these additional polls with `multipoll` to obtain a new dataframe `alladded`. We have thus set up our \"regression\" as an additional poll in the data for each state."
   ]
  },
  {
   "cell_type": "code",
   "execution_count": 70,
   "metadata": {
    "collapsed": false
   },
   "outputs": [
    {
     "data": {
      "text/html": [
       "<div>\n",
       "<table border=\"1\" class=\"dataframe\">\n",
       "  <thead>\n",
       "    <tr style=\"text-align: right;\">\n",
       "      <th></th>\n",
       "      <th>age_days</th>\n",
       "      <th>chart</th>\n",
       "      <th>d</th>\n",
       "      <th>end_date</th>\n",
       "      <th>incumbent</th>\n",
       "      <th>indic</th>\n",
       "      <th>moe</th>\n",
       "      <th>name</th>\n",
       "      <th>observations</th>\n",
       "      <th>partisan</th>\n",
       "      <th>poll_date</th>\n",
       "      <th>pollster</th>\n",
       "      <th>pvi</th>\n",
       "      <th>r</th>\n",
       "      <th>ridf</th>\n",
       "      <th>spread</th>\n",
       "      <th>start_date</th>\n",
       "      <th>state</th>\n",
       "      <th>subpopulation</th>\n",
       "    </tr>\n",
       "  </thead>\n",
       "  <tbody>\n",
       "    <tr>\n",
       "      <th>11</th>\n",
       "      <td>1.5</td>\n",
       "      <td>2014-georgia-senate-perdue-vs-nunn</td>\n",
       "      <td>45</td>\n",
       "      <td>2014-11-02 00:00:00</td>\n",
       "      <td>I</td>\n",
       "      <td>NaN</td>\n",
       "      <td>2.60</td>\n",
       "      <td>2014 Georgia Senate: Perdue vs. Nunn</td>\n",
       "      <td>1463</td>\n",
       "      <td>Nonpartisan/None</td>\n",
       "      <td>2014-10-31 12:00:00</td>\n",
       "      <td>InsiderAdvantage/Fox 5 Atlanta/Morris News Ser...</td>\n",
       "      <td>NaN</td>\n",
       "      <td>48</td>\n",
       "      <td>NaN</td>\n",
       "      <td>3</td>\n",
       "      <td>2014-10-30 00:00:00</td>\n",
       "      <td>GA</td>\n",
       "      <td>Likely Voters</td>\n",
       "    </tr>\n",
       "    <tr>\n",
       "      <th>13</th>\n",
       "      <td>1.5</td>\n",
       "      <td>2014-georgia-senate-perdue-vs-nunn</td>\n",
       "      <td>44</td>\n",
       "      <td>2014-11-02 00:00:00</td>\n",
       "      <td>I</td>\n",
       "      <td>NaN</td>\n",
       "      <td>4.10</td>\n",
       "      <td>2014 Georgia Senate: Perdue vs. Nunn</td>\n",
       "      <td>591</td>\n",
       "      <td>Nonpartisan/None</td>\n",
       "      <td>2014-10-31 12:00:00</td>\n",
       "      <td>SurveyUSA/11Alive</td>\n",
       "      <td>NaN</td>\n",
       "      <td>47</td>\n",
       "      <td>NaN</td>\n",
       "      <td>3</td>\n",
       "      <td>2014-10-30 00:00:00</td>\n",
       "      <td>GA</td>\n",
       "      <td>Likely Voters</td>\n",
       "    </tr>\n",
       "    <tr>\n",
       "      <th>16</th>\n",
       "      <td>1.0</td>\n",
       "      <td>2014-maine-senate-collins-vs-bellows</td>\n",
       "      <td>37</td>\n",
       "      <td>2014-11-02 00:00:00</td>\n",
       "      <td>r</td>\n",
       "      <td>NaN</td>\n",
       "      <td>3.25</td>\n",
       "      <td>2014 Maine Senate: Collins vs. Bellows</td>\n",
       "      <td>906</td>\n",
       "      <td>Nonpartisan/None</td>\n",
       "      <td>2014-11-01 00:00:00</td>\n",
       "      <td>MPRC</td>\n",
       "      <td>NaN</td>\n",
       "      <td>57</td>\n",
       "      <td>NaN</td>\n",
       "      <td>20</td>\n",
       "      <td>2014-10-31 00:00:00</td>\n",
       "      <td>ME</td>\n",
       "      <td>Likely Voters</td>\n",
       "    </tr>\n",
       "    <tr>\n",
       "      <th>17</th>\n",
       "      <td>0.5</td>\n",
       "      <td>2014-colorado-senate-gardner-vs-udall</td>\n",
       "      <td>45</td>\n",
       "      <td>2014-11-02 00:00:00</td>\n",
       "      <td>d</td>\n",
       "      <td>NaN</td>\n",
       "      <td>3.60</td>\n",
       "      <td>2014 Colorado Senate: Gardner vs. Udall</td>\n",
       "      <td>739</td>\n",
       "      <td>Sponsor/Dem</td>\n",
       "      <td>2014-11-01 12:00:00</td>\n",
       "      <td>PPP (D)</td>\n",
       "      <td>NaN</td>\n",
       "      <td>48</td>\n",
       "      <td>NaN</td>\n",
       "      <td>3</td>\n",
       "      <td>2014-11-01 00:00:00</td>\n",
       "      <td>CO</td>\n",
       "      <td>Likely Voters</td>\n",
       "    </tr>\n",
       "    <tr>\n",
       "      <th>18</th>\n",
       "      <td>0.5</td>\n",
       "      <td>2014-alaska-senate-sullivan-vs-begich</td>\n",
       "      <td>45</td>\n",
       "      <td>2014-11-02 00:00:00</td>\n",
       "      <td>d</td>\n",
       "      <td>NaN</td>\n",
       "      <td>3.00</td>\n",
       "      <td>2014 Alaska Senate: Sullivan vs. Begich</td>\n",
       "      <td>1052</td>\n",
       "      <td>Pollster/Dem</td>\n",
       "      <td>2014-11-01 12:00:00</td>\n",
       "      <td>PPP (D)</td>\n",
       "      <td>NaN</td>\n",
       "      <td>46</td>\n",
       "      <td>NaN</td>\n",
       "      <td>1</td>\n",
       "      <td>2014-11-01 00:00:00</td>\n",
       "      <td>AK</td>\n",
       "      <td>Likely Voters</td>\n",
       "    </tr>\n",
       "  </tbody>\n",
       "</table>\n",
       "</div>"
      ],
      "text/plain": [
       "    age_days                                  chart   d             end_date incumbent  indic   moe                                     name  observations          partisan            poll_date                                           pollster  pvi   r  ridf  spread           start_date state  subpopulation\n",
       "11       1.5     2014-georgia-senate-perdue-vs-nunn  45  2014-11-02 00:00:00         I    NaN  2.60     2014 Georgia Senate: Perdue vs. Nunn          1463  Nonpartisan/None  2014-10-31 12:00:00  InsiderAdvantage/Fox 5 Atlanta/Morris News Ser...  NaN  48   NaN       3  2014-10-30 00:00:00    GA  Likely Voters\n",
       "13       1.5     2014-georgia-senate-perdue-vs-nunn  44  2014-11-02 00:00:00         I    NaN  4.10     2014 Georgia Senate: Perdue vs. Nunn           591  Nonpartisan/None  2014-10-31 12:00:00                                  SurveyUSA/11Alive  NaN  47   NaN       3  2014-10-30 00:00:00    GA  Likely Voters\n",
       "16       1.0   2014-maine-senate-collins-vs-bellows  37  2014-11-02 00:00:00         r    NaN  3.25   2014 Maine Senate: Collins vs. Bellows           906  Nonpartisan/None  2014-11-01 00:00:00                                               MPRC  NaN  57   NaN      20  2014-10-31 00:00:00    ME  Likely Voters\n",
       "17       0.5  2014-colorado-senate-gardner-vs-udall  45  2014-11-02 00:00:00         d    NaN  3.60  2014 Colorado Senate: Gardner vs. Udall           739       Sponsor/Dem  2014-11-01 12:00:00                                            PPP (D)  NaN  48   NaN       3  2014-11-01 00:00:00    CO  Likely Voters\n",
       "18       0.5  2014-alaska-senate-sullivan-vs-begich  45  2014-11-02 00:00:00         d    NaN  3.00  2014 Alaska Senate: Sullivan vs. Begich          1052      Pollster/Dem  2014-11-01 12:00:00                                            PPP (D)  NaN  46   NaN       1  2014-11-01 00:00:00    AK  Likely Voters"
      ]
     },
     "execution_count": 70,
     "metadata": {},
     "output_type": "execute_result"
    }
   ],
   "source": [
    "alladded = pd.concat([multipoll, additional_polls])\n",
    "alladded.head()"
   ]
  },
  {
   "cell_type": "markdown",
   "metadata": {},
   "source": [
    "###Re-visualize"
   ]
  },
  {
   "cell_type": "markdown",
   "metadata": {},
   "source": [
    "#### 3.3 Calculate a weighted average, simulate from it, and plot as before where our result lies."
   ]
  },
  {
   "cell_type": "markdown",
   "metadata": {},
   "source": [
    "From this point on, you are using the same code as before!. We'll use `weighted_race_average` to add these \"artificial\" polls in with the real ones, and then create a dataframe `alljoined` which merges the results with the output of the `weighted_race_average`. Then run `aggregate_poll_model` and `simulate_election` to produce a histogram as before. Do we do any better? (It will be easiest to see this if you plot the histogram of the `weighted_distrib` here as well."
   ]
  },
  {
   "cell_type": "code",
   "execution_count": 71,
   "metadata": {
    "collapsed": false
   },
   "outputs": [
    {
     "data": {
      "text/plain": [
       "<matplotlib.lines.Line2D at 0x10b28ff10>"
      ]
     },
     "execution_count": 71,
     "metadata": {},
     "output_type": "execute_result"
    },
    {
     "data": {
      "image/png": "[encoded data removed]",
      "text/plain": [
       "<matplotlib.figure.Figure at 0x10ce8c7d0>"
      ]
     },
     "metadata": {},
     "output_type": "display_data"
    }
   ],
   "source": [
    "#your code here\n",
    "allweighted=weighted_race_average(alladded)\n",
    "alljoined = pd.merge(resudf[['state', 'winrepub', 'spread']], allweighted, on=[\"state\"])\n",
    "\n",
    "allpollprobs=aggregated_poll_model(allweighted)\n",
    "\n",
    "alldistrib, allsimelec=simulate_election(allpollprobs, 10000)\n",
    "plt.hist(alldistrib, alpha=0.5, normed=True);\n",
    "plt.hist(weighted_distrib, alpha=0.4, normed=True)\n",
    "plt.axvline(rwinresults, color='r')"
   ]
  },
  {
   "cell_type": "markdown",
   "metadata": {},
   "source": [
    "#### 3.4 Now Compare the individual results, just like before"
   ]
  },
  {
   "cell_type": "markdown",
   "metadata": {},
   "source": [
    "Make a plot similar to Question 1.8 to look at the individual results for the state races and comment on the results."
   ]
  },
  {
   "cell_type": "code",
   "execution_count": 72,
   "metadata": {
    "collapsed": false
   },
   "outputs": [
    {
     "data": {
      "image/png": "[encoded data removed]",
      "text/plain": [
       "<matplotlib.figure.Figure at 0x10ce83410>"
      ]
     },
     "metadata": {},
     "output_type": "display_data"
    }
   ],
   "source": [
    "#your code here\n",
    "c0=sns.color_palette()[0]\n",
    "c1=sns.color_palette()[1]\n",
    "c2=sns.color_palette()[2]\n",
    "rmap={0:c0, 1:c2}\n",
    "plt.figure(figsize=(24,10))\n",
    "plt.scatter(alljoined.index, alljoined.spread, label=\"actual-spread\", s=80, c=[rmap[e] for e in alljoined.winrepub]);\n",
    "plt.plot(alljoined.index, alljoined.poll_mean, 'o', label=\"estimated\", alpha=0.5, color=c1);\n",
    "plt.fill_between(alljoined.index, alljoined.poll_mean+1.96*alljoined.poll_std, alljoined.poll_mean-1.96*alljoined.poll_std, alpha=0.3, color=c1)\n",
    "plt.xticks(alljoined.index, alljoined.state);"
   ]
  },
  {
   "cell_type": "markdown",
   "metadata": {},
   "source": [
    "Are our polls doing much better? Can you point out some of the biases we managed to handle? What are some things that still need improvement?"
   ]
  },
  {
   "cell_type": "markdown",
   "metadata": {},
   "source": [
    "*your answer here*\n",
    "\n",
    "Overall the Republican-voting states seemed to get a fairer treatment (meaning closer predictions) after incorporating Incumbency and PVI, this led to much better predictions, i.e. as a closer tracking of the actual results. "
   ]
  },
  {
   "cell_type": "markdown",
   "metadata": {},
   "source": [
    "Give some thought as to how you might have used incumbency and partisan voting from previous years to have actually calculated the relative weights of the two features. (You dont have to hand this in, but think about it). "
   ]
  },
  {
   "cell_type": "markdown",
   "metadata": {},
   "source": [
    "And at this point you ought to read [this article](http://fivethirtyeight.com/features/how-the-fivethirtyeight-senate-forecast-model-works/) on how the [professionals](http://fivethirtyeight.com/contributors/nate-silver/) over at FiveThirtyEight do it. We've tried to give you a flavor of the calculations involved, and hope to see you soon make more sophisticated analyses."
   ]
  },
  {
   "cell_type": "markdown",
   "metadata": {},
   "source": [
    "## Q4. Write a newspaper article about the senate election"
   ]
  },
  {
   "cell_type": "markdown",
   "metadata": {},
   "source": [
    "Imagine you just finished your analysis of the election and put your iPython notebook online on your blog. An editor of the New York Times calls you and invites you to write a 750 word (max.) article for them, including 3 charts. You are of course more than happy to do so, especially since you are eager to use your newly acquired knowledge about communication and story telling from this course. As a bonus your article will count towards your grade for this homework.\n",
    "\n",
    "The article should:\n",
    "\n",
    "- be max. 750 words long, including 3 charts\n",
    "- be appropriate for the audience of the New York Times (NOT a technical audience)\n",
    "- tell a story with a beginning, middle, and end\n",
    "- have effective visualizations with clear labels, callouts, and captions that support your story\n",
    "- clearly state your main question(s) and findings in the title and first paragraph\n",
    "- establish a context for this work\n",
    "- tell the reader why they should care\n",
    "- describe your major insights from your analysis, supported by your charts\n",
    "- surprise the reader with an insight they may not have expected\n",
    "- end with a mention of potential future work\n",
    "\n",
    "Use the analysis we have carried out in the notebook, and plots from here. Make sure your charts are properly labelled and clean. You might want to experiment with colors, chartjunk removal, seaborn settings, etc. You can drag plots to your desktop to save them as png files, but then make sure you copy them into the hw2 branch of your repository.\n",
    "\n",
    "It should be written in markdown and saved as `article.md` in your hw2 branch. We will look for and grade a file of that name. Github will render markdown files directly in the github user interface.\n",
    "\n",
    "You can write the article in a cell here, which is an easy way to use or use any editor with markdown or text support. Most have a specific language mode for markdown these days, but markdown is foremost plain text so even textedit or notepad would do. If you want something more wysiwyggy, Typora on the Mac is one of my favorites.\n",
    "\n",
    "Here is an article on Markdown at github: https://guides.github.com/features/mastering-markdown/. Feel free to use any github extensions since we are going to be reading those on github."
   ]
  }
 ],
 "metadata": {
  "kernelspec": {
   "display_name": "Python 2",
   "language": "python",
   "name": "python2"
  },
  "language_info": {
   "codemirror_mode": {
    "name": "ipython",
    "version": 2
   },
   "file_extension": ".py",
   "mimetype": "text/x-python",
   "name": "python",
   "nbconvert_exporter": "python",
   "pygments_lexer": "ipython2",
   "version": "2.7.10"
  }
 },
 "nbformat": 4,
 "nbformat_minor": 0
}
